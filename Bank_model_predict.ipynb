{
 "cells": [
  {
   "cell_type": "markdown",
   "metadata": {},
   "source": [
    "<h1>Instrucciones del proyecto</h1>\n",
    "<h2>Descarga y prepara los datos.  Explica el procedimiento.</h2>\n",
    "\n"
   ]
  },
  {
   "cell_type": "code",
   "execution_count": 1,
   "metadata": {},
   "outputs": [],
   "source": [
    "import pandas as pd\n",
    "from sklearn.model_selection import train_test_split\n",
    "from sklearn.utils import shuffle\n",
    "from sklearn.linear_model import LogisticRegression\n",
    "from sklearn.metrics import f1_score\n",
    "from sklearn.tree import DecisionTreeClassifier\n",
    "from sklearn.ensemble import RandomForestClassifier\n",
    "from sklearn.metrics import accuracy_score, confusion_matrix, classification_report\n",
    "from sklearn.metrics import roc_auc_score\n",
    "import matplotlib.pyplot as plt\n",
    "from sklearn.metrics import roc_curve\n",
    "from sklearn.metrics import recall_score\n",
    "from sklearn.metrics import precision_score\n",
    "import seaborn as sns\n",
    "import numpy as np"
   ]
  },
  {
   "cell_type": "markdown",
   "metadata": {},
   "source": [
    "<B><FONT color=blue> SE IMPORTAN LOS DATOS PARA SU ANALISIS </FONT></B>"
   ]
  },
  {
   "cell_type": "code",
   "execution_count": 2,
   "metadata": {},
   "outputs": [],
   "source": [
    "data = pd.read_csv('/datasets/Churn.csv')"
   ]
  },
  {
   "cell_type": "code",
   "execution_count": 3,
   "metadata": {},
   "outputs": [
    {
     "name": "stdout",
     "output_type": "stream",
     "text": [
      "<class 'pandas.core.frame.DataFrame'>\n",
      "RangeIndex: 10000 entries, 0 to 9999\n",
      "Data columns (total 14 columns):\n",
      " #   Column           Non-Null Count  Dtype  \n",
      "---  ------           --------------  -----  \n",
      " 0   RowNumber        10000 non-null  int64  \n",
      " 1   CustomerId       10000 non-null  int64  \n",
      " 2   Surname          10000 non-null  object \n",
      " 3   CreditScore      10000 non-null  int64  \n",
      " 4   Geography        10000 non-null  object \n",
      " 5   Gender           10000 non-null  object \n",
      " 6   Age              10000 non-null  int64  \n",
      " 7   Tenure           9091 non-null   float64\n",
      " 8   Balance          10000 non-null  float64\n",
      " 9   NumOfProducts    10000 non-null  int64  \n",
      " 10  HasCrCard        10000 non-null  int64  \n",
      " 11  IsActiveMember   10000 non-null  int64  \n",
      " 12  EstimatedSalary  10000 non-null  float64\n",
      " 13  Exited           10000 non-null  int64  \n",
      "dtypes: float64(3), int64(8), object(3)\n",
      "memory usage: 1.1+ MB\n"
     ]
    }
   ],
   "source": [
    "data.info()"
   ]
  },
  {
   "cell_type": "markdown",
   "metadata": {},
   "source": [
    "<B><FONT color=blue> HAY DATOS AUSENTES EN LA COLUMNA LLAMADA TENURE </FONT></B>"
   ]
  },
  {
   "cell_type": "code",
   "execution_count": 4,
   "metadata": {},
   "outputs": [
    {
     "data": {
      "text/html": [
       "<div>\n",
       "<style scoped>\n",
       "    .dataframe tbody tr th:only-of-type {\n",
       "        vertical-align: middle;\n",
       "    }\n",
       "\n",
       "    .dataframe tbody tr th {\n",
       "        vertical-align: top;\n",
       "    }\n",
       "\n",
       "    .dataframe thead th {\n",
       "        text-align: right;\n",
       "    }\n",
       "</style>\n",
       "<table border=\"1\" class=\"dataframe\">\n",
       "  <thead>\n",
       "    <tr style=\"text-align: right;\">\n",
       "      <th></th>\n",
       "      <th>RowNumber</th>\n",
       "      <th>CustomerId</th>\n",
       "      <th>Surname</th>\n",
       "      <th>CreditScore</th>\n",
       "      <th>Geography</th>\n",
       "      <th>Gender</th>\n",
       "      <th>Age</th>\n",
       "      <th>Tenure</th>\n",
       "      <th>Balance</th>\n",
       "      <th>NumOfProducts</th>\n",
       "      <th>HasCrCard</th>\n",
       "      <th>IsActiveMember</th>\n",
       "      <th>EstimatedSalary</th>\n",
       "      <th>Exited</th>\n",
       "    </tr>\n",
       "  </thead>\n",
       "  <tbody>\n",
       "    <tr>\n",
       "      <th>30</th>\n",
       "      <td>31</td>\n",
       "      <td>15589475</td>\n",
       "      <td>Azikiwe</td>\n",
       "      <td>591</td>\n",
       "      <td>Spain</td>\n",
       "      <td>Female</td>\n",
       "      <td>39</td>\n",
       "      <td>NaN</td>\n",
       "      <td>0.00</td>\n",
       "      <td>3</td>\n",
       "      <td>1</td>\n",
       "      <td>0</td>\n",
       "      <td>140469.38</td>\n",
       "      <td>1</td>\n",
       "    </tr>\n",
       "    <tr>\n",
       "      <th>48</th>\n",
       "      <td>49</td>\n",
       "      <td>15766205</td>\n",
       "      <td>Yin</td>\n",
       "      <td>550</td>\n",
       "      <td>Germany</td>\n",
       "      <td>Male</td>\n",
       "      <td>38</td>\n",
       "      <td>NaN</td>\n",
       "      <td>103391.38</td>\n",
       "      <td>1</td>\n",
       "      <td>0</td>\n",
       "      <td>1</td>\n",
       "      <td>90878.13</td>\n",
       "      <td>0</td>\n",
       "    </tr>\n",
       "    <tr>\n",
       "      <th>51</th>\n",
       "      <td>52</td>\n",
       "      <td>15768193</td>\n",
       "      <td>Trevisani</td>\n",
       "      <td>585</td>\n",
       "      <td>Germany</td>\n",
       "      <td>Male</td>\n",
       "      <td>36</td>\n",
       "      <td>NaN</td>\n",
       "      <td>146050.97</td>\n",
       "      <td>2</td>\n",
       "      <td>0</td>\n",
       "      <td>0</td>\n",
       "      <td>86424.57</td>\n",
       "      <td>0</td>\n",
       "    </tr>\n",
       "    <tr>\n",
       "      <th>53</th>\n",
       "      <td>54</td>\n",
       "      <td>15702298</td>\n",
       "      <td>Parkhill</td>\n",
       "      <td>655</td>\n",
       "      <td>Germany</td>\n",
       "      <td>Male</td>\n",
       "      <td>41</td>\n",
       "      <td>NaN</td>\n",
       "      <td>125561.97</td>\n",
       "      <td>1</td>\n",
       "      <td>0</td>\n",
       "      <td>0</td>\n",
       "      <td>164040.94</td>\n",
       "      <td>1</td>\n",
       "    </tr>\n",
       "    <tr>\n",
       "      <th>60</th>\n",
       "      <td>61</td>\n",
       "      <td>15651280</td>\n",
       "      <td>Hunter</td>\n",
       "      <td>742</td>\n",
       "      <td>Germany</td>\n",
       "      <td>Male</td>\n",
       "      <td>35</td>\n",
       "      <td>NaN</td>\n",
       "      <td>136857.00</td>\n",
       "      <td>1</td>\n",
       "      <td>0</td>\n",
       "      <td>0</td>\n",
       "      <td>84509.57</td>\n",
       "      <td>0</td>\n",
       "    </tr>\n",
       "    <tr>\n",
       "      <th>...</th>\n",
       "      <td>...</td>\n",
       "      <td>...</td>\n",
       "      <td>...</td>\n",
       "      <td>...</td>\n",
       "      <td>...</td>\n",
       "      <td>...</td>\n",
       "      <td>...</td>\n",
       "      <td>...</td>\n",
       "      <td>...</td>\n",
       "      <td>...</td>\n",
       "      <td>...</td>\n",
       "      <td>...</td>\n",
       "      <td>...</td>\n",
       "      <td>...</td>\n",
       "    </tr>\n",
       "    <tr>\n",
       "      <th>9944</th>\n",
       "      <td>9945</td>\n",
       "      <td>15703923</td>\n",
       "      <td>Cameron</td>\n",
       "      <td>744</td>\n",
       "      <td>Germany</td>\n",
       "      <td>Male</td>\n",
       "      <td>41</td>\n",
       "      <td>NaN</td>\n",
       "      <td>190409.34</td>\n",
       "      <td>2</td>\n",
       "      <td>1</td>\n",
       "      <td>1</td>\n",
       "      <td>138361.48</td>\n",
       "      <td>0</td>\n",
       "    </tr>\n",
       "    <tr>\n",
       "      <th>9956</th>\n",
       "      <td>9957</td>\n",
       "      <td>15707861</td>\n",
       "      <td>Nucci</td>\n",
       "      <td>520</td>\n",
       "      <td>France</td>\n",
       "      <td>Female</td>\n",
       "      <td>46</td>\n",
       "      <td>NaN</td>\n",
       "      <td>85216.61</td>\n",
       "      <td>1</td>\n",
       "      <td>1</td>\n",
       "      <td>0</td>\n",
       "      <td>117369.52</td>\n",
       "      <td>1</td>\n",
       "    </tr>\n",
       "    <tr>\n",
       "      <th>9964</th>\n",
       "      <td>9965</td>\n",
       "      <td>15642785</td>\n",
       "      <td>Douglas</td>\n",
       "      <td>479</td>\n",
       "      <td>France</td>\n",
       "      <td>Male</td>\n",
       "      <td>34</td>\n",
       "      <td>NaN</td>\n",
       "      <td>117593.48</td>\n",
       "      <td>2</td>\n",
       "      <td>0</td>\n",
       "      <td>0</td>\n",
       "      <td>113308.29</td>\n",
       "      <td>0</td>\n",
       "    </tr>\n",
       "    <tr>\n",
       "      <th>9985</th>\n",
       "      <td>9986</td>\n",
       "      <td>15586914</td>\n",
       "      <td>Nepean</td>\n",
       "      <td>659</td>\n",
       "      <td>France</td>\n",
       "      <td>Male</td>\n",
       "      <td>36</td>\n",
       "      <td>NaN</td>\n",
       "      <td>123841.49</td>\n",
       "      <td>2</td>\n",
       "      <td>1</td>\n",
       "      <td>0</td>\n",
       "      <td>96833.00</td>\n",
       "      <td>0</td>\n",
       "    </tr>\n",
       "    <tr>\n",
       "      <th>9999</th>\n",
       "      <td>10000</td>\n",
       "      <td>15628319</td>\n",
       "      <td>Walker</td>\n",
       "      <td>792</td>\n",
       "      <td>France</td>\n",
       "      <td>Female</td>\n",
       "      <td>28</td>\n",
       "      <td>NaN</td>\n",
       "      <td>130142.79</td>\n",
       "      <td>1</td>\n",
       "      <td>1</td>\n",
       "      <td>0</td>\n",
       "      <td>38190.78</td>\n",
       "      <td>0</td>\n",
       "    </tr>\n",
       "  </tbody>\n",
       "</table>\n",
       "<p>909 rows × 14 columns</p>\n",
       "</div>"
      ],
      "text/plain": [
       "      RowNumber  CustomerId    Surname  CreditScore Geography  Gender  Age  \\\n",
       "30           31    15589475    Azikiwe          591     Spain  Female   39   \n",
       "48           49    15766205        Yin          550   Germany    Male   38   \n",
       "51           52    15768193  Trevisani          585   Germany    Male   36   \n",
       "53           54    15702298   Parkhill          655   Germany    Male   41   \n",
       "60           61    15651280     Hunter          742   Germany    Male   35   \n",
       "...         ...         ...        ...          ...       ...     ...  ...   \n",
       "9944       9945    15703923    Cameron          744   Germany    Male   41   \n",
       "9956       9957    15707861      Nucci          520    France  Female   46   \n",
       "9964       9965    15642785    Douglas          479    France    Male   34   \n",
       "9985       9986    15586914     Nepean          659    France    Male   36   \n",
       "9999      10000    15628319     Walker          792    France  Female   28   \n",
       "\n",
       "      Tenure    Balance  NumOfProducts  HasCrCard  IsActiveMember  \\\n",
       "30       NaN       0.00              3          1               0   \n",
       "48       NaN  103391.38              1          0               1   \n",
       "51       NaN  146050.97              2          0               0   \n",
       "53       NaN  125561.97              1          0               0   \n",
       "60       NaN  136857.00              1          0               0   \n",
       "...      ...        ...            ...        ...             ...   \n",
       "9944     NaN  190409.34              2          1               1   \n",
       "9956     NaN   85216.61              1          1               0   \n",
       "9964     NaN  117593.48              2          0               0   \n",
       "9985     NaN  123841.49              2          1               0   \n",
       "9999     NaN  130142.79              1          1               0   \n",
       "\n",
       "      EstimatedSalary  Exited  \n",
       "30          140469.38       1  \n",
       "48           90878.13       0  \n",
       "51           86424.57       0  \n",
       "53          164040.94       1  \n",
       "60           84509.57       0  \n",
       "...               ...     ...  \n",
       "9944        138361.48       0  \n",
       "9956        117369.52       1  \n",
       "9964        113308.29       0  \n",
       "9985         96833.00       0  \n",
       "9999         38190.78       0  \n",
       "\n",
       "[909 rows x 14 columns]"
      ]
     },
     "execution_count": 4,
     "metadata": {},
     "output_type": "execute_result"
    }
   ],
   "source": [
    "data[data['Tenure'].isna()]"
   ]
  },
  {
   "cell_type": "code",
   "execution_count": 5,
   "metadata": {},
   "outputs": [
    {
     "name": "stdout",
     "output_type": "stream",
     "text": [
      "<class 'pandas.core.frame.DataFrame'>\n",
      "RangeIndex: 10000 entries, 0 to 9999\n",
      "Data columns (total 14 columns):\n",
      " #   Column           Non-Null Count  Dtype  \n",
      "---  ------           --------------  -----  \n",
      " 0   RowNumber        10000 non-null  int64  \n",
      " 1   CustomerId       10000 non-null  int64  \n",
      " 2   Surname          10000 non-null  object \n",
      " 3   CreditScore      10000 non-null  int64  \n",
      " 4   Geography        10000 non-null  object \n",
      " 5   Gender           10000 non-null  object \n",
      " 6   Age              10000 non-null  int64  \n",
      " 7   Tenure           10000 non-null  float64\n",
      " 8   Balance          10000 non-null  float64\n",
      " 9   NumOfProducts    10000 non-null  int64  \n",
      " 10  HasCrCard        10000 non-null  int64  \n",
      " 11  IsActiveMember   10000 non-null  int64  \n",
      " 12  EstimatedSalary  10000 non-null  float64\n",
      " 13  Exited           10000 non-null  int64  \n",
      "dtypes: float64(3), int64(8), object(3)\n",
      "memory usage: 1.1+ MB\n"
     ]
    }
   ],
   "source": [
    "data=data.fillna(0)\n",
    "data.info()"
   ]
  },
  {
   "cell_type": "code",
   "execution_count": 6,
   "metadata": {},
   "outputs": [
    {
     "data": {
      "text/html": [
       "<div>\n",
       "<style scoped>\n",
       "    .dataframe tbody tr th:only-of-type {\n",
       "        vertical-align: middle;\n",
       "    }\n",
       "\n",
       "    .dataframe tbody tr th {\n",
       "        vertical-align: top;\n",
       "    }\n",
       "\n",
       "    .dataframe thead th {\n",
       "        text-align: right;\n",
       "    }\n",
       "</style>\n",
       "<table border=\"1\" class=\"dataframe\">\n",
       "  <thead>\n",
       "    <tr style=\"text-align: right;\">\n",
       "      <th></th>\n",
       "      <th>RowNumber</th>\n",
       "      <th>CustomerId</th>\n",
       "      <th>Surname</th>\n",
       "      <th>CreditScore</th>\n",
       "      <th>Geography</th>\n",
       "      <th>Gender</th>\n",
       "      <th>Age</th>\n",
       "      <th>Tenure</th>\n",
       "      <th>Balance</th>\n",
       "      <th>NumOfProducts</th>\n",
       "      <th>HasCrCard</th>\n",
       "      <th>IsActiveMember</th>\n",
       "      <th>EstimatedSalary</th>\n",
       "      <th>Exited</th>\n",
       "    </tr>\n",
       "  </thead>\n",
       "  <tbody>\n",
       "    <tr>\n",
       "      <th>29</th>\n",
       "      <td>30</td>\n",
       "      <td>15656300</td>\n",
       "      <td>Lucciano</td>\n",
       "      <td>411</td>\n",
       "      <td>France</td>\n",
       "      <td>Male</td>\n",
       "      <td>29</td>\n",
       "      <td>0.0</td>\n",
       "      <td>59697.17</td>\n",
       "      <td>2</td>\n",
       "      <td>1</td>\n",
       "      <td>1</td>\n",
       "      <td>53483.21</td>\n",
       "      <td>0</td>\n",
       "    </tr>\n",
       "    <tr>\n",
       "      <th>30</th>\n",
       "      <td>31</td>\n",
       "      <td>15589475</td>\n",
       "      <td>Azikiwe</td>\n",
       "      <td>591</td>\n",
       "      <td>Spain</td>\n",
       "      <td>Female</td>\n",
       "      <td>39</td>\n",
       "      <td>0.0</td>\n",
       "      <td>0.00</td>\n",
       "      <td>3</td>\n",
       "      <td>1</td>\n",
       "      <td>0</td>\n",
       "      <td>140469.38</td>\n",
       "      <td>1</td>\n",
       "    </tr>\n",
       "    <tr>\n",
       "      <th>35</th>\n",
       "      <td>36</td>\n",
       "      <td>15794171</td>\n",
       "      <td>Lombardo</td>\n",
       "      <td>475</td>\n",
       "      <td>France</td>\n",
       "      <td>Female</td>\n",
       "      <td>45</td>\n",
       "      <td>0.0</td>\n",
       "      <td>134264.04</td>\n",
       "      <td>1</td>\n",
       "      <td>1</td>\n",
       "      <td>0</td>\n",
       "      <td>27822.99</td>\n",
       "      <td>1</td>\n",
       "    </tr>\n",
       "    <tr>\n",
       "      <th>48</th>\n",
       "      <td>49</td>\n",
       "      <td>15766205</td>\n",
       "      <td>Yin</td>\n",
       "      <td>550</td>\n",
       "      <td>Germany</td>\n",
       "      <td>Male</td>\n",
       "      <td>38</td>\n",
       "      <td>0.0</td>\n",
       "      <td>103391.38</td>\n",
       "      <td>1</td>\n",
       "      <td>0</td>\n",
       "      <td>1</td>\n",
       "      <td>90878.13</td>\n",
       "      <td>0</td>\n",
       "    </tr>\n",
       "    <tr>\n",
       "      <th>51</th>\n",
       "      <td>52</td>\n",
       "      <td>15768193</td>\n",
       "      <td>Trevisani</td>\n",
       "      <td>585</td>\n",
       "      <td>Germany</td>\n",
       "      <td>Male</td>\n",
       "      <td>36</td>\n",
       "      <td>0.0</td>\n",
       "      <td>146050.97</td>\n",
       "      <td>2</td>\n",
       "      <td>0</td>\n",
       "      <td>0</td>\n",
       "      <td>86424.57</td>\n",
       "      <td>0</td>\n",
       "    </tr>\n",
       "    <tr>\n",
       "      <th>...</th>\n",
       "      <td>...</td>\n",
       "      <td>...</td>\n",
       "      <td>...</td>\n",
       "      <td>...</td>\n",
       "      <td>...</td>\n",
       "      <td>...</td>\n",
       "      <td>...</td>\n",
       "      <td>...</td>\n",
       "      <td>...</td>\n",
       "      <td>...</td>\n",
       "      <td>...</td>\n",
       "      <td>...</td>\n",
       "      <td>...</td>\n",
       "      <td>...</td>\n",
       "    </tr>\n",
       "    <tr>\n",
       "      <th>9944</th>\n",
       "      <td>9945</td>\n",
       "      <td>15703923</td>\n",
       "      <td>Cameron</td>\n",
       "      <td>744</td>\n",
       "      <td>Germany</td>\n",
       "      <td>Male</td>\n",
       "      <td>41</td>\n",
       "      <td>0.0</td>\n",
       "      <td>190409.34</td>\n",
       "      <td>2</td>\n",
       "      <td>1</td>\n",
       "      <td>1</td>\n",
       "      <td>138361.48</td>\n",
       "      <td>0</td>\n",
       "    </tr>\n",
       "    <tr>\n",
       "      <th>9956</th>\n",
       "      <td>9957</td>\n",
       "      <td>15707861</td>\n",
       "      <td>Nucci</td>\n",
       "      <td>520</td>\n",
       "      <td>France</td>\n",
       "      <td>Female</td>\n",
       "      <td>46</td>\n",
       "      <td>0.0</td>\n",
       "      <td>85216.61</td>\n",
       "      <td>1</td>\n",
       "      <td>1</td>\n",
       "      <td>0</td>\n",
       "      <td>117369.52</td>\n",
       "      <td>1</td>\n",
       "    </tr>\n",
       "    <tr>\n",
       "      <th>9964</th>\n",
       "      <td>9965</td>\n",
       "      <td>15642785</td>\n",
       "      <td>Douglas</td>\n",
       "      <td>479</td>\n",
       "      <td>France</td>\n",
       "      <td>Male</td>\n",
       "      <td>34</td>\n",
       "      <td>0.0</td>\n",
       "      <td>117593.48</td>\n",
       "      <td>2</td>\n",
       "      <td>0</td>\n",
       "      <td>0</td>\n",
       "      <td>113308.29</td>\n",
       "      <td>0</td>\n",
       "    </tr>\n",
       "    <tr>\n",
       "      <th>9985</th>\n",
       "      <td>9986</td>\n",
       "      <td>15586914</td>\n",
       "      <td>Nepean</td>\n",
       "      <td>659</td>\n",
       "      <td>France</td>\n",
       "      <td>Male</td>\n",
       "      <td>36</td>\n",
       "      <td>0.0</td>\n",
       "      <td>123841.49</td>\n",
       "      <td>2</td>\n",
       "      <td>1</td>\n",
       "      <td>0</td>\n",
       "      <td>96833.00</td>\n",
       "      <td>0</td>\n",
       "    </tr>\n",
       "    <tr>\n",
       "      <th>9999</th>\n",
       "      <td>10000</td>\n",
       "      <td>15628319</td>\n",
       "      <td>Walker</td>\n",
       "      <td>792</td>\n",
       "      <td>France</td>\n",
       "      <td>Female</td>\n",
       "      <td>28</td>\n",
       "      <td>0.0</td>\n",
       "      <td>130142.79</td>\n",
       "      <td>1</td>\n",
       "      <td>1</td>\n",
       "      <td>0</td>\n",
       "      <td>38190.78</td>\n",
       "      <td>0</td>\n",
       "    </tr>\n",
       "  </tbody>\n",
       "</table>\n",
       "<p>1291 rows × 14 columns</p>\n",
       "</div>"
      ],
      "text/plain": [
       "      RowNumber  CustomerId    Surname  CreditScore Geography  Gender  Age  \\\n",
       "29           30    15656300   Lucciano          411    France    Male   29   \n",
       "30           31    15589475    Azikiwe          591     Spain  Female   39   \n",
       "35           36    15794171   Lombardo          475    France  Female   45   \n",
       "48           49    15766205        Yin          550   Germany    Male   38   \n",
       "51           52    15768193  Trevisani          585   Germany    Male   36   \n",
       "...         ...         ...        ...          ...       ...     ...  ...   \n",
       "9944       9945    15703923    Cameron          744   Germany    Male   41   \n",
       "9956       9957    15707861      Nucci          520    France  Female   46   \n",
       "9964       9965    15642785    Douglas          479    France    Male   34   \n",
       "9985       9986    15586914     Nepean          659    France    Male   36   \n",
       "9999      10000    15628319     Walker          792    France  Female   28   \n",
       "\n",
       "      Tenure    Balance  NumOfProducts  HasCrCard  IsActiveMember  \\\n",
       "29       0.0   59697.17              2          1               1   \n",
       "30       0.0       0.00              3          1               0   \n",
       "35       0.0  134264.04              1          1               0   \n",
       "48       0.0  103391.38              1          0               1   \n",
       "51       0.0  146050.97              2          0               0   \n",
       "...      ...        ...            ...        ...             ...   \n",
       "9944     0.0  190409.34              2          1               1   \n",
       "9956     0.0   85216.61              1          1               0   \n",
       "9964     0.0  117593.48              2          0               0   \n",
       "9985     0.0  123841.49              2          1               0   \n",
       "9999     0.0  130142.79              1          1               0   \n",
       "\n",
       "      EstimatedSalary  Exited  \n",
       "29           53483.21       0  \n",
       "30          140469.38       1  \n",
       "35           27822.99       1  \n",
       "48           90878.13       0  \n",
       "51           86424.57       0  \n",
       "...               ...     ...  \n",
       "9944        138361.48       0  \n",
       "9956        117369.52       1  \n",
       "9964        113308.29       0  \n",
       "9985         96833.00       0  \n",
       "9999         38190.78       0  \n",
       "\n",
       "[1291 rows x 14 columns]"
      ]
     },
     "execution_count": 6,
     "metadata": {},
     "output_type": "execute_result"
    }
   ],
   "source": [
    "data[data['Tenure']==0]"
   ]
  },
  {
   "cell_type": "markdown",
   "metadata": {},
   "source": [
    "<B><FONT color=blue> SE RELLENAN LOS DATOS DE TENURE CON 0.0 YA QUE NO AFECTA EL PROCESAMIENTO POSTERIOR </FONT></B>"
   ]
  },
  {
   "cell_type": "code",
   "execution_count": 7,
   "metadata": {},
   "outputs": [
    {
     "data": {
      "text/html": [
       "<div>\n",
       "<style scoped>\n",
       "    .dataframe tbody tr th:only-of-type {\n",
       "        vertical-align: middle;\n",
       "    }\n",
       "\n",
       "    .dataframe tbody tr th {\n",
       "        vertical-align: top;\n",
       "    }\n",
       "\n",
       "    .dataframe thead th {\n",
       "        text-align: right;\n",
       "    }\n",
       "</style>\n",
       "<table border=\"1\" class=\"dataframe\">\n",
       "  <thead>\n",
       "    <tr style=\"text-align: right;\">\n",
       "      <th></th>\n",
       "      <th>RowNumber</th>\n",
       "      <th>CustomerId</th>\n",
       "      <th>Surname</th>\n",
       "      <th>CreditScore</th>\n",
       "      <th>Geography</th>\n",
       "      <th>Gender</th>\n",
       "      <th>Age</th>\n",
       "      <th>Tenure</th>\n",
       "      <th>Balance</th>\n",
       "      <th>NumOfProducts</th>\n",
       "      <th>HasCrCard</th>\n",
       "      <th>IsActiveMember</th>\n",
       "      <th>EstimatedSalary</th>\n",
       "      <th>Exited</th>\n",
       "    </tr>\n",
       "  </thead>\n",
       "  <tbody>\n",
       "    <tr>\n",
       "      <th>3180</th>\n",
       "      <td>3181</td>\n",
       "      <td>15750447</td>\n",
       "      <td>Ozoemena</td>\n",
       "      <td>678</td>\n",
       "      <td>France</td>\n",
       "      <td>Female</td>\n",
       "      <td>60</td>\n",
       "      <td>10.0</td>\n",
       "      <td>117738.81</td>\n",
       "      <td>1</td>\n",
       "      <td>1</td>\n",
       "      <td>0</td>\n",
       "      <td>147489.76</td>\n",
       "      <td>1</td>\n",
       "    </tr>\n",
       "    <tr>\n",
       "      <th>839</th>\n",
       "      <td>840</td>\n",
       "      <td>15727915</td>\n",
       "      <td>Artemiev</td>\n",
       "      <td>507</td>\n",
       "      <td>France</td>\n",
       "      <td>Male</td>\n",
       "      <td>36</td>\n",
       "      <td>4.0</td>\n",
       "      <td>83543.37</td>\n",
       "      <td>1</td>\n",
       "      <td>0</td>\n",
       "      <td>0</td>\n",
       "      <td>140134.43</td>\n",
       "      <td>0</td>\n",
       "    </tr>\n",
       "    <tr>\n",
       "      <th>9201</th>\n",
       "      <td>9202</td>\n",
       "      <td>15788183</td>\n",
       "      <td>Longo</td>\n",
       "      <td>458</td>\n",
       "      <td>Germany</td>\n",
       "      <td>Female</td>\n",
       "      <td>43</td>\n",
       "      <td>1.0</td>\n",
       "      <td>106870.12</td>\n",
       "      <td>2</td>\n",
       "      <td>1</td>\n",
       "      <td>0</td>\n",
       "      <td>100564.37</td>\n",
       "      <td>0</td>\n",
       "    </tr>\n",
       "    <tr>\n",
       "      <th>1241</th>\n",
       "      <td>1242</td>\n",
       "      <td>15760774</td>\n",
       "      <td>Hargraves</td>\n",
       "      <td>519</td>\n",
       "      <td>France</td>\n",
       "      <td>Female</td>\n",
       "      <td>21</td>\n",
       "      <td>1.0</td>\n",
       "      <td>146329.57</td>\n",
       "      <td>2</td>\n",
       "      <td>1</td>\n",
       "      <td>1</td>\n",
       "      <td>194867.27</td>\n",
       "      <td>0</td>\n",
       "    </tr>\n",
       "    <tr>\n",
       "      <th>2733</th>\n",
       "      <td>2734</td>\n",
       "      <td>15641480</td>\n",
       "      <td>Sinnett</td>\n",
       "      <td>571</td>\n",
       "      <td>France</td>\n",
       "      <td>Male</td>\n",
       "      <td>32</td>\n",
       "      <td>5.0</td>\n",
       "      <td>131354.25</td>\n",
       "      <td>1</td>\n",
       "      <td>1</td>\n",
       "      <td>0</td>\n",
       "      <td>125256.53</td>\n",
       "      <td>0</td>\n",
       "    </tr>\n",
       "  </tbody>\n",
       "</table>\n",
       "</div>"
      ],
      "text/plain": [
       "      RowNumber  CustomerId    Surname  CreditScore Geography  Gender  Age  \\\n",
       "3180       3181    15750447   Ozoemena          678    France  Female   60   \n",
       "839         840    15727915   Artemiev          507    France    Male   36   \n",
       "9201       9202    15788183      Longo          458   Germany  Female   43   \n",
       "1241       1242    15760774  Hargraves          519    France  Female   21   \n",
       "2733       2734    15641480    Sinnett          571    France    Male   32   \n",
       "\n",
       "      Tenure    Balance  NumOfProducts  HasCrCard  IsActiveMember  \\\n",
       "3180    10.0  117738.81              1          1               0   \n",
       "839      4.0   83543.37              1          0               0   \n",
       "9201     1.0  106870.12              2          1               0   \n",
       "1241     1.0  146329.57              2          1               1   \n",
       "2733     5.0  131354.25              1          1               0   \n",
       "\n",
       "      EstimatedSalary  Exited  \n",
       "3180        147489.76       1  \n",
       "839         140134.43       0  \n",
       "9201        100564.37       0  \n",
       "1241        194867.27       0  \n",
       "2733        125256.53       0  "
      ]
     },
     "execution_count": 7,
     "metadata": {},
     "output_type": "execute_result"
    }
   ],
   "source": [
    "data.sample(5)"
   ]
  },
  {
   "cell_type": "markdown",
   "metadata": {},
   "source": [
    "<B><FONT color=blue> SE ANALIZAN LOS DATOS DE LAS COLUMNAS </FONT></B>"
   ]
  },
  {
   "cell_type": "code",
   "execution_count": 8,
   "metadata": {},
   "outputs": [
    {
     "data": {
      "text/html": [
       "<div>\n",
       "<style scoped>\n",
       "    .dataframe tbody tr th:only-of-type {\n",
       "        vertical-align: middle;\n",
       "    }\n",
       "\n",
       "    .dataframe tbody tr th {\n",
       "        vertical-align: top;\n",
       "    }\n",
       "\n",
       "    .dataframe thead th {\n",
       "        text-align: right;\n",
       "    }\n",
       "</style>\n",
       "<table border=\"1\" class=\"dataframe\">\n",
       "  <thead>\n",
       "    <tr style=\"text-align: right;\">\n",
       "      <th></th>\n",
       "      <th>CustomerId</th>\n",
       "      <th>CreditScore</th>\n",
       "      <th>Gender</th>\n",
       "      <th>Age</th>\n",
       "      <th>Tenure</th>\n",
       "      <th>Balance</th>\n",
       "      <th>NumOfProducts</th>\n",
       "      <th>HasCrCard</th>\n",
       "      <th>IsActiveMember</th>\n",
       "      <th>EstimatedSalary</th>\n",
       "      <th>Exited</th>\n",
       "    </tr>\n",
       "  </thead>\n",
       "  <tbody>\n",
       "    <tr>\n",
       "      <th>0</th>\n",
       "      <td>15634602</td>\n",
       "      <td>619</td>\n",
       "      <td>Female</td>\n",
       "      <td>42</td>\n",
       "      <td>2.0</td>\n",
       "      <td>0.00</td>\n",
       "      <td>1</td>\n",
       "      <td>1</td>\n",
       "      <td>1</td>\n",
       "      <td>101348.88</td>\n",
       "      <td>1</td>\n",
       "    </tr>\n",
       "    <tr>\n",
       "      <th>1</th>\n",
       "      <td>15647311</td>\n",
       "      <td>608</td>\n",
       "      <td>Female</td>\n",
       "      <td>41</td>\n",
       "      <td>1.0</td>\n",
       "      <td>83807.86</td>\n",
       "      <td>1</td>\n",
       "      <td>0</td>\n",
       "      <td>1</td>\n",
       "      <td>112542.58</td>\n",
       "      <td>0</td>\n",
       "    </tr>\n",
       "    <tr>\n",
       "      <th>2</th>\n",
       "      <td>15619304</td>\n",
       "      <td>502</td>\n",
       "      <td>Female</td>\n",
       "      <td>42</td>\n",
       "      <td>8.0</td>\n",
       "      <td>159660.80</td>\n",
       "      <td>3</td>\n",
       "      <td>1</td>\n",
       "      <td>0</td>\n",
       "      <td>113931.57</td>\n",
       "      <td>1</td>\n",
       "    </tr>\n",
       "    <tr>\n",
       "      <th>3</th>\n",
       "      <td>15701354</td>\n",
       "      <td>699</td>\n",
       "      <td>Female</td>\n",
       "      <td>39</td>\n",
       "      <td>1.0</td>\n",
       "      <td>0.00</td>\n",
       "      <td>2</td>\n",
       "      <td>0</td>\n",
       "      <td>0</td>\n",
       "      <td>93826.63</td>\n",
       "      <td>0</td>\n",
       "    </tr>\n",
       "    <tr>\n",
       "      <th>4</th>\n",
       "      <td>15737888</td>\n",
       "      <td>850</td>\n",
       "      <td>Female</td>\n",
       "      <td>43</td>\n",
       "      <td>2.0</td>\n",
       "      <td>125510.82</td>\n",
       "      <td>1</td>\n",
       "      <td>1</td>\n",
       "      <td>1</td>\n",
       "      <td>79084.10</td>\n",
       "      <td>0</td>\n",
       "    </tr>\n",
       "    <tr>\n",
       "      <th>...</th>\n",
       "      <td>...</td>\n",
       "      <td>...</td>\n",
       "      <td>...</td>\n",
       "      <td>...</td>\n",
       "      <td>...</td>\n",
       "      <td>...</td>\n",
       "      <td>...</td>\n",
       "      <td>...</td>\n",
       "      <td>...</td>\n",
       "      <td>...</td>\n",
       "      <td>...</td>\n",
       "    </tr>\n",
       "    <tr>\n",
       "      <th>9995</th>\n",
       "      <td>15606229</td>\n",
       "      <td>771</td>\n",
       "      <td>Male</td>\n",
       "      <td>39</td>\n",
       "      <td>5.0</td>\n",
       "      <td>0.00</td>\n",
       "      <td>2</td>\n",
       "      <td>1</td>\n",
       "      <td>0</td>\n",
       "      <td>96270.64</td>\n",
       "      <td>0</td>\n",
       "    </tr>\n",
       "    <tr>\n",
       "      <th>9996</th>\n",
       "      <td>15569892</td>\n",
       "      <td>516</td>\n",
       "      <td>Male</td>\n",
       "      <td>35</td>\n",
       "      <td>10.0</td>\n",
       "      <td>57369.61</td>\n",
       "      <td>1</td>\n",
       "      <td>1</td>\n",
       "      <td>1</td>\n",
       "      <td>101699.77</td>\n",
       "      <td>0</td>\n",
       "    </tr>\n",
       "    <tr>\n",
       "      <th>9997</th>\n",
       "      <td>15584532</td>\n",
       "      <td>709</td>\n",
       "      <td>Female</td>\n",
       "      <td>36</td>\n",
       "      <td>7.0</td>\n",
       "      <td>0.00</td>\n",
       "      <td>1</td>\n",
       "      <td>0</td>\n",
       "      <td>1</td>\n",
       "      <td>42085.58</td>\n",
       "      <td>1</td>\n",
       "    </tr>\n",
       "    <tr>\n",
       "      <th>9998</th>\n",
       "      <td>15682355</td>\n",
       "      <td>772</td>\n",
       "      <td>Male</td>\n",
       "      <td>42</td>\n",
       "      <td>3.0</td>\n",
       "      <td>75075.31</td>\n",
       "      <td>2</td>\n",
       "      <td>1</td>\n",
       "      <td>0</td>\n",
       "      <td>92888.52</td>\n",
       "      <td>1</td>\n",
       "    </tr>\n",
       "    <tr>\n",
       "      <th>9999</th>\n",
       "      <td>15628319</td>\n",
       "      <td>792</td>\n",
       "      <td>Female</td>\n",
       "      <td>28</td>\n",
       "      <td>0.0</td>\n",
       "      <td>130142.79</td>\n",
       "      <td>1</td>\n",
       "      <td>1</td>\n",
       "      <td>0</td>\n",
       "      <td>38190.78</td>\n",
       "      <td>0</td>\n",
       "    </tr>\n",
       "  </tbody>\n",
       "</table>\n",
       "<p>10000 rows × 11 columns</p>\n",
       "</div>"
      ],
      "text/plain": [
       "      CustomerId  CreditScore  Gender  Age  Tenure    Balance  NumOfProducts  \\\n",
       "0       15634602          619  Female   42     2.0       0.00              1   \n",
       "1       15647311          608  Female   41     1.0   83807.86              1   \n",
       "2       15619304          502  Female   42     8.0  159660.80              3   \n",
       "3       15701354          699  Female   39     1.0       0.00              2   \n",
       "4       15737888          850  Female   43     2.0  125510.82              1   \n",
       "...          ...          ...     ...  ...     ...        ...            ...   \n",
       "9995    15606229          771    Male   39     5.0       0.00              2   \n",
       "9996    15569892          516    Male   35    10.0   57369.61              1   \n",
       "9997    15584532          709  Female   36     7.0       0.00              1   \n",
       "9998    15682355          772    Male   42     3.0   75075.31              2   \n",
       "9999    15628319          792  Female   28     0.0  130142.79              1   \n",
       "\n",
       "      HasCrCard  IsActiveMember  EstimatedSalary  Exited  \n",
       "0             1               1        101348.88       1  \n",
       "1             0               1        112542.58       0  \n",
       "2             1               0        113931.57       1  \n",
       "3             0               0         93826.63       0  \n",
       "4             1               1         79084.10       0  \n",
       "...         ...             ...              ...     ...  \n",
       "9995          1               0         96270.64       0  \n",
       "9996          1               1        101699.77       0  \n",
       "9997          0               1         42085.58       1  \n",
       "9998          1               0         92888.52       1  \n",
       "9999          1               0         38190.78       0  \n",
       "\n",
       "[10000 rows x 11 columns]"
      ]
     },
     "execution_count": 8,
     "metadata": {},
     "output_type": "execute_result"
    }
   ],
   "source": [
    "data_1=data.drop(columns=['RowNumber','Surname','Geography'])\n",
    "data_1"
   ]
  },
  {
   "cell_type": "markdown",
   "metadata": {},
   "source": [
    "<B><FONT color=blue> SE DECIDE REMOVER LAS COLUMNAS : ROWNUMBER, SURNAME, GEOGRAPHY YA QUE NO APORTAN MUCHA INFORMACION PARA LA PREDICCIÓN  </FONT></B>"
   ]
  },
  {
   "cell_type": "code",
   "execution_count": 9,
   "metadata": {},
   "outputs": [],
   "source": [
    "data_ohe=pd.get_dummies(data_1, drop_first=True)"
   ]
  },
  {
   "cell_type": "markdown",
   "metadata": {},
   "source": [
    "<B><FONT color=blue> YA QUE SE HA REMOVIDO SE DECIDE EMPLEAR EL ONE HOT ENCODING PARA PODER MANIPULAR LOS DATOS  </FONT></B>"
   ]
  },
  {
   "cell_type": "code",
   "execution_count": 10,
   "metadata": {},
   "outputs": [
    {
     "data": {
      "text/html": [
       "<div>\n",
       "<style scoped>\n",
       "    .dataframe tbody tr th:only-of-type {\n",
       "        vertical-align: middle;\n",
       "    }\n",
       "\n",
       "    .dataframe tbody tr th {\n",
       "        vertical-align: top;\n",
       "    }\n",
       "\n",
       "    .dataframe thead th {\n",
       "        text-align: right;\n",
       "    }\n",
       "</style>\n",
       "<table border=\"1\" class=\"dataframe\">\n",
       "  <thead>\n",
       "    <tr style=\"text-align: right;\">\n",
       "      <th></th>\n",
       "      <th>CustomerId</th>\n",
       "      <th>CreditScore</th>\n",
       "      <th>Age</th>\n",
       "      <th>Tenure</th>\n",
       "      <th>Balance</th>\n",
       "      <th>NumOfProducts</th>\n",
       "      <th>HasCrCard</th>\n",
       "      <th>IsActiveMember</th>\n",
       "      <th>EstimatedSalary</th>\n",
       "      <th>Exited</th>\n",
       "      <th>Gender_Male</th>\n",
       "    </tr>\n",
       "  </thead>\n",
       "  <tbody>\n",
       "    <tr>\n",
       "      <th>0</th>\n",
       "      <td>15634602</td>\n",
       "      <td>619</td>\n",
       "      <td>42</td>\n",
       "      <td>2.0</td>\n",
       "      <td>0.00</td>\n",
       "      <td>1</td>\n",
       "      <td>1</td>\n",
       "      <td>1</td>\n",
       "      <td>101348.88</td>\n",
       "      <td>1</td>\n",
       "      <td>0</td>\n",
       "    </tr>\n",
       "    <tr>\n",
       "      <th>1</th>\n",
       "      <td>15647311</td>\n",
       "      <td>608</td>\n",
       "      <td>41</td>\n",
       "      <td>1.0</td>\n",
       "      <td>83807.86</td>\n",
       "      <td>1</td>\n",
       "      <td>0</td>\n",
       "      <td>1</td>\n",
       "      <td>112542.58</td>\n",
       "      <td>0</td>\n",
       "      <td>0</td>\n",
       "    </tr>\n",
       "    <tr>\n",
       "      <th>2</th>\n",
       "      <td>15619304</td>\n",
       "      <td>502</td>\n",
       "      <td>42</td>\n",
       "      <td>8.0</td>\n",
       "      <td>159660.80</td>\n",
       "      <td>3</td>\n",
       "      <td>1</td>\n",
       "      <td>0</td>\n",
       "      <td>113931.57</td>\n",
       "      <td>1</td>\n",
       "      <td>0</td>\n",
       "    </tr>\n",
       "    <tr>\n",
       "      <th>3</th>\n",
       "      <td>15701354</td>\n",
       "      <td>699</td>\n",
       "      <td>39</td>\n",
       "      <td>1.0</td>\n",
       "      <td>0.00</td>\n",
       "      <td>2</td>\n",
       "      <td>0</td>\n",
       "      <td>0</td>\n",
       "      <td>93826.63</td>\n",
       "      <td>0</td>\n",
       "      <td>0</td>\n",
       "    </tr>\n",
       "    <tr>\n",
       "      <th>4</th>\n",
       "      <td>15737888</td>\n",
       "      <td>850</td>\n",
       "      <td>43</td>\n",
       "      <td>2.0</td>\n",
       "      <td>125510.82</td>\n",
       "      <td>1</td>\n",
       "      <td>1</td>\n",
       "      <td>1</td>\n",
       "      <td>79084.10</td>\n",
       "      <td>0</td>\n",
       "      <td>0</td>\n",
       "    </tr>\n",
       "    <tr>\n",
       "      <th>...</th>\n",
       "      <td>...</td>\n",
       "      <td>...</td>\n",
       "      <td>...</td>\n",
       "      <td>...</td>\n",
       "      <td>...</td>\n",
       "      <td>...</td>\n",
       "      <td>...</td>\n",
       "      <td>...</td>\n",
       "      <td>...</td>\n",
       "      <td>...</td>\n",
       "      <td>...</td>\n",
       "    </tr>\n",
       "    <tr>\n",
       "      <th>9995</th>\n",
       "      <td>15606229</td>\n",
       "      <td>771</td>\n",
       "      <td>39</td>\n",
       "      <td>5.0</td>\n",
       "      <td>0.00</td>\n",
       "      <td>2</td>\n",
       "      <td>1</td>\n",
       "      <td>0</td>\n",
       "      <td>96270.64</td>\n",
       "      <td>0</td>\n",
       "      <td>1</td>\n",
       "    </tr>\n",
       "    <tr>\n",
       "      <th>9996</th>\n",
       "      <td>15569892</td>\n",
       "      <td>516</td>\n",
       "      <td>35</td>\n",
       "      <td>10.0</td>\n",
       "      <td>57369.61</td>\n",
       "      <td>1</td>\n",
       "      <td>1</td>\n",
       "      <td>1</td>\n",
       "      <td>101699.77</td>\n",
       "      <td>0</td>\n",
       "      <td>1</td>\n",
       "    </tr>\n",
       "    <tr>\n",
       "      <th>9997</th>\n",
       "      <td>15584532</td>\n",
       "      <td>709</td>\n",
       "      <td>36</td>\n",
       "      <td>7.0</td>\n",
       "      <td>0.00</td>\n",
       "      <td>1</td>\n",
       "      <td>0</td>\n",
       "      <td>1</td>\n",
       "      <td>42085.58</td>\n",
       "      <td>1</td>\n",
       "      <td>0</td>\n",
       "    </tr>\n",
       "    <tr>\n",
       "      <th>9998</th>\n",
       "      <td>15682355</td>\n",
       "      <td>772</td>\n",
       "      <td>42</td>\n",
       "      <td>3.0</td>\n",
       "      <td>75075.31</td>\n",
       "      <td>2</td>\n",
       "      <td>1</td>\n",
       "      <td>0</td>\n",
       "      <td>92888.52</td>\n",
       "      <td>1</td>\n",
       "      <td>1</td>\n",
       "    </tr>\n",
       "    <tr>\n",
       "      <th>9999</th>\n",
       "      <td>15628319</td>\n",
       "      <td>792</td>\n",
       "      <td>28</td>\n",
       "      <td>0.0</td>\n",
       "      <td>130142.79</td>\n",
       "      <td>1</td>\n",
       "      <td>1</td>\n",
       "      <td>0</td>\n",
       "      <td>38190.78</td>\n",
       "      <td>0</td>\n",
       "      <td>0</td>\n",
       "    </tr>\n",
       "  </tbody>\n",
       "</table>\n",
       "<p>10000 rows × 11 columns</p>\n",
       "</div>"
      ],
      "text/plain": [
       "      CustomerId  CreditScore  Age  Tenure    Balance  NumOfProducts  \\\n",
       "0       15634602          619   42     2.0       0.00              1   \n",
       "1       15647311          608   41     1.0   83807.86              1   \n",
       "2       15619304          502   42     8.0  159660.80              3   \n",
       "3       15701354          699   39     1.0       0.00              2   \n",
       "4       15737888          850   43     2.0  125510.82              1   \n",
       "...          ...          ...  ...     ...        ...            ...   \n",
       "9995    15606229          771   39     5.0       0.00              2   \n",
       "9996    15569892          516   35    10.0   57369.61              1   \n",
       "9997    15584532          709   36     7.0       0.00              1   \n",
       "9998    15682355          772   42     3.0   75075.31              2   \n",
       "9999    15628319          792   28     0.0  130142.79              1   \n",
       "\n",
       "      HasCrCard  IsActiveMember  EstimatedSalary  Exited  Gender_Male  \n",
       "0             1               1        101348.88       1            0  \n",
       "1             0               1        112542.58       0            0  \n",
       "2             1               0        113931.57       1            0  \n",
       "3             0               0         93826.63       0            0  \n",
       "4             1               1         79084.10       0            0  \n",
       "...         ...             ...              ...     ...          ...  \n",
       "9995          1               0         96270.64       0            1  \n",
       "9996          1               1        101699.77       0            1  \n",
       "9997          0               1         42085.58       1            0  \n",
       "9998          1               0         92888.52       1            1  \n",
       "9999          1               0         38190.78       0            0  \n",
       "\n",
       "[10000 rows x 11 columns]"
      ]
     },
     "execution_count": 10,
     "metadata": {},
     "output_type": "execute_result"
    }
   ],
   "source": [
    "data_ohe"
   ]
  },
  {
   "cell_type": "code",
   "execution_count": 11,
   "metadata": {},
   "outputs": [],
   "source": [
    "target_ohe = data_ohe['Exited']\n",
    "features_ohe = data_ohe.drop('Exited', axis=1)"
   ]
  },
  {
   "cell_type": "code",
   "execution_count": 12,
   "metadata": {},
   "outputs": [
    {
     "data": {
      "text/html": [
       "<div>\n",
       "<style scoped>\n",
       "    .dataframe tbody tr th:only-of-type {\n",
       "        vertical-align: middle;\n",
       "    }\n",
       "\n",
       "    .dataframe tbody tr th {\n",
       "        vertical-align: top;\n",
       "    }\n",
       "\n",
       "    .dataframe thead th {\n",
       "        text-align: right;\n",
       "    }\n",
       "</style>\n",
       "<table border=\"1\" class=\"dataframe\">\n",
       "  <thead>\n",
       "    <tr style=\"text-align: right;\">\n",
       "      <th></th>\n",
       "      <th>CustomerId</th>\n",
       "      <th>CreditScore</th>\n",
       "      <th>Age</th>\n",
       "      <th>Tenure</th>\n",
       "      <th>Balance</th>\n",
       "      <th>NumOfProducts</th>\n",
       "      <th>HasCrCard</th>\n",
       "      <th>IsActiveMember</th>\n",
       "      <th>EstimatedSalary</th>\n",
       "      <th>Gender_Male</th>\n",
       "    </tr>\n",
       "  </thead>\n",
       "  <tbody>\n",
       "    <tr>\n",
       "      <th>0</th>\n",
       "      <td>15634602</td>\n",
       "      <td>619</td>\n",
       "      <td>42</td>\n",
       "      <td>2.0</td>\n",
       "      <td>0.00</td>\n",
       "      <td>1</td>\n",
       "      <td>1</td>\n",
       "      <td>1</td>\n",
       "      <td>101348.88</td>\n",
       "      <td>0</td>\n",
       "    </tr>\n",
       "    <tr>\n",
       "      <th>1</th>\n",
       "      <td>15647311</td>\n",
       "      <td>608</td>\n",
       "      <td>41</td>\n",
       "      <td>1.0</td>\n",
       "      <td>83807.86</td>\n",
       "      <td>1</td>\n",
       "      <td>0</td>\n",
       "      <td>1</td>\n",
       "      <td>112542.58</td>\n",
       "      <td>0</td>\n",
       "    </tr>\n",
       "    <tr>\n",
       "      <th>2</th>\n",
       "      <td>15619304</td>\n",
       "      <td>502</td>\n",
       "      <td>42</td>\n",
       "      <td>8.0</td>\n",
       "      <td>159660.80</td>\n",
       "      <td>3</td>\n",
       "      <td>1</td>\n",
       "      <td>0</td>\n",
       "      <td>113931.57</td>\n",
       "      <td>0</td>\n",
       "    </tr>\n",
       "    <tr>\n",
       "      <th>3</th>\n",
       "      <td>15701354</td>\n",
       "      <td>699</td>\n",
       "      <td>39</td>\n",
       "      <td>1.0</td>\n",
       "      <td>0.00</td>\n",
       "      <td>2</td>\n",
       "      <td>0</td>\n",
       "      <td>0</td>\n",
       "      <td>93826.63</td>\n",
       "      <td>0</td>\n",
       "    </tr>\n",
       "    <tr>\n",
       "      <th>4</th>\n",
       "      <td>15737888</td>\n",
       "      <td>850</td>\n",
       "      <td>43</td>\n",
       "      <td>2.0</td>\n",
       "      <td>125510.82</td>\n",
       "      <td>1</td>\n",
       "      <td>1</td>\n",
       "      <td>1</td>\n",
       "      <td>79084.10</td>\n",
       "      <td>0</td>\n",
       "    </tr>\n",
       "    <tr>\n",
       "      <th>...</th>\n",
       "      <td>...</td>\n",
       "      <td>...</td>\n",
       "      <td>...</td>\n",
       "      <td>...</td>\n",
       "      <td>...</td>\n",
       "      <td>...</td>\n",
       "      <td>...</td>\n",
       "      <td>...</td>\n",
       "      <td>...</td>\n",
       "      <td>...</td>\n",
       "    </tr>\n",
       "    <tr>\n",
       "      <th>9995</th>\n",
       "      <td>15606229</td>\n",
       "      <td>771</td>\n",
       "      <td>39</td>\n",
       "      <td>5.0</td>\n",
       "      <td>0.00</td>\n",
       "      <td>2</td>\n",
       "      <td>1</td>\n",
       "      <td>0</td>\n",
       "      <td>96270.64</td>\n",
       "      <td>1</td>\n",
       "    </tr>\n",
       "    <tr>\n",
       "      <th>9996</th>\n",
       "      <td>15569892</td>\n",
       "      <td>516</td>\n",
       "      <td>35</td>\n",
       "      <td>10.0</td>\n",
       "      <td>57369.61</td>\n",
       "      <td>1</td>\n",
       "      <td>1</td>\n",
       "      <td>1</td>\n",
       "      <td>101699.77</td>\n",
       "      <td>1</td>\n",
       "    </tr>\n",
       "    <tr>\n",
       "      <th>9997</th>\n",
       "      <td>15584532</td>\n",
       "      <td>709</td>\n",
       "      <td>36</td>\n",
       "      <td>7.0</td>\n",
       "      <td>0.00</td>\n",
       "      <td>1</td>\n",
       "      <td>0</td>\n",
       "      <td>1</td>\n",
       "      <td>42085.58</td>\n",
       "      <td>0</td>\n",
       "    </tr>\n",
       "    <tr>\n",
       "      <th>9998</th>\n",
       "      <td>15682355</td>\n",
       "      <td>772</td>\n",
       "      <td>42</td>\n",
       "      <td>3.0</td>\n",
       "      <td>75075.31</td>\n",
       "      <td>2</td>\n",
       "      <td>1</td>\n",
       "      <td>0</td>\n",
       "      <td>92888.52</td>\n",
       "      <td>1</td>\n",
       "    </tr>\n",
       "    <tr>\n",
       "      <th>9999</th>\n",
       "      <td>15628319</td>\n",
       "      <td>792</td>\n",
       "      <td>28</td>\n",
       "      <td>0.0</td>\n",
       "      <td>130142.79</td>\n",
       "      <td>1</td>\n",
       "      <td>1</td>\n",
       "      <td>0</td>\n",
       "      <td>38190.78</td>\n",
       "      <td>0</td>\n",
       "    </tr>\n",
       "  </tbody>\n",
       "</table>\n",
       "<p>10000 rows × 10 columns</p>\n",
       "</div>"
      ],
      "text/plain": [
       "      CustomerId  CreditScore  Age  Tenure    Balance  NumOfProducts  \\\n",
       "0       15634602          619   42     2.0       0.00              1   \n",
       "1       15647311          608   41     1.0   83807.86              1   \n",
       "2       15619304          502   42     8.0  159660.80              3   \n",
       "3       15701354          699   39     1.0       0.00              2   \n",
       "4       15737888          850   43     2.0  125510.82              1   \n",
       "...          ...          ...  ...     ...        ...            ...   \n",
       "9995    15606229          771   39     5.0       0.00              2   \n",
       "9996    15569892          516   35    10.0   57369.61              1   \n",
       "9997    15584532          709   36     7.0       0.00              1   \n",
       "9998    15682355          772   42     3.0   75075.31              2   \n",
       "9999    15628319          792   28     0.0  130142.79              1   \n",
       "\n",
       "      HasCrCard  IsActiveMember  EstimatedSalary  Gender_Male  \n",
       "0             1               1        101348.88            0  \n",
       "1             0               1        112542.58            0  \n",
       "2             1               0        113931.57            0  \n",
       "3             0               0         93826.63            0  \n",
       "4             1               1         79084.10            0  \n",
       "...         ...             ...              ...          ...  \n",
       "9995          1               0         96270.64            1  \n",
       "9996          1               1        101699.77            1  \n",
       "9997          0               1         42085.58            0  \n",
       "9998          1               0         92888.52            1  \n",
       "9999          1               0         38190.78            0  \n",
       "\n",
       "[10000 rows x 10 columns]"
      ]
     },
     "execution_count": 12,
     "metadata": {},
     "output_type": "execute_result"
    }
   ],
   "source": [
    "features_ohe"
   ]
  },
  {
   "cell_type": "code",
   "execution_count": 13,
   "metadata": {},
   "outputs": [
    {
     "data": {
      "text/plain": [
       "0       1\n",
       "1       0\n",
       "2       1\n",
       "3       0\n",
       "4       0\n",
       "       ..\n",
       "9995    0\n",
       "9996    0\n",
       "9997    1\n",
       "9998    1\n",
       "9999    0\n",
       "Name: Exited, Length: 10000, dtype: int64"
      ]
     },
     "execution_count": 13,
     "metadata": {},
     "output_type": "execute_result"
    }
   ],
   "source": [
    "target_ohe"
   ]
  },
  {
   "cell_type": "markdown",
   "metadata": {},
   "source": [
    "<B><FONT color=blue> SE SEGMENTAN LOS DATOS DE DATA_OHE EN TARGET_OHE  Y FEATURES_OHE </FONT></B>"
   ]
  },
  {
   "cell_type": "markdown",
   "metadata": {},
   "source": [
    "<h2>Examina el equilibrio de clases. Entrena el modelo sin tener en cuenta el desequilibrio. Describe brevemente tus hallazgos.</h2>"
   ]
  },
  {
   "cell_type": "code",
   "execution_count": 14,
   "metadata": {},
   "outputs": [],
   "source": [
    "features_train, features_valid, target_train, target_valid = train_test_split(\n",
    "    features_ohe, target_ohe, test_size=0.25, random_state=12345)\n",
    "features_train_2,features_test, target_train_2, target_test = train_test_split(\n",
    "    features_ohe, target_ohe, test_size=0.25, random_state=12345)"
   ]
  },
  {
   "cell_type": "markdown",
   "metadata": {},
   "source": [
    "<b><FONT color=blue>SEPARAR DATOS POR CLASE</B>"
   ]
  },
  {
   "cell_type": "code",
   "execution_count": 15,
   "metadata": {},
   "outputs": [
    {
     "data": {
      "text/plain": [
       "0    7963\n",
       "1    2037\n",
       "Name: Exited, dtype: int64"
      ]
     },
     "execution_count": 15,
     "metadata": {},
     "output_type": "execute_result"
    }
   ],
   "source": [
    "data_ohe['Exited'].value_counts()"
   ]
  },
  {
   "cell_type": "markdown",
   "metadata": {},
   "source": [
    "<b><FONT color=blue>SOBREMUESTREO</B>\n"
   ]
  },
  {
   "cell_type": "code",
   "execution_count": 16,
   "metadata": {},
   "outputs": [],
   "source": [
    "features_zeros = features_train[target_train == 0]\n",
    "features_ones = features_train[target_train == 1]\n",
    "target_zeros = target_train[target_train == 0]\n",
    "target_ones = target_train[target_train == 1]"
   ]
  },
  {
   "cell_type": "code",
   "execution_count": 17,
   "metadata": {},
   "outputs": [],
   "source": [
    "features_upsampled = pd.concat([features_zeros] + [features_ones] * 3)\n",
    "target_upsampled = pd.concat([target_zeros] + [target_ones] * 3)"
   ]
  },
  {
   "cell_type": "code",
   "execution_count": 18,
   "metadata": {},
   "outputs": [
    {
     "data": {
      "text/plain": [
       "(10504,)"
      ]
     },
     "execution_count": 18,
     "metadata": {},
     "output_type": "execute_result"
    }
   ],
   "source": [
    "target_upsampled.shape"
   ]
  },
  {
   "cell_type": "code",
   "execution_count": 19,
   "metadata": {},
   "outputs": [],
   "source": [
    " features_upsampled, target_upsampled = shuffle(features_upsampled, target_upsampled, random_state=12345)"
   ]
  },
  {
   "cell_type": "code",
   "execution_count": 20,
   "metadata": {},
   "outputs": [
    {
     "name": "stdout",
     "output_type": "stream",
     "text": [
      "      CustomerId  CreditScore  Age  Tenure    Balance  NumOfProducts  \\\n",
      "4990    15802857          659   33     8.0  115409.60              1   \n",
      "3660    15736431          494   27     2.0       0.00              2   \n",
      "8127    15623063          651   35     8.0  110067.71              1   \n",
      "9998    15682355          772   42     3.0   75075.31              2   \n",
      "2320    15775888          593   38     5.0   85626.60              1   \n",
      "...          ...          ...  ...     ...        ...            ...   \n",
      "8646    15792726          470   25     8.0  127974.06              2   \n",
      "3159    15680587          834   23     4.0  131254.81              1   \n",
      "3169    15688172          677   40     5.0       0.00              2   \n",
      "2897    15664150          528   29     0.0  170214.23              2   \n",
      "8513    15740602          674   27     4.0  111568.01              1   \n",
      "\n",
      "      HasCrCard  IsActiveMember  EstimatedSalary  Gender_Male  \n",
      "4990          0               1          1539.21            0  \n",
      "3660          1               0         22404.64            1  \n",
      "8127          1               0        127678.95            1  \n",
      "9998          1               0         92888.52            1  \n",
      "2320          1               1        125079.65            0  \n",
      "...         ...             ...              ...          ...  \n",
      "8646          1               1        183259.35            0  \n",
      "3159          1               0         20199.30            1  \n",
      "3169          1               0         88947.56            1  \n",
      "2897          1               0         49284.00            0  \n",
      "8513          0               1         22026.18            0  \n",
      "\n",
      "[10504 rows x 10 columns]\n",
      "4990    0\n",
      "3660    0\n",
      "8127    1\n",
      "9998    1\n",
      "2320    0\n",
      "       ..\n",
      "8646    0\n",
      "3159    0\n",
      "3169    0\n",
      "2897    0\n",
      "8513    0\n",
      "Name: Exited, Length: 10504, dtype: int64\n"
     ]
    }
   ],
   "source": [
    "print(features_upsampled)\n",
    "print(target_upsampled)\n"
   ]
  },
  {
   "cell_type": "code",
   "execution_count": 21,
   "metadata": {},
   "outputs": [],
   "source": [
    "model_up= LogisticRegression(random_state=12345, solver='liblinear')\n",
    "model_up.fit(features_upsampled,target_upsampled)\n",
    "predicted_valid_up=model_up.predict(features_valid)\n"
   ]
  },
  {
   "cell_type": "code",
   "execution_count": 22,
   "metadata": {},
   "outputs": [
    {
     "name": "stdout",
     "output_type": "stream",
     "text": [
      "Matriz de confusion upsampled:\n",
      " [[1614  351]\n",
      " [ 436   99]]\n",
      "Recall score upsampled:  0.18504672897196262\n",
      "Precision score upsampled:  0.22\n",
      "F1 score upsampled:  0.20101522842639594\n"
     ]
    },
    {
     "data": {
      "image/png": "[encoded data removed]",
      "text/plain": [
       "<Figure size 640x480 with 2 Axes>"
      ]
     },
     "metadata": {},
     "output_type": "display_data"
    }
   ],
   "source": [
    "cnf_matrix_up=confusion_matrix(target_valid,predicted_valid_up)\n",
    "print(\"Matriz de confusion upsampled:\\n\",confusion_matrix(target_valid,predicted_valid_up))\n",
    "sns.heatmap(cnf_matrix_up/np.sum(cnf_matrix_up), annot=True, \n",
    "            fmt='.2%', cmap='Blues')\n",
    "print(\"Recall score upsampled: \",recall_score(target_valid,predicted_valid_up))\n",
    "print(\"Precision score upsampled: \",precision_score(target_valid,predicted_valid_up))\n",
    "print(\"F1 score upsampled: \",f1_score(target_valid,predicted_valid_up))"
   ]
  },
  {
   "cell_type": "code",
   "execution_count": 23,
   "metadata": {},
   "outputs": [
    {
     "name": "stdout",
     "output_type": "stream",
     "text": [
      "0.5596014363510975\n"
     ]
    }
   ],
   "source": [
    "probabilities_valid_up_s = model_up.predict_proba(features_valid)\n",
    "probabilities_one_valid_up = probabilities_valid_up_s[:, 1]\n",
    "auc_roc_up=roc_auc_score(target_valid, probabilities_one_valid_up)\n",
    "print(auc_roc_up)"
   ]
  },
  {
   "cell_type": "code",
   "execution_count": 24,
   "metadata": {},
   "outputs": [
    {
     "data": {
      "image/png": "[encoded data removed]",
      "text/plain": [
       "<Figure size 640x480 with 1 Axes>"
      ]
     },
     "metadata": {},
     "output_type": "display_data"
    }
   ],
   "source": [
    "fup, tup, thresholds_up = roc_curve(target_valid,probabilities_one_valid_up)\n",
    "\n",
    "plt.figure()\n",
    "plt.plot(fup, tup)\n",
    "\n",
    "plt.xlim([0.0, 1.0])\n",
    "plt.ylim([0.0, 1.0])\n",
    "\n",
    "plt.xlabel('Tasa de falsos positivos')\n",
    "plt.ylabel('Tasa de verdaderos positivos')\n",
    "\n",
    "plt.title('Curva ROC UPSAMPLED')\n",
    "plt.show()"
   ]
  },
  {
   "cell_type": "markdown",
   "metadata": {},
   "source": [
    "<b><FONT COLOR=BLUE> SE PUEDE OBSERVAR QUE EN CASO DE SOBRESAMPLEO DE LOS DATOS LOS VERDADEROS NEGATIVOS TIENEN UN PORCENTAJE SIGNIFICATIVO A COMPARACION DE LOS VERDADEROS POSITIVOS, POR OTRA PARTE EN LA MEDIDA F1 APENAS ALCANZA UN 0.20. </B></FONT>"
   ]
  },
  {
   "cell_type": "markdown",
   "metadata": {},
   "source": [
    "<b>DOWNSAMPLE</B>\n"
   ]
  },
  {
   "cell_type": "code",
   "execution_count": 25,
   "metadata": {},
   "outputs": [],
   "source": [
    "features_downsampled = pd.concat([features_zeros.sample(frac=0.3,random_state=12345)] + [features_ones])\n",
    "target_downsampled = pd.concat([target_zeros.sample(frac=0.3,random_state=12345)] + [target_ones])"
   ]
  },
  {
   "cell_type": "code",
   "execution_count": 26,
   "metadata": {},
   "outputs": [],
   "source": [
    " features_downsampled, target_downsampled = shuffle(features_downsampled, target_downsampled, random_state=12345)"
   ]
  },
  {
   "cell_type": "code",
   "execution_count": 27,
   "metadata": {},
   "outputs": [
    {
     "name": "stdout",
     "output_type": "stream",
     "text": [
      "      CustomerId  CreditScore  Age  Tenure    Balance  NumOfProducts  \\\n",
      "6953    15579109          574   35     0.0  163856.76              1   \n",
      "3340    15809263          729   29     0.0  109676.52              1   \n",
      "9753    15705174          656   68     7.0  153545.11              1   \n",
      "420     15810418          756   60     3.0  115924.89              1   \n",
      "5853    15765300          596   40     5.0   62389.03              3   \n",
      "...          ...          ...  ...     ...        ...            ...   \n",
      "9104    15683339          656   34     6.0   59877.33              1   \n",
      "3121    15593715          634   27     3.0  107027.52              1   \n",
      "765     15812351          710   27     0.0  135277.96              1   \n",
      "9690    15791674          846   34    10.0  142388.61              2   \n",
      "8500    15584785          660   37     2.0   97324.91              1   \n",
      "\n",
      "      HasCrCard  IsActiveMember  EstimatedSalary  Gender_Male  \n",
      "6953          1               1         15118.20            1  \n",
      "3340          1               1         25548.47            1  \n",
      "9753          1               1        186574.68            1  \n",
      "420           1               0         93524.19            0  \n",
      "5853          1               0        148623.43            1  \n",
      "...         ...             ...              ...          ...  \n",
      "9104          1               0         14032.62            0  \n",
      "3121          1               0        173425.68            1  \n",
      "765           1               0        142200.15            0  \n",
      "9690          0               1         68393.64            0  \n",
      "8500          1               0         23291.83            1  \n",
      "\n",
      "[3301 rows x 10 columns]\n",
      "6953    0\n",
      "3340    0\n",
      "9753    0\n",
      "420     1\n",
      "5853    1\n",
      "       ..\n",
      "9104    1\n",
      "3121    0\n",
      "765     0\n",
      "9690    1\n",
      "8500    0\n",
      "Name: Exited, Length: 3301, dtype: int64\n"
     ]
    }
   ],
   "source": [
    "print(features_downsampled)\n",
    "print(target_downsampled)"
   ]
  },
  {
   "cell_type": "code",
   "execution_count": 28,
   "metadata": {},
   "outputs": [],
   "source": [
    "model_dw= LogisticRegression(random_state=12345, solver='liblinear')\n",
    "model_dw.fit(features_downsampled,target_downsampled)\n",
    "predicted_valid_dw=model_dw.predict(features_valid)"
   ]
  },
  {
   "cell_type": "code",
   "execution_count": 29,
   "metadata": {},
   "outputs": [
    {
     "name": "stdout",
     "output_type": "stream",
     "text": [
      "Matriz de confusion upsampled:\n",
      " [[1435  530]\n",
      " [ 379  156]]\n",
      "Recall score downsampled:  0.29158878504672897\n",
      "Precision score downsampled:  0.22740524781341107\n",
      "F1 score downsampled:  0.25552825552825553\n"
     ]
    },
    {
     "data": {
      "image/png": "[encoded data removed]",
      "text/plain": [
       "<Figure size 640x480 with 2 Axes>"
      ]
     },
     "metadata": {},
     "output_type": "display_data"
    }
   ],
   "source": [
    "cnf_matrix_dw=confusion_matrix(target_valid,predicted_valid_dw)\n",
    "print(\"Matriz de confusion upsampled:\\n\",confusion_matrix(target_valid,predicted_valid_dw))\n",
    "sns.heatmap(cnf_matrix_dw/np.sum(cnf_matrix_dw), annot=True,fmt='.2%', cmap='Reds')\n",
    "print(\"Recall score downsampled: \",recall_score(target_valid,predicted_valid_dw))\n",
    "print(\"Precision score downsampled: \",precision_score(target_valid,predicted_valid_dw))\n",
    "print(\"F1 score downsampled: \",f1_score(target_valid,predicted_valid_dw))"
   ]
  },
  {
   "cell_type": "code",
   "execution_count": 30,
   "metadata": {},
   "outputs": [
    {
     "name": "stdout",
     "output_type": "stream",
     "text": [
      "AUC_ROC DOWNSAMPLED: 0.5619176713990155\n"
     ]
    }
   ],
   "source": [
    "probabilities_valid_dw_s = model_dw.predict_proba(features_valid)\n",
    "probabilities_one_valid_dw = probabilities_valid_dw_s[:, 1]\n",
    "auc_roc_dw=roc_auc_score(target_valid, probabilities_one_valid_dw)\n",
    "print(\"AUC_ROC DOWNSAMPLED:\",auc_roc_dw)"
   ]
  },
  {
   "cell_type": "code",
   "execution_count": 31,
   "metadata": {},
   "outputs": [
    {
     "data": {
      "image/png": "[encoded data removed]",
      "text/plain": [
       "<Figure size 640x480 with 1 Axes>"
      ]
     },
     "metadata": {},
     "output_type": "display_data"
    }
   ],
   "source": [
    "fdw, tdw, thresholds_dw = roc_curve(target_valid,probabilities_one_valid_dw)\n",
    "\n",
    "plt.figure()\n",
    "plt.plot(fdw, tdw)\n",
    "\n",
    "plt.xlim([0.0, 1.0])\n",
    "plt.ylim([0.0, 1.0])\n",
    "plt.xlabel('Tasa de falsos positivos')\n",
    "plt.ylabel('Tasa de verdaderos positivos')\n",
    "plt.title('Curva ROC DOWNSAMPLED')\n",
    "plt.show()"
   ]
  },
  {
   "cell_type": "markdown",
   "metadata": {},
   "source": [
    "<b><FONT COLOR=BLUE> EN EL CASO DEL SUBMUESTREO A COMPARACION DEL SOBREMUESTREO BAJAN LOS VERDADEROS NEGATIVOS ASI Y SUBE EL PORCENTAJE DE VERDADEROS POSITIVOS ,  POR OTRA PARTE LA MEDIDA DE F1 SUBIO A  0.25."
   ]
  },
  {
   "cell_type": "markdown",
   "metadata": {},
   "source": [
    "<B>SIN BALANCE DE DATOS</B>"
   ]
  },
  {
   "cell_type": "code",
   "execution_count": 32,
   "metadata": {},
   "outputs": [],
   "source": [
    "model_lr_des= LogisticRegression(random_state=12345, solver='liblinear')\n",
    "model_lr_des.fit(features_train,target_train)\n",
    "predicted_valid=model_lr_des.predict(features_valid)"
   ]
  },
  {
   "cell_type": "code",
   "execution_count": 33,
   "metadata": {},
   "outputs": [
    {
     "name": "stdout",
     "output_type": "stream",
     "text": [
      "0.5602159282775677\n"
     ]
    }
   ],
   "source": [
    "probabilities_valid_lr = model_lr_des.predict_proba(features_valid)\n",
    "probabilities_one_valid_lr = probabilities_valid_lr[:, 1]\n",
    "auc_roc_lr=roc_auc_score(target_valid, probabilities_one_valid_lr)\n",
    "print(auc_roc_lr)"
   ]
  },
  {
   "cell_type": "code",
   "execution_count": 34,
   "metadata": {},
   "outputs": [
    {
     "name": "stdout",
     "output_type": "stream",
     "text": [
      "[[1965    0]\n",
      " [ 535    0]]\n"
     ]
    },
    {
     "data": {
      "text/plain": [
       "<AxesSubplot:>"
      ]
     },
     "execution_count": 34,
     "metadata": {},
     "output_type": "execute_result"
    },
    {
     "data": {
      "image/png": "[encoded data removed]",
      "text/plain": [
       "<Figure size 640x480 with 2 Axes>"
      ]
     },
     "metadata": {},
     "output_type": "display_data"
    }
   ],
   "source": [
    "cnf_matrix=confusion_matrix(target_valid,predicted_valid)\n",
    "print(cnf_matrix)\n",
    "sns.heatmap(cnf_matrix/np.sum(cnf_matrix), annot=True,fmt='.2%', cmap='Greys')"
   ]
  },
  {
   "cell_type": "code",
   "execution_count": 35,
   "metadata": {},
   "outputs": [
    {
     "name": "stdout",
     "output_type": "stream",
     "text": [
      "0.0\n"
     ]
    }
   ],
   "source": [
    "print(recall_score(target_valid,predicted_valid))"
   ]
  },
  {
   "cell_type": "code",
   "execution_count": 36,
   "metadata": {},
   "outputs": [
    {
     "name": "stdout",
     "output_type": "stream",
     "text": [
      "0.0\n"
     ]
    },
    {
     "name": "stderr",
     "output_type": "stream",
     "text": [
      "/opt/conda/envs/python3/lib/python3.9/site-packages/sklearn/metrics/_classification.py:1245: UndefinedMetricWarning: Precision is ill-defined and being set to 0.0 due to no predicted samples. Use `zero_division` parameter to control this behavior.\n",
      "  _warn_prf(average, modifier, msg_start, len(result))\n"
     ]
    }
   ],
   "source": [
    "print(precision_score(target_valid,predicted_valid))"
   ]
  },
  {
   "cell_type": "code",
   "execution_count": 37,
   "metadata": {},
   "outputs": [
    {
     "name": "stdout",
     "output_type": "stream",
     "text": [
      "0.0\n"
     ]
    }
   ],
   "source": [
    "print(f1_score(target_valid,predicted_valid))"
   ]
  },
  {
   "cell_type": "code",
   "execution_count": 38,
   "metadata": {},
   "outputs": [
    {
     "data": {
      "image/png": "[encoded data removed]",
      "text/plain": [
       "<Figure size 640x480 with 1 Axes>"
      ]
     },
     "metadata": {},
     "output_type": "display_data"
    }
   ],
   "source": [
    "fpr, tpr, thresholds = roc_curve(target_valid,probabilities_one_valid_lr)\n",
    "\n",
    "plt.figure()\n",
    "plt.plot(fpr, tpr)\n",
    "\n",
    "plt.xlim([0.0, 1.0])\n",
    "plt.ylim([0.0, 1.0])\n",
    "# < utiliza las funciones plt.xlabel() y plt.ylabel() para\n",
    "#   nombrar los ejes \"Tasa de falsos positivos\" y \"Tasa de verdaderos positivos\">\n",
    "plt.xlabel('Tasa de falsos positivos')\n",
    "plt.ylabel('Tasa de verdaderos positivos')\n",
    "# < agrega el encabezado \"Curva ROC\" con la función plt.title() >\n",
    "plt.title('Curva ROC')\n",
    "plt.show()"
   ]
  },
  {
   "cell_type": "markdown",
   "metadata": {},
   "source": [
    "\n",
    "<B><FONT color=blue> En el modelo de regresion logistica y segun a la matriz de confusion hay muchos verdaderos negativos, así como falso negativos , recall, y precision nos da el valor de 0.0, así que el modelo en desequilibrio no hace las predicciones.  </FONT></B>"
   ]
  },
  {
   "cell_type": "markdown",
   "metadata": {},
   "source": [
    "<B>Crea un modelo con el máximo valor F1 posible. Para aprobar la revisión, necesitas un valor F1 de al menos 0.59. Verifica F1 para el conjunto de prueba. \n",
    "\n",
    "Además, debes medir la métrica AUC-ROC y compararla con el valor F1.</B>"
   ]
  },
  {
   "cell_type": "markdown",
   "metadata": {},
   "source": [
    "<h2>Mejora la calidad del modelo. <h3>Asegúrate de utilizar al menos dos enfoques para corregir el desequilibrio de clases.</h3><h3> Utiliza conjuntos de entrenamiento y validación para encontrar el mejor modelo y el mejor conjunto de parámetros.</h3> <h3>Entrena diferentes modelos en los conjuntos de entrenamiento y validación.</h3> Encuentra el mejor. Describe brevemente tus hallazgos.</h2>"
   ]
  },
  {
   "cell_type": "code",
   "execution_count": 39,
   "metadata": {},
   "outputs": [
    {
     "name": "stdout",
     "output_type": "stream",
     "text": [
      "el mejor valor de class_weight es : 0: 1,y en 1: 1.8, con f1: 0.0037313432835820895\n",
      "el mejor valor de class_weight es : 0: 1,y en 1: 2.0, con f1: 0.007434944237918216\n",
      "el mejor valor de class_weight es : 0: 1,y en 1: 2.1, con f1: 0.014814814814814815\n",
      "el mejor valor de class_weight es : 0: 1,y en 1: 2.2, con f1: 0.01824817518248175\n",
      "el mejor valor de class_weight es : 0: 1,y en 1: 2.3, con f1: 0.03191489361702128\n",
      "el mejor valor de class_weight es : 0: 1,y en 1: 2.4, con f1: 0.04819277108433736\n",
      "el mejor valor de class_weight es : 0: 1,y en 1: 2.5, con f1: 0.07236842105263158\n",
      "el mejor valor de class_weight es : 0: 1,y en 1: 2.6, con f1: 0.09567901234567901\n",
      "el mejor valor de class_weight es : 0: 1,y en 1: 2.7, con f1: 0.11516853932584271\n",
      "el mejor valor de class_weight es : 0: 1,y en 1: 2.8, con f1: 0.141206675224647\n",
      "el mejor valor de class_weight es : 0: 1,y en 1: 2.9, con f1: 0.17162471395881004\n",
      "el mejor valor de class_weight es : 0: 1,y en 1: 3.0, con f1: 0.20101522842639594\n",
      "el mejor valor de class_weight es : 0: 1,y en 1: 3.1, con f1: 0.22743682310469313\n",
      "el mejor valor de class_weight es : 0: 1,y en 1: 3.2, con f1: 0.2593800978792823\n",
      "el mejor valor de class_weight es : 0: 1,y en 1: 3.3, con f1: 0.2869692532942899\n",
      "el mejor valor de class_weight es : 0: 1,y en 1: 3.4, con f1: 0.31304347826086953\n",
      "el mejor valor de class_weight es : 0: 1,y en 1: 3.5, con f1: 0.3306199123356293\n",
      "el mejor valor de class_weight es : 0: 1,y en 1: 3.6, con f1: 0.3484402589758681\n",
      "el mejor valor de class_weight es : 0: 1,y en 1: 3.7, con f1: 0.3555555555555555\n",
      "el mejor valor de class_weight es : 0: 1,y en 1: 3.8, con f1: 0.356297093649085\n",
      "el mejor valor de class_weight es : 0: 1,y en 1: 3.9, con f1: 0.49108367626886135\n"
     ]
    }
   ],
   "source": [
    "best=0\n",
    "for num in range(1,10):\n",
    "    for cl in range(1,30):    \n",
    "        model = LogisticRegression(random_state=12345,class_weight={0: num, 1: num+ (cl/10) }, solver='liblinear')\n",
    "        model.fit(features_train, target_train)\n",
    "        predicted_valid = model.predict(features_valid)\n",
    "        #print('F1:', f1_score(target_valid, predicted_valid))\n",
    "        f1=f1_score(target_valid, predicted_valid)\n",
    "        if  f1 > best :\n",
    "            best = f1\n",
    "            print(f\"el mejor valor de class_weight es : 0: {num},y en 1: {num +(cl/10)}, con f1: {f1}\")\n",
    "        \n",
    "      "
   ]
  },
  {
   "cell_type": "markdown",
   "metadata": {},
   "source": [
    "<B><FONT color=blue> SE HACE UN CICLO PARA ENCONTRAR EL MEJOR VALOR F1 PARA CLASS_WEIGHT el cual es 0.49 con 0 :1 y 1: 3.9, AUN ASÍ ES INSUFICIENTE </FONT></B>"
   ]
  },
  {
   "cell_type": "code",
   "execution_count": 40,
   "metadata": {},
   "outputs": [
    {
     "name": "stdout",
     "output_type": "stream",
     "text": [
      "F1: 0.4888888888888889\n"
     ]
    }
   ],
   "source": [
    "model = LogisticRegression(random_state=12345,class_weight='balanced', solver='liblinear')\n",
    "model.fit(features_train, target_train)\n",
    "predicted_valid = model.predict(features_valid)\n",
    "print('F1:', f1_score(target_valid, predicted_valid))"
   ]
  },
  {
   "cell_type": "markdown",
   "metadata": {},
   "source": [
    "\n",
    "<B><FONT color=blue> En ESTE MODELO DE REGRESION LOGISTICA SE BALANCEAN LAS CLASES, PERO AUN NO NOS DA EL VALOR MINIMO F1, ASI QUE NO ES FUNCIONAL ESTE MODELO  </FONT></B>"
   ]
  },
  {
   "cell_type": "code",
   "execution_count": 41,
   "metadata": {},
   "outputs": [
    {
     "name": "stdout",
     "output_type": "stream",
     "text": [
      "el mejor valor depth es : 5, con : f1:0.5974025974025974\n",
      "el mejor valor depth es : 6, con : f1:0.5893792071802543\n",
      "el mejor valor depth es : 7, con : f1:0.5823389021479713\n"
     ]
    }
   ],
   "source": [
    "\n",
    "\n",
    "for depth in range(1,200):\n",
    "    model= DecisionTreeClassifier(random_state=12345,max_depth=depth,class_weight='balanced')\n",
    "    model.fit(features_train,target_train)\n",
    "    predictions_valid = model.predict(features_valid)\n",
    "    f1=f1_score(target_valid, predictions_valid)\n",
    "    if f1  >= 0.56 :\n",
    "        print(f\"el mejor valor depth es : {depth}, con : f1:{f1}\")"
   ]
  },
  {
   "cell_type": "code",
   "execution_count": 42,
   "metadata": {},
   "outputs": [
    {
     "name": "stdout",
     "output_type": "stream",
     "text": [
      "el mejor valor depth es : 5, con : f1:0.5967479674796748\n",
      "el mejor valor depth es : 6, con : f1:0.5902621722846443\n",
      "el mejor valor depth es : 7, con : f1:0.5834658187599364\n"
     ]
    }
   ],
   "source": [
    "\n",
    "\n",
    "for depth in range(1,200):\n",
    "    model= DecisionTreeClassifier(random_state=12345,max_depth=depth,class_weight={0: 1, 1: 3.9} )\n",
    "    model.fit(features_train,target_train)\n",
    "    predictions_valid = model.predict(features_valid)\n",
    "    f1=f1_score(target_valid, predictions_valid)\n",
    "    if f1  >= 0.56 :\n",
    "        print(f\"el mejor valor depth es : {depth}, con : f1:{f1}\")"
   ]
  },
  {
   "cell_type": "markdown",
   "metadata": {},
   "source": [
    "\n",
    "<B><FONT color=blue> EN ESTE MODELO DE ARBOL DE CLASIFICACION DE IGUAL MANERA SE CAMBIA EL PESO DE LAS CLASES A BALANCEADO OBTENIENDO EL MEJOR VALOR EN 0.5967, EN UNA PROFUNDIDAD MAXIMA DE 5 , SIN EMBARGO , AUN NOS QUEDA OTRO METODO POR PROBAR, EL CUAL HYA OPCION DE  MEJORAR</FONT></B>"
   ]
  },
  {
   "cell_type": "code",
   "execution_count": 43,
   "metadata": {},
   "outputs": [
    {
     "name": "stdout",
     "output_type": "stream",
     "text": [
      "PRECISION n: 1, depth: 1 y precision_score: 0.2611408199643494\n",
      "F1_ARBOL  n: 1, depth: 1, y f1 : 0.35365117682558844\n",
      "PRECISION n: 2, depth: 1 y precision_score: 0.27734711455641686\n",
      "F1_ARBOL  n: 2, depth: 1, y f1 : 0.37971698113207547\n",
      "PRECISION n: 3, depth: 1 y precision_score: 0.4514501891551072\n",
      "F1_ARBOL  n: 3, depth: 1, y f1 : 0.5391566265060241\n",
      "PRECISION n: 12, depth: 1 y precision_score: 0.4707482993197279\n",
      "F1_ARBOL  n: 12, depth: 1, y f1 : 0.5448818897637796\n",
      "PRECISION n: 49, depth: 1 y precision_score: 0.44510035419126326\n",
      "F1_ARBOL  n: 49, depth: 1, y f1 : 0.5455861070911723\n",
      "PRECISION n: 115, depth: 1 y precision_score: 0.4412442396313364\n",
      "F1_ARBOL  n: 115, depth: 1, y f1 : 0.5459729151817534\n",
      "PRECISION n: 21, depth: 2 y precision_score: 0.44885679903730447\n",
      "F1_ARBOL  n: 21, depth: 2, y f1 : 0.5461200585651538\n",
      "PRECISION n: 26, depth: 2 y precision_score: 0.4542124542124542\n",
      "F1_ARBOL  n: 26, depth: 2, y f1 : 0.5494830132939438\n",
      "PRECISION n: 29, depth: 2 y precision_score: 0.47307692307692306\n",
      "F1_ARBOL  n: 29, depth: 2, y f1 : 0.5612167300380229\n",
      "PRECISION n: 35, depth: 2 y precision_score: 0.47668393782383417\n",
      "F1_ARBOL  n: 35, depth: 2, y f1 : 0.5631216526396328\n",
      "PRECISION n: 37, depth: 2 y precision_score: 0.4799482535575679\n",
      "F1_ARBOL  n: 37, depth: 2, y f1 : 0.5672782874617737\n",
      "PRECISION n: 38, depth: 2 y precision_score: 0.48124191461837\n",
      "F1_ARBOL  n: 38, depth: 2, y f1 : 0.5688073394495413\n",
      "PRECISION n: 41, depth: 2 y precision_score: 0.48378728923476005\n",
      "F1_ARBOL  n: 41, depth: 2, y f1 : 0.5712098009188362\n",
      "PRECISION n: 42, depth: 2 y precision_score: 0.487012987012987\n",
      "F1_ARBOL  n: 42, depth: 2, y f1 : 0.574712643678161\n",
      "PRECISION n: 44, depth: 2 y precision_score: 0.4864864864864865\n",
      "F1_ARBOL  n: 44, depth: 2, y f1 : 0.5762195121951221\n",
      "PRECISION n: 47, depth: 2 y precision_score: 0.4890038809831824\n",
      "F1_ARBOL  n: 47, depth: 2, y f1 : 0.5779816513761469\n",
      "PRECISION n: 49, depth: 2 y precision_score: 0.4935064935064935\n",
      "F1_ARBOL  n: 49, depth: 2, y f1 : 0.5823754789272031\n",
      "PRECISION n: 55, depth: 2 y precision_score: 0.49362244897959184\n",
      "F1_ARBOL  n: 55, depth: 2, y f1 : 0.5868081880212282\n",
      "PRECISION n: 98, depth: 2 y precision_score: 0.49869451697127937\n",
      "F1_ARBOL  n: 98, depth: 2, y f1 : 0.5872405841660261\n",
      "PRECISION n: 106, depth: 2 y precision_score: 0.4993464052287582\n",
      "F1_ARBOL  n: 106, depth: 2, y f1 : 0.5876923076923076\n",
      "PRECISION n: 108, depth: 2 y precision_score: 0.4986979166666667\n",
      "F1_ARBOL  n: 108, depth: 2, y f1 : 0.5878741366078282\n",
      "PRECISION n: 48, depth: 3 y precision_score: 0.4993514915693904\n",
      "F1_ARBOL  n: 48, depth: 3, y f1 : 0.5895865237366004\n",
      "PRECISION n: 49, depth: 3 y precision_score: 0.5052770448548812\n",
      "F1_ARBOL  n: 49, depth: 3, y f1 : 0.5924207269914926\n",
      "PRECISION n: 54, depth: 3 y precision_score: 0.5079575596816976\n",
      "F1_ARBOL  n: 54, depth: 3, y f1 : 0.5942591155934832\n",
      "PRECISION n: 37, depth: 4 y precision_score: 0.5025773195876289\n",
      "F1_ARBOL  n: 37, depth: 4, y f1 : 0.5949656750572083\n",
      "PRECISION n: 43, depth: 4 y precision_score: 0.5012755102040817\n",
      "F1_ARBOL  n: 43, depth: 4, y f1 : 0.5959059893858984\n",
      "PRECISION n: 44, depth: 4 y precision_score: 0.5006337135614702\n",
      "F1_ARBOL  n: 44, depth: 4, y f1 : 0.5966767371601209\n",
      "PRECISION n: 47, depth: 4 y precision_score: 0.5012626262626263\n",
      "F1_ARBOL  n: 47, depth: 4, y f1 : 0.5983421250941975\n",
      "PRECISION n: 48, depth: 4 y precision_score: 0.5037974683544304\n",
      "F1_ARBOL  n: 48, depth: 4, y f1 : 0.6007547169811321\n",
      "PRECISION n: 49, depth: 4 y precision_score: 0.5057324840764331\n",
      "F1_ARBOL  n: 49, depth: 4, y f1 : 0.6015151515151514\n",
      "PRECISION n: 52, depth: 4 y precision_score: 0.5070242656449553\n",
      "F1_ARBOL  n: 52, depth: 4, y f1 : 0.6024279210925645\n",
      "PRECISION n: 120, depth: 4 y precision_score: 0.5097024579560155\n",
      "F1_ARBOL  n: 120, depth: 4, y f1 : 0.602446483180428\n",
      "PRECISION n: 79, depth: 5 y precision_score: 0.5102564102564102\n",
      "F1_ARBOL  n: 79, depth: 5, y f1 : 0.6053231939163498\n",
      "PRECISION n: 88, depth: 5 y precision_score: 0.5108834827144686\n",
      "F1_ARBOL  n: 88, depth: 5, y f1 : 0.6063829787234042\n",
      "PRECISION n: 91, depth: 5 y precision_score: 0.5121951219512195\n",
      "F1_ARBOL  n: 91, depth: 5, y f1 : 0.6073059360730593\n",
      "PRECISION n: 92, depth: 5 y precision_score: 0.5141752577319587\n",
      "F1_ARBOL  n: 92, depth: 5, y f1 : 0.608695652173913\n",
      "PRECISION n: 167, depth: 5 y precision_score: 0.5176470588235295\n",
      "F1_ARBOL  n: 167, depth: 5, y f1 : 0.6092307692307692\n",
      "PRECISION n: 168, depth: 5 y precision_score: 0.517555266579974\n",
      "F1_ARBOL  n: 168, depth: 5, y f1 : 0.6104294478527608\n",
      "PRECISION n: 63, depth: 6 y precision_score: 0.5271739130434783\n",
      "F1_ARBOL  n: 63, depth: 6, y f1 : 0.6105428796223447\n",
      "PRECISION n: 64, depth: 6 y precision_score: 0.5263870094722598\n",
      "F1_ARBOL  n: 64, depth: 6, y f1 : 0.6106750392464677\n",
      "PRECISION n: 88, depth: 6 y precision_score: 0.5263157894736842\n",
      "F1_ARBOL  n: 88, depth: 6, y f1 : 0.6112852664576802\n",
      "PRECISION n: 89, depth: 6 y precision_score: 0.5255376344086021\n",
      "F1_ARBOL  n: 89, depth: 6, y f1 : 0.6114151681000781\n",
      "PRECISION n: 106, depth: 6 y precision_score: 0.5269541778975741\n",
      "F1_ARBOL  n: 106, depth: 6, y f1 : 0.6123727486296007\n",
      "PRECISION n: 109, depth: 6 y precision_score: 0.5290148448043185\n",
      "F1_ARBOL  n: 109, depth: 6, y f1 : 0.6144200626959249\n",
      "PRECISION n: 123, depth: 6 y precision_score: 0.5320600272851296\n",
      "F1_ARBOL  n: 123, depth: 6, y f1 : 0.6151419558359621\n",
      "PRECISION n: 165, depth: 6 y precision_score: 0.5344352617079889\n",
      "F1_ARBOL  n: 165, depth: 6, y f1 : 0.6153846153846153\n",
      "PRECISION n: 175, depth: 6 y precision_score: 0.5342465753424658\n",
      "F1_ARBOL  n: 175, depth: 6, y f1 : 0.616600790513834\n",
      "PRECISION n: 168, depth: 7 y precision_score: 0.5399719495091164\n",
      "F1_ARBOL  n: 168, depth: 7, y f1 : 0.6169871794871795\n",
      "PRECISION n: 179, depth: 7 y precision_score: 0.5422535211267606\n",
      "F1_ARBOL  n: 179, depth: 7, y f1 : 0.6184738955823293\n",
      "PRECISION n: 40, depth: 9 y precision_score: 0.5826513911620295\n",
      "F1_ARBOL  n: 40, depth: 9, y f1 : 0.6212914485165794\n",
      "PRECISION n: 41, depth: 9 y precision_score: 0.5862068965517241\n",
      "F1_ARBOL  n: 41, depth: 9, y f1 : 0.6241258741258741\n"
     ]
    }
   ],
   "source": [
    "best_score = 0\n",
    "for m in range(1,12):\n",
    "    for n in range(1,200):\n",
    "        model = RandomForestClassifier(random_state=12345,n_estimators=n,max_depth=m,class_weight='balanced')\n",
    "        model.fit(features_train, target_train)\n",
    "        predicted_valid = model.predict(features_valid)\n",
    "        f1_arbol=f1_score(target_valid, predicted_valid)\n",
    "        \n",
    "        precision_arbol=precision_score(target_valid,predicted_valid)\n",
    "        #print(f\"est: {n} , depth:{m}\")\n",
    "        if f1_arbol > best_score :\n",
    "            best_score = f1_arbol\n",
    "            print(f\"PRECISION n: {n}, depth: {m} y precision_score: {precision_arbol}\")\n",
    "            print(f\"F1_ARBOL  n: {n}, depth: {m}, y f1 : {f1_arbol}\")\n"
   ]
  },
  {
   "cell_type": "markdown",
   "metadata": {},
   "source": [
    "\n",
    "<B><FONT color=blue>SE HACE LA PRUEBA PARA ITERACIONES DE VALORES EN LOS HIPERPARAMETROS N_ESTIMATORS Y MAX_DEPTH, ASI MISMO SE HACE CON EL MODELO BALANCEADO, QUEDANDO EL MEJOR RESULTADO F1 EN 0.6241, CON N_ESTIMATORS=41 Y PROFUNDIDAD MAXIMA DE 9.    </FONT></B>"
   ]
  },
  {
   "cell_type": "markdown",
   "metadata": {},
   "source": [
    "<b>DOWNSAMPLED</B>"
   ]
  },
  {
   "cell_type": "code",
   "execution_count": 44,
   "metadata": {
    "scrolled": false
   },
   "outputs": [
    {
     "name": "stdout",
     "output_type": "stream",
     "text": [
      "PRECISION n: 1, depth: 1 y precision_score: 0.2611408199643494\n",
      "F1_ARBOL  n: 1, depth: 1, y f1 : 0.35365117682558844\n",
      "PRECISION n: 2, depth: 1 y precision_score: 0.27734711455641686\n",
      "F1_ARBOL  n: 2, depth: 1, y f1 : 0.37971698113207547\n",
      "PRECISION n: 3, depth: 1 y precision_score: 0.3797235023041475\n",
      "F1_ARBOL  n: 3, depth: 1, y f1 : 0.508641975308642\n",
      "PRECISION n: 7, depth: 1 y precision_score: 0.3956692913385827\n",
      "F1_ARBOL  n: 7, depth: 1, y f1 : 0.5183752417794971\n",
      "PRECISION n: 8, depth: 1 y precision_score: 0.39548577036310106\n",
      "F1_ARBOL  n: 8, depth: 1, y f1 : 0.5186615186615187\n",
      "PRECISION n: 9, depth: 1 y precision_score: 0.4001996007984032\n",
      "F1_ARBOL  n: 9, depth: 1, y f1 : 0.5217957059206246\n",
      "PRECISION n: 42, depth: 1 y precision_score: 0.4037328094302554\n",
      "F1_ARBOL  n: 42, depth: 1, y f1 : 0.5292981326464906\n",
      "PRECISION n: 61, depth: 1 y precision_score: 0.4082246740220662\n",
      "F1_ARBOL  n: 61, depth: 1, y f1 : 0.5313315926892951\n",
      "PRECISION n: 62, depth: 1 y precision_score: 0.4102822580645161\n",
      "F1_ARBOL  n: 62, depth: 1, y f1 : 0.533071381794368\n",
      "PRECISION n: 84, depth: 1 y precision_score: 0.41134751773049644\n",
      "F1_ARBOL  n: 84, depth: 1, y f1 : 0.533508541392904\n",
      "PRECISION n: 87, depth: 1 y precision_score: 0.41411042944785276\n",
      "F1_ARBOL  n: 87, depth: 1, y f1 : 0.5353602115003304\n",
      "PRECISION n: 92, depth: 1 y precision_score: 0.41770833333333335\n",
      "F1_ARBOL  n: 92, depth: 1, y f1 : 0.5364548494983279\n",
      "PRECISION n: 32, depth: 2 y precision_score: 0.41379310344827586\n",
      "F1_ARBOL  n: 32, depth: 2, y f1 : 0.5364891518737673\n",
      "PRECISION n: 33, depth: 2 y precision_score: 0.4150559511698881\n",
      "F1_ARBOL  n: 33, depth: 2, y f1 : 0.5375494071146245\n",
      "PRECISION n: 36, depth: 2 y precision_score: 0.41760491299897645\n",
      "F1_ARBOL  n: 36, depth: 2, y f1 : 0.5396825396825397\n",
      "PRECISION n: 37, depth: 2 y precision_score: 0.41846153846153844\n",
      "F1_ARBOL  n: 37, depth: 2, y f1 : 0.5403973509933775\n",
      "PRECISION n: 39, depth: 2 y precision_score: 0.4186284544524053\n",
      "F1_ARBOL  n: 39, depth: 2, y f1 : 0.5410052910052909\n",
      "PRECISION n: 40, depth: 2 y precision_score: 0.42752867570385816\n",
      "F1_ARBOL  n: 40, depth: 2, y f1 : 0.5488621151271753\n",
      "PRECISION n: 41, depth: 2 y precision_score: 0.4322033898305085\n",
      "F1_ARBOL  n: 41, depth: 2, y f1 : 0.5517241379310346\n",
      "PRECISION n: 43, depth: 2 y precision_score: 0.43776824034334766\n",
      "F1_ARBOL  n: 43, depth: 2, y f1 : 0.556237218813906\n",
      "PRECISION n: 47, depth: 2 y precision_score: 0.44652701212789414\n",
      "F1_ARBOL  n: 47, depth: 2, y f1 : 0.5617198335644937\n",
      "PRECISION n: 48, depth: 2 y precision_score: 0.4506104328523862\n",
      "F1_ARBOL  n: 48, depth: 2, y f1 : 0.5654596100278552\n",
      "PRECISION n: 50, depth: 2 y precision_score: 0.4521158129175947\n",
      "F1_ARBOL  n: 50, depth: 2, y f1 : 0.5666434054431263\n",
      "PRECISION n: 51, depth: 2 y precision_score: 0.45363128491620114\n",
      "F1_ARBOL  n: 51, depth: 2, y f1 : 0.5678321678321678\n",
      "PRECISION n: 57, depth: 2 y precision_score: 0.45424107142857145\n",
      "F1_ARBOL  n: 57, depth: 2, y f1 : 0.5688329839273236\n",
      "PRECISION n: 58, depth: 2 y precision_score: 0.45701357466063347\n",
      "F1_ARBOL  n: 58, depth: 2, y f1 : 0.569415081042988\n",
      "PRECISION n: 59, depth: 2 y precision_score: 0.45617977528089887\n",
      "F1_ARBOL  n: 59, depth: 2, y f1 : 0.5698245614035087\n",
      "PRECISION n: 46, depth: 3 y precision_score: 0.45657015590200445\n",
      "F1_ARBOL  n: 46, depth: 3, y f1 : 0.5722260990928122\n",
      "PRECISION n: 47, depth: 3 y precision_score: 0.45707915273132665\n",
      "F1_ARBOL  n: 47, depth: 3, y f1 : 0.5726256983240224\n",
      "PRECISION n: 49, depth: 3 y precision_score: 0.46006749156355453\n",
      "F1_ARBOL  n: 49, depth: 3, y f1 : 0.5744382022471909\n",
      "PRECISION n: 50, depth: 3 y precision_score: 0.4642451759364359\n",
      "F1_ARBOL  n: 50, depth: 3, y f1 : 0.5776836158192089\n",
      "PRECISION n: 51, depth: 3 y precision_score: 0.4647727272727273\n",
      "F1_ARBOL  n: 51, depth: 3, y f1 : 0.5780918727915194\n",
      "PRECISION n: 58, depth: 3 y precision_score: 0.46781609195402296\n",
      "F1_ARBOL  n: 58, depth: 3, y f1 : 0.5793594306049822\n",
      "PRECISION n: 59, depth: 3 y precision_score: 0.46889400921658986\n",
      "F1_ARBOL  n: 59, depth: 3, y f1 : 0.5801853171774769\n",
      "PRECISION n: 66, depth: 3 y precision_score: 0.46997690531177827\n",
      "F1_ARBOL  n: 66, depth: 3, y f1 : 0.5810135617416131\n",
      "PRECISION n: 91, depth: 3 y precision_score: 0.47300469483568075\n",
      "F1_ARBOL  n: 91, depth: 3, y f1 : 0.5811103100216295\n",
      "PRECISION n: 97, depth: 3 y precision_score: 0.4725787631271879\n",
      "F1_ARBOL  n: 97, depth: 3, y f1 : 0.5818965517241379\n",
      "PRECISION n: 98, depth: 3 y precision_score: 0.47473560517038776\n",
      "F1_ARBOL  n: 98, depth: 3, y f1 : 0.582972582972583\n",
      "PRECISION n: 104, depth: 3 y precision_score: 0.4774881516587678\n",
      "F1_ARBOL  n: 104, depth: 3, y f1 : 0.5844815083393764\n",
      "PRECISION n: 105, depth: 3 y precision_score: 0.4803337306317044\n",
      "F1_ARBOL  n: 105, depth: 3, y f1 : 0.586608442503639\n",
      "PRECISION n: 42, depth: 4 y precision_score: 0.4751445086705202\n",
      "F1_ARBOL  n: 42, depth: 4, y f1 : 0.5871428571428572\n",
      "PRECISION n: 43, depth: 4 y precision_score: 0.47674418604651164\n",
      "F1_ARBOL  n: 43, depth: 4, y f1 : 0.5878136200716846\n",
      "PRECISION n: 48, depth: 4 y precision_score: 0.4783625730994152\n",
      "F1_ARBOL  n: 48, depth: 4, y f1 : 0.5884892086330936\n",
      "PRECISION n: 49, depth: 4 y precision_score: 0.4794359576968273\n",
      "F1_ARBOL  n: 49, depth: 4, y f1 : 0.5887445887445888\n",
      "PRECISION n: 92, depth: 4 y precision_score: 0.48104265402843605\n",
      "F1_ARBOL  n: 92, depth: 4, y f1 : 0.5888324873096448\n",
      "PRECISION n: 103, depth: 4 y precision_score: 0.48279952550415184\n",
      "F1_ARBOL  n: 103, depth: 4, y f1 : 0.590711175616836\n",
      "PRECISION n: 104, depth: 4 y precision_score: 0.4833729216152019\n",
      "F1_ARBOL  n: 104, depth: 4, y f1 : 0.5911401597676108\n",
      "PRECISION n: 105, depth: 4 y precision_score: 0.4839476813317479\n",
      "F1_ARBOL  n: 105, depth: 4, y f1 : 0.5915697674418605\n",
      "PRECISION n: 110, depth: 4 y precision_score: 0.48736462093862815\n",
      "F1_ARBOL  n: 110, depth: 4, y f1 : 0.5929721815519766\n",
      "PRECISION n: 114, depth: 4 y precision_score: 0.4902439024390244\n",
      "F1_ARBOL  n: 114, depth: 4, y f1 : 0.5933579335793358\n",
      "PRECISION n: 47, depth: 5 y precision_score: 0.4840989399293286\n",
      "F1_ARBOL  n: 47, depth: 5, y f1 : 0.5939306358381503\n",
      "PRECISION n: 48, depth: 5 y precision_score: 0.48520710059171596\n",
      "F1_ARBOL  n: 48, depth: 5, y f1 : 0.5942028985507247\n",
      "PRECISION n: 49, depth: 5 y precision_score: 0.4880668257756563\n",
      "F1_ARBOL  n: 49, depth: 5, y f1 : 0.5957756737072104\n",
      "PRECISION n: 65, depth: 5 y precision_score: 0.4892086330935252\n",
      "F1_ARBOL  n: 65, depth: 5, y f1 : 0.5960555149744339\n",
      "PRECISION n: 66, depth: 5 y precision_score: 0.4892344497607656\n",
      "F1_ARBOL  n: 66, depth: 5, y f1 : 0.5966447848285923\n",
      "PRECISION n: 69, depth: 5 y precision_score: 0.4927360774818402\n",
      "F1_ARBOL  n: 69, depth: 5, y f1 : 0.5980896399706098\n",
      "PRECISION n: 72, depth: 5 y precision_score: 0.49333333333333335\n",
      "F1_ARBOL  n: 72, depth: 5, y f1 : 0.5985294117647059\n",
      "PRECISION n: 77, depth: 5 y precision_score: 0.4945321992709599\n",
      "F1_ARBOL  n: 77, depth: 5, y f1 : 0.5994108983799705\n",
      "PRECISION n: 80, depth: 5 y precision_score: 0.49399038461538464\n",
      "F1_ARBOL  n: 80, depth: 5, y f1 : 0.6013167520117044\n",
      "PRECISION n: 81, depth: 5 y precision_score: 0.4963592233009709\n",
      "F1_ARBOL  n: 81, depth: 5, y f1 : 0.6019131714495953\n",
      "PRECISION n: 88, depth: 6 y precision_score: 0.4975609756097561\n",
      "F1_ARBOL  n: 88, depth: 6, y f1 : 0.6022140221402215\n",
      "PRECISION n: 98, depth: 6 y precision_score: 0.4987745098039216\n",
      "F1_ARBOL  n: 98, depth: 6, y f1 : 0.6025166543301258\n",
      "PRECISION n: 100, depth: 6 y precision_score: 0.5006134969325153\n",
      "F1_ARBOL  n: 100, depth: 6, y f1 : 0.6044444444444445\n",
      "PRECISION n: 111, depth: 6 y precision_score: 0.5024691358024691\n",
      "F1_ARBOL  n: 111, depth: 6, y f1 : 0.6052044609665428\n",
      "PRECISION n: 61, depth: 8 y precision_score: 0.5030750307503075\n",
      "F1_ARBOL  n: 61, depth: 8, y f1 : 0.6068249258160238\n",
      "PRECISION n: 65, depth: 8 y precision_score: 0.5061881188118812\n",
      "F1_ARBOL  n: 65, depth: 8, y f1 : 0.6090841399851079\n",
      "PRECISION n: 79, depth: 8 y precision_score: 0.5087719298245614\n",
      "F1_ARBOL  n: 79, depth: 8, y f1 : 0.609152288072018\n",
      "PRECISION n: 83, depth: 8 y precision_score: 0.5094102885821832\n",
      "F1_ARBOL  n: 83, depth: 8, y f1 : 0.6096096096096096\n"
     ]
    }
   ],
   "source": [
    "best_score = 0\n",
    "for m in range(1,25):\n",
    "    for n in range(1,150):\n",
    "        model = RandomForestClassifier(random_state=12345,n_estimators=n,max_depth=m,class_weight='balanced')\n",
    "        model.fit(features_downsampled, target_downsampled)\n",
    "        predicted_valid = model.predict(features_valid)\n",
    "        f1_arbol=f1_score(target_valid, predicted_valid)\n",
    "        \n",
    "        precision_arbol=precision_score(target_valid,predicted_valid)\n",
    "        #print(f\"est: {n} , depth:{m}\")\n",
    "        if f1_arbol > best_score :\n",
    "            best_score = f1_arbol\n",
    "            print(f\"PRECISION n: {n}, depth: {m} y precision_score: {precision_arbol}\")\n",
    "            print(f\"F1_ARBOL  n: {n}, depth: {m}, y f1 : {f1_arbol}\")"
   ]
  },
  {
   "cell_type": "markdown",
   "metadata": {},
   "source": [
    "\n",
    "<B><FONT color=blue> EN DOWNSAMPLE SE LLEGA A LA METRICA F1 A 0.60 Y EN PRECISION 0.50 LO CUAL ES BAJO PERO APENAS ARRIBA DEL MARGEN DE TOLERANCIA CON NUMERO DE ESTIMADORES : 83 Y PROFUNDIDAD DE 8 .  </FONT></B>"
   ]
  },
  {
   "cell_type": "markdown",
   "metadata": {},
   "source": [
    "<B>UPSAMPLED</b>"
   ]
  },
  {
   "cell_type": "code",
   "execution_count": 46,
   "metadata": {},
   "outputs": [
    {
     "name": "stdout",
     "output_type": "stream",
     "text": [
      "PRECISION n: 150, depth: 1 y precision_score: 0.4369266055045872\n",
      "F1_ARBOL  n: 150, depth: 1, y f1 : 0.5415778251599147\n",
      "PRECISION n: 170, depth: 1 y precision_score: 0.4379310344827586\n",
      "F1_ARBOL  n: 170, depth: 1, y f1 : 0.5423487544483986\n",
      "PRECISION n: 224, depth: 1 y precision_score: 0.4372146118721461\n",
      "F1_ARBOL  n: 224, depth: 1, y f1 : 0.5428773919206237\n",
      "PRECISION n: 150, depth: 2 y precision_score: 0.44954128440366975\n",
      "F1_ARBOL  n: 150, depth: 2, y f1 : 0.5572139303482587\n",
      "PRECISION n: 156, depth: 2 y precision_score: 0.4504608294930876\n",
      "F1_ARBOL  n: 156, depth: 2, y f1 : 0.5573770491803279\n",
      "PRECISION n: 157, depth: 2 y precision_score: 0.45098039215686275\n",
      "F1_ARBOL  n: 157, depth: 2, y f1 : 0.557774607703281\n",
      "PRECISION n: 158, depth: 2 y precision_score: 0.454123112659698\n",
      "F1_ARBOL  n: 158, depth: 2, y f1 : 0.5601719197707736\n",
      "PRECISION n: 159, depth: 2 y precision_score: 0.4557109557109557\n",
      "F1_ARBOL  n: 159, depth: 2, y f1 : 0.5613783201722901\n",
      "PRECISION n: 160, depth: 2 y precision_score: 0.4567757009345794\n",
      "F1_ARBOL  n: 160, depth: 2, y f1 : 0.5621854780733284\n",
      "PRECISION n: 162, depth: 2 y precision_score: 0.4594594594594595\n",
      "F1_ARBOL  n: 162, depth: 2, y f1 : 0.5642135642135643\n",
      "PRECISION n: 209, depth: 2 y precision_score: 0.46338535414165666\n",
      "F1_ARBOL  n: 209, depth: 2, y f1 : 0.5643274853801169\n",
      "PRECISION n: 210, depth: 2 y precision_score: 0.4639423076923077\n",
      "F1_ARBOL  n: 210, depth: 2, y f1 : 0.5647403072421361\n",
      "PRECISION n: 211, depth: 2 y precision_score: 0.46618357487922707\n",
      "F1_ARBOL  n: 211, depth: 2, y f1 : 0.5663976522377109\n",
      "PRECISION n: 216, depth: 2 y precision_score: 0.4667472793228537\n",
      "F1_ARBOL  n: 216, depth: 2, y f1 : 0.566813509544787\n",
      "PRECISION n: 217, depth: 2 y precision_score: 0.4678787878787879\n",
      "F1_ARBOL  n: 217, depth: 2, y f1 : 0.5676470588235294\n",
      "PRECISION n: 150, depth: 3 y precision_score: 0.49557522123893805\n",
      "F1_ARBOL  n: 150, depth: 3, y f1 : 0.5912518853695324\n",
      "PRECISION n: 153, depth: 3 y precision_score: 0.4962025316455696\n",
      "F1_ARBOL  n: 153, depth: 3, y f1 : 0.5916981132075472\n",
      "PRECISION n: 217, depth: 3 y precision_score: 0.49808429118773945\n",
      "F1_ARBOL  n: 217, depth: 3, y f1 : 0.5918057663125947\n",
      "PRECISION n: 151, depth: 4 y precision_score: 0.4949748743718593\n",
      "F1_ARBOL  n: 151, depth: 4, y f1 : 0.5920360631104432\n",
      "PRECISION n: 152, depth: 4 y precision_score: 0.4962311557788945\n",
      "F1_ARBOL  n: 152, depth: 4, y f1 : 0.5935386927122464\n",
      "PRECISION n: 247, depth: 4 y precision_score: 0.4987309644670051\n",
      "F1_ARBOL  n: 247, depth: 4, y f1 : 0.5941043083900226\n",
      "PRECISION n: 150, depth: 5 y precision_score: 0.5095785440613027\n",
      "F1_ARBOL  n: 150, depth: 5, y f1 : 0.6054628224582701\n",
      "PRECISION n: 151, depth: 5 y precision_score: 0.5095541401273885\n",
      "F1_ARBOL  n: 151, depth: 5, y f1 : 0.6060606060606061\n",
      "PRECISION n: 173, depth: 5 y precision_score: 0.5102040816326531\n",
      "F1_ARBOL  n: 173, depth: 5, y f1 : 0.6065200909780136\n",
      "PRECISION n: 214, depth: 5 y precision_score: 0.5108556832694764\n",
      "F1_ARBOL  n: 214, depth: 5, y f1 : 0.6069802731411228\n",
      "PRECISION n: 215, depth: 5 y precision_score: 0.5115089514066496\n",
      "F1_ARBOL  n: 215, depth: 5, y f1 : 0.6074411541381929\n",
      "PRECISION n: 225, depth: 5 y precision_score: 0.512853470437018\n",
      "F1_ARBOL  n: 225, depth: 5, y f1 : 0.6077684691546077\n",
      "PRECISION n: 201, depth: 7 y precision_score: 0.5191545574636723\n",
      "F1_ARBOL  n: 201, depth: 7, y f1 : 0.6083591331269349\n",
      "PRECISION n: 203, depth: 7 y precision_score: 0.5191040843214756\n",
      "F1_ARBOL  n: 203, depth: 7, y f1 : 0.6089644513137558\n",
      "PRECISION n: 210, depth: 7 y precision_score: 0.5218543046357615\n",
      "F1_ARBOL  n: 210, depth: 7, y f1 : 0.6108527131782945\n",
      "PRECISION n: 154, depth: 8 y precision_score: 0.5294117647058824\n",
      "F1_ARBOL  n: 154, depth: 8, y f1 : 0.6113744075829383\n",
      "PRECISION n: 151, depth: 10 y precision_score: 0.5614307931570762\n",
      "F1_ARBOL  n: 151, depth: 10, y f1 : 0.6129032258064516\n",
      "PRECISION n: 231, depth: 10 y precision_score: 0.5623052959501558\n",
      "F1_ARBOL  n: 231, depth: 10, y f1 : 0.6134239592183517\n",
      "PRECISION n: 243, depth: 10 y precision_score: 0.562111801242236\n",
      "F1_ARBOL  n: 243, depth: 10, y f1 : 0.6140797285835454\n",
      "PRECISION n: 150, depth: 11 y precision_score: 0.5796387520525451\n",
      "F1_ARBOL  n: 150, depth: 11, y f1 : 0.6171328671328672\n",
      "PRECISION n: 152, depth: 11 y precision_score: 0.5805921052631579\n",
      "F1_ARBOL  n: 152, depth: 11, y f1 : 0.6176727909011374\n",
      "PRECISION n: 171, depth: 11 y precision_score: 0.5812807881773399\n",
      "F1_ARBOL  n: 171, depth: 11, y f1 : 0.618881118881119\n"
     ]
    }
   ],
   "source": [
    "best_score_up = 0\n",
    "for m in range(1,20):\n",
    "    for n in range(150,250):\n",
    "        model = RandomForestClassifier(random_state=12345,n_estimators=n,max_depth=m,class_weight='balanced')\n",
    "        model.fit(features_upsampled, target_upsampled)\n",
    "        predicted_valid = model.predict(features_valid)\n",
    "        f1_arbol_up=f1_score(target_valid, predicted_valid)\n",
    "        \n",
    "        precision_arbol_up=precision_score(target_valid,predicted_valid)\n",
    "        #print(f\"est: {n} , depth:{m}\")\n",
    "        if f1_arbol_up > best_score_up :\n",
    "            best_score_up = f1_arbol_up\n",
    "            print(f\"PRECISION n: {n}, depth: {m} y precision_score: {precision_arbol_up}\")\n",
    "            print(f\"F1_ARBOL  n: {n}, depth: {m}, y f1 : {f1_arbol_up}\")"
   ]
  },
  {
   "cell_type": "markdown",
   "metadata": {},
   "source": [
    " \n",
    "<B><FONT color=blue> EN EL CASO DE UPSAMPLING NOS DA UNAS METRICAS DE 0.618 TANTO EN F1 Y EN PRECISION 0.581, LO CUAL TAMBIEN ES BAJO , CON LOS HIPERPARAMETROS EN N_ESTIMATORS: 171 Y MAX_DEPTH EN 11 . </FONT></B>"
   ]
  },
  {
   "cell_type": "markdown",
   "metadata": {},
   "source": [
    "<h2>Realiza la prueba final.</h2>"
   ]
  },
  {
   "cell_type": "markdown",
   "metadata": {},
   "source": [
    "<B>PRUEBA CON UPSAMPLING  </B>"
   ]
  },
  {
   "cell_type": "code",
   "execution_count": 63,
   "metadata": {},
   "outputs": [
    {
     "name": "stdout",
     "output_type": "stream",
     "text": [
      "0.618881118881119\n"
     ]
    }
   ],
   "source": [
    "model_up_fin = RandomForestClassifier(random_state=12345,n_estimators=171,max_depth=11,class_weight='balanced')\n",
    "model_up_fin=model_up_fin.fit(features_upsampled, target_upsampled)\n",
    "predicted_valid_up_fin = model_up_fin.predict(features_valid)\n",
    "f1_arbol_up_fin=f1_score(target_valid,predicted_valid_up_fin)\n",
    "print(f1_score(target_valid,predicted_valid_up_fin))"
   ]
  },
  {
   "cell_type": "code",
   "execution_count": 64,
   "metadata": {},
   "outputs": [
    {
     "name": "stdout",
     "output_type": "stream",
     "text": [
      "0.8482965922332405\n"
     ]
    }
   ],
   "source": [
    "probabilities_valid_forest_up_f = model_up_fin.predict_proba(features_valid)\n",
    "probabilities_one_valid_forest_up_f = probabilities_valid_forest_up_f[:, 1]\n",
    "auc_roc_up_f=roc_auc_score(target_valid, probabilities_one_valid_forest_up_f)\n",
    "print(auc_roc_up_f)"
   ]
  },
  {
   "cell_type": "code",
   "execution_count": 65,
   "metadata": {},
   "outputs": [
    {
     "name": "stdout",
     "output_type": "stream",
     "text": [
      "[[1710  255]\n",
      " [ 181  354]]\n",
      "0.6616822429906543\n",
      "0.5812807881773399\n"
     ]
    }
   ],
   "source": [
    "print(confusion_matrix(target_valid,predicted_valid_up_fin))\n",
    "print(recall_score(target_valid,predicted_valid_up_fin))\n",
    "print(precision_score(target_valid,predicted_valid_up_fin))"
   ]
  },
  {
   "cell_type": "code",
   "execution_count": 66,
   "metadata": {},
   "outputs": [
    {
     "data": {
      "image/png": "[encoded data removed]",
      "text/plain": [
       "<Figure size 640x480 with 1 Axes>"
      ]
     },
     "metadata": {},
     "output_type": "display_data"
    }
   ],
   "source": [
    "fup_f_forest, tup_f_forest, thresholds_forest_up_f = roc_curve(target_valid,probabilities_one_valid_forest_up_f)\n",
    "\n",
    "plt.figure()\n",
    "plt.plot(fup_f_forest, tup_f_forest,linewidth=1)\n",
    "\n",
    "plt.xlim([0.0, 1.0])\n",
    "plt.ylim([0.0, 1.0])\n",
    "plt.xlabel('Tasa de falsos positivos')\n",
    "plt.ylabel('Tasa de verdaderos positivos')\n",
    "plt.title('Curva ROC')\n",
    "plt.show()"
   ]
  },
  {
   "cell_type": "markdown",
   "metadata": {},
   "source": [
    "downsampled"
   ]
  },
  {
   "cell_type": "code",
   "execution_count": 67,
   "metadata": {},
   "outputs": [
    {
     "name": "stdout",
     "output_type": "stream",
     "text": [
      "0.6096096096096096\n"
     ]
    }
   ],
   "source": [
    "model_dw_fin = RandomForestClassifier(random_state=12345,n_estimators=83,max_depth=8,class_weight='balanced')\n",
    "model_dw_fin=model_dw_fin.fit(features_downsampled, target_downsampled)\n",
    "predicted_valid_dw_fin = model_dw_fin.predict(features_valid)\n",
    "f1_arbol_dw_fin=f1_score(target_valid,predicted_valid_dw_fin)\n",
    "print(f1_score(target_valid,predicted_valid_dw_fin))"
   ]
  },
  {
   "cell_type": "code",
   "execution_count": 68,
   "metadata": {},
   "outputs": [
    {
     "name": "stdout",
     "output_type": "stream",
     "text": [
      "0.8507792918123233\n"
     ]
    }
   ],
   "source": [
    "probabilities_valid_forest_dw_f = model_dw_fin.predict_proba(features_valid)\n",
    "probabilities_one_valid_forest_dw_f = probabilities_valid_forest_dw_f[:, 1]\n",
    "auc_roc_dw_f=roc_auc_score(target_valid, probabilities_one_valid_forest_dw_f)\n",
    "print(auc_roc_dw_f)"
   ]
  },
  {
   "cell_type": "code",
   "execution_count": 69,
   "metadata": {},
   "outputs": [
    {
     "name": "stdout",
     "output_type": "stream",
     "text": [
      "[[1574  391]\n",
      " [ 129  406]]\n",
      "0.7588785046728972\n",
      "0.5094102885821832\n"
     ]
    }
   ],
   "source": [
    "print(confusion_matrix(target_valid,predicted_valid_dw_fin))\n",
    "print(recall_score(target_valid,predicted_valid_dw_fin))\n",
    "print(precision_score(target_valid,predicted_valid_dw_fin))"
   ]
  },
  {
   "cell_type": "code",
   "execution_count": 70,
   "metadata": {},
   "outputs": [
    {
     "data": {
      "image/png": "[encoded data removed]",
      "text/plain": [
       "<Figure size 640x480 with 1 Axes>"
      ]
     },
     "metadata": {},
     "output_type": "display_data"
    }
   ],
   "source": [
    "fdw_f_forest, tdw_f_forest, thresholds_forest_dw_f = roc_curve(target_valid,probabilities_one_valid_forest_dw_f)\n",
    "\n",
    "plt.figure()\n",
    "plt.plot(fdw_f_forest, tdw_f_forest)\n",
    "\n",
    "plt.xlim([0.0, 1.0])\n",
    "plt.ylim([0.0, 1.0])\n",
    "plt.xlabel('Tasa de falsos positivos')\n",
    "plt.ylabel('Tasa de verdaderos positivos')\n",
    "plt.title('Curva ROC')\n",
    "plt.show()"
   ]
  },
  {
   "cell_type": "code",
   "execution_count": 71,
   "metadata": {},
   "outputs": [
    {
     "name": "stdout",
     "output_type": "stream",
     "text": [
      "0.6241258741258741\n"
     ]
    }
   ],
   "source": [
    "model = RandomForestClassifier(random_state=12345,n_estimators=41,max_depth=9,class_weight='balanced')\n",
    "model.fit(features_train, target_train)\n",
    "predicted_valid = model.predict(features_valid)\n",
    "f1_arbol_train=f1_score(target_valid,predicted_valid)\n",
    "print(f1_arbol_train)"
   ]
  },
  {
   "cell_type": "code",
   "execution_count": 72,
   "metadata": {},
   "outputs": [
    {
     "name": "stdout",
     "output_type": "stream",
     "text": [
      "0.8485277401250861\n"
     ]
    }
   ],
   "source": [
    "probabilities_valid_forest = model.predict_proba(features_valid)\n",
    "probabilities_one_valid_forest = probabilities_valid_forest[:, 1]\n",
    "auc_roc=roc_auc_score(target_valid, probabilities_one_valid_forest)\n",
    "print(auc_roc)"
   ]
  },
  {
   "cell_type": "code",
   "execution_count": 73,
   "metadata": {},
   "outputs": [
    {
     "name": "stdout",
     "output_type": "stream",
     "text": [
      "[[1713  252]\n",
      " [ 178  357]]\n",
      "0.6672897196261682\n",
      "0.5862068965517241\n"
     ]
    }
   ],
   "source": [
    "print(confusion_matrix(target_valid,predicted_valid))\n",
    "print(recall_score(target_valid,predicted_valid))\n",
    "print(precision_score(target_valid,predicted_valid))"
   ]
  },
  {
   "cell_type": "code",
   "execution_count": 74,
   "metadata": {},
   "outputs": [
    {
     "data": {
      "image/png": "[encoded data removed]",
      "text/plain": [
       "<Figure size 640x480 with 1 Axes>"
      ]
     },
     "metadata": {},
     "output_type": "display_data"
    }
   ],
   "source": [
    "fpr_forest, tpr_forest, thresholds_forest = roc_curve(target_valid,probabilities_one_valid_forest)\n",
    "\n",
    "plt.figure()\n",
    "plt.plot(fpr_forest, tpr_forest)\n",
    "plt.xlim([0.0, 1.0])\n",
    "plt.ylim([0.0, 1.0])\n",
    "plt.xlabel('Tasa de falsos positivos')\n",
    "plt.ylabel('Tasa de verdaderos positivos')\n",
    "plt.title('Curva ROC')\n",
    "plt.show()"
   ]
  },
  {
   "cell_type": "markdown",
   "metadata": {},
   "source": [
    "\n",
    "<B><FONT color=blue> SE HACE LA PRUEBA CON EL MODELO DE BOSQUE ALEATORIO Y CONFORME A LA METRICA AUC-ROC NOS DA UN RESULTADO BUENO DE 0.8485 , ASI MISMO TAMBIEN EN LA MATRIZ DE CONFUSION PODEMOS NOTAR QUE LAS MAJORES PREDICCIONES CORRESPONDEN AL VERDADERO NEGATIVO Y VERDADERO POSITIVO, Y POR OTRA PARTE SE PUEDE APRECIAR LA CURVA ROC CON BUEN RENDIMIENTOEN COMPARACION A DONWSAMPLED Y UPSAMPLED  </FONT></B>"
   ]
  },
  {
   "cell_type": "markdown",
   "metadata": {},
   "source": [
    "\n",
    "<B><FONT color=blue> SE HACE LA PRUEBA CON EL MODELO DE BOSQUE ALEATORIO y UPSAMPLING Y CONFORME A LA METRICA AUC-ROC NOS DA UN RESULTADO PERFECTO DE 1 , ASI MISMO TAMBIEN EN LA MATRIZ DE CONFUSION PODEMOS NOTAR QUE EXISTEN LAS PREDICCIONES IDEALES AL VERDADERO NEGATIVO Y VERDADERO POSITIVO, Y POR OTRA PARTE SE PUEDE APRECIAR LA CURVA ROC CON PERFECTO RENDIMIENTO  </FONT></B>"
   ]
  }
 ],
 "metadata": {
  "ExecuteTimeLog": [
   {
    "duration": 791,
    "start_time": "2024-11-04T08:30:52.848Z"
   },
   {
    "duration": 22,
    "start_time": "2024-11-04T08:31:18.602Z"
   },
   {
    "duration": 21,
    "start_time": "2024-11-04T08:31:21.379Z"
   },
   {
    "duration": 10,
    "start_time": "2024-11-04T08:31:31.683Z"
   },
   {
    "duration": 10,
    "start_time": "2024-11-04T08:31:46.755Z"
   },
   {
    "duration": 611,
    "start_time": "2024-11-04T08:31:55.144Z"
   },
   {
    "duration": 6,
    "start_time": "2024-11-04T08:32:05.603Z"
   },
   {
    "duration": 120,
    "start_time": "2024-11-04T08:32:12.753Z"
   },
   {
    "duration": 5,
    "start_time": "2024-11-04T08:32:19.341Z"
   },
   {
    "duration": 6,
    "start_time": "2024-11-04T08:32:31.627Z"
   },
   {
    "duration": 17,
    "start_time": "2024-11-04T08:32:40.377Z"
   },
   {
    "duration": 840,
    "start_time": "2024-11-05T03:34:39.855Z"
   },
   {
    "duration": 26,
    "start_time": "2024-11-05T03:34:40.697Z"
   },
   {
    "duration": 13,
    "start_time": "2024-11-05T03:34:43.221Z"
   },
   {
    "duration": 19,
    "start_time": "2024-11-05T03:34:45.091Z"
   },
   {
    "duration": 22,
    "start_time": "2024-11-05T03:37:10.680Z"
   },
   {
    "duration": 15,
    "start_time": "2024-11-05T03:37:23.594Z"
   },
   {
    "duration": 16,
    "start_time": "2024-11-05T03:37:32.176Z"
   },
   {
    "duration": 17,
    "start_time": "2024-11-05T03:37:40.517Z"
   },
   {
    "duration": 10,
    "start_time": "2024-11-05T03:53:01.818Z"
   },
   {
    "duration": 6,
    "start_time": "2024-11-05T03:54:21.982Z"
   },
   {
    "duration": 5,
    "start_time": "2024-11-05T03:54:31.826Z"
   },
   {
    "duration": 17,
    "start_time": "2024-11-05T03:54:37.831Z"
   },
   {
    "duration": 6,
    "start_time": "2024-11-05T04:00:24.855Z"
   },
   {
    "duration": 6,
    "start_time": "2024-11-05T04:00:30.416Z"
   },
   {
    "duration": 17,
    "start_time": "2024-11-05T04:00:37.621Z"
   },
   {
    "duration": 5,
    "start_time": "2024-11-05T04:00:46.580Z"
   },
   {
    "duration": 4,
    "start_time": "2024-11-05T04:00:55.697Z"
   },
   {
    "duration": 217,
    "start_time": "2024-11-05T04:01:18.334Z"
   },
   {
    "duration": 32,
    "start_time": "2024-11-05T04:02:18.820Z"
   },
   {
    "duration": 15,
    "start_time": "2024-11-05T04:09:51.490Z"
   },
   {
    "duration": 30,
    "start_time": "2024-11-05T04:09:59.901Z"
   },
   {
    "duration": 14,
    "start_time": "2024-11-05T04:10:19.523Z"
   },
   {
    "duration": 12,
    "start_time": "2024-11-05T04:10:29.523Z"
   },
   {
    "duration": 13,
    "start_time": "2024-11-05T04:10:44.834Z"
   },
   {
    "duration": 28,
    "start_time": "2024-11-05T04:13:37.610Z"
   },
   {
    "duration": 5,
    "start_time": "2024-11-05T04:13:44.501Z"
   },
   {
    "duration": 10,
    "start_time": "2024-11-05T05:06:53.367Z"
   },
   {
    "duration": 13,
    "start_time": "2024-11-05T05:07:02.697Z"
   },
   {
    "duration": 12,
    "start_time": "2024-11-05T05:21:55.949Z"
   },
   {
    "duration": 5,
    "start_time": "2024-11-05T05:22:13.826Z"
   },
   {
    "duration": 5,
    "start_time": "2024-11-05T05:22:24.570Z"
   },
   {
    "duration": 6,
    "start_time": "2024-11-05T05:22:28.329Z"
   },
   {
    "duration": 17,
    "start_time": "2024-11-05T05:22:35.321Z"
   },
   {
    "duration": 4,
    "start_time": "2024-11-05T05:23:07.503Z"
   },
   {
    "duration": 18,
    "start_time": "2024-11-05T05:23:08.192Z"
   },
   {
    "duration": 6,
    "start_time": "2024-11-05T05:23:09.417Z"
   },
   {
    "duration": 2,
    "start_time": "2024-11-05T05:23:11.815Z"
   },
   {
    "duration": 14,
    "start_time": "2024-11-05T05:23:13.345Z"
   },
   {
    "duration": 19,
    "start_time": "2024-11-05T05:23:28.173Z"
   },
   {
    "duration": 17,
    "start_time": "2024-11-05T05:23:28.343Z"
   },
   {
    "duration": 10,
    "start_time": "2024-11-05T05:23:28.508Z"
   },
   {
    "duration": 16,
    "start_time": "2024-11-05T05:23:28.682Z"
   },
   {
    "duration": 11,
    "start_time": "2024-11-05T05:23:28.857Z"
   },
   {
    "duration": 17,
    "start_time": "2024-11-05T05:23:29.067Z"
   },
   {
    "duration": 4,
    "start_time": "2024-11-05T05:23:29.536Z"
   },
   {
    "duration": 16,
    "start_time": "2024-11-05T05:23:30.809Z"
   },
   {
    "duration": 6,
    "start_time": "2024-11-05T05:23:32.803Z"
   },
   {
    "duration": 2,
    "start_time": "2024-11-05T05:23:34.044Z"
   },
   {
    "duration": 13,
    "start_time": "2024-11-05T05:23:35.004Z"
   },
   {
    "duration": 70,
    "start_time": "2024-11-05T05:26:04.551Z"
   },
   {
    "duration": 63,
    "start_time": "2024-11-05T05:26:20.697Z"
   },
   {
    "duration": 50,
    "start_time": "2024-11-05T05:27:02.096Z"
   },
   {
    "duration": 171,
    "start_time": "2024-11-05T05:27:16.621Z"
   },
   {
    "duration": 114,
    "start_time": "2024-11-05T05:27:24.891Z"
   },
   {
    "duration": 46,
    "start_time": "2024-11-05T05:27:36.034Z"
   },
   {
    "duration": 46,
    "start_time": "2024-11-05T05:38:33.322Z"
   },
   {
    "duration": 67,
    "start_time": "2024-11-05T05:38:41.997Z"
   },
   {
    "duration": 48,
    "start_time": "2024-11-05T05:45:05.144Z"
   },
   {
    "duration": 3,
    "start_time": "2024-11-05T05:45:55.747Z"
   },
   {
    "duration": 14,
    "start_time": "2024-11-05T05:45:55.929Z"
   },
   {
    "duration": 10,
    "start_time": "2024-11-05T05:45:56.094Z"
   },
   {
    "duration": 17,
    "start_time": "2024-11-05T05:45:56.272Z"
   },
   {
    "duration": 11,
    "start_time": "2024-11-05T05:45:56.448Z"
   },
   {
    "duration": 17,
    "start_time": "2024-11-05T05:45:57.116Z"
   },
   {
    "duration": 48,
    "start_time": "2024-11-05T05:46:27.778Z"
   },
   {
    "duration": 3,
    "start_time": "2024-11-05T05:47:40.385Z"
   },
   {
    "duration": 16,
    "start_time": "2024-11-05T05:47:41.580Z"
   },
   {
    "duration": 29,
    "start_time": "2024-11-05T05:48:02.634Z"
   },
   {
    "duration": 18,
    "start_time": "2024-11-05T05:48:03.396Z"
   },
   {
    "duration": 123,
    "start_time": "2024-11-05T05:48:10.834Z"
   },
   {
    "duration": 3,
    "start_time": "2024-11-05T05:48:12.076Z"
   },
   {
    "duration": 154,
    "start_time": "2024-11-05T05:48:15.473Z"
   },
   {
    "duration": 166,
    "start_time": "2024-11-05T05:48:18.917Z"
   },
   {
    "duration": 3,
    "start_time": "2024-11-05T06:06:21.328Z"
   },
   {
    "duration": 3,
    "start_time": "2024-11-05T06:13:03.235Z"
   },
   {
    "duration": 14,
    "start_time": "2024-11-05T06:13:03.420Z"
   },
   {
    "duration": 10,
    "start_time": "2024-11-05T06:13:03.582Z"
   },
   {
    "duration": 16,
    "start_time": "2024-11-05T06:13:03.737Z"
   },
   {
    "duration": 12,
    "start_time": "2024-11-05T06:13:03.919Z"
   },
   {
    "duration": 18,
    "start_time": "2024-11-05T06:13:04.146Z"
   },
   {
    "duration": 53,
    "start_time": "2024-11-05T06:13:04.391Z"
   },
   {
    "duration": 21,
    "start_time": "2024-11-05T06:13:04.742Z"
   },
   {
    "duration": 18,
    "start_time": "2024-11-05T06:13:04.988Z"
   },
   {
    "duration": 127,
    "start_time": "2024-11-05T06:13:05.632Z"
   },
   {
    "duration": 170,
    "start_time": "2024-11-05T06:13:06.167Z"
   },
   {
    "duration": 28,
    "start_time": "2024-11-05T06:16:28.897Z"
   },
   {
    "duration": 30,
    "start_time": "2024-11-05T06:16:42.540Z"
   },
   {
    "duration": 156,
    "start_time": "2024-11-10T01:13:55.693Z"
   },
   {
    "duration": 797,
    "start_time": "2024-11-10T01:14:03.367Z"
   },
   {
    "duration": 38,
    "start_time": "2024-11-10T01:14:04.166Z"
   },
   {
    "duration": 10,
    "start_time": "2024-11-10T01:14:04.205Z"
   },
   {
    "duration": 17,
    "start_time": "2024-11-10T01:14:04.217Z"
   },
   {
    "duration": 11,
    "start_time": "2024-11-10T01:14:04.236Z"
   },
   {
    "duration": 16,
    "start_time": "2024-11-10T01:14:04.250Z"
   },
   {
    "duration": 51,
    "start_time": "2024-11-10T01:14:04.351Z"
   },
   {
    "duration": 41,
    "start_time": "2024-11-10T01:14:04.628Z"
   },
   {
    "duration": 18,
    "start_time": "2024-11-10T01:14:04.721Z"
   },
   {
    "duration": 135,
    "start_time": "2024-11-10T01:14:05.130Z"
   },
   {
    "duration": 179,
    "start_time": "2024-11-10T01:14:05.271Z"
   },
   {
    "duration": 101,
    "start_time": "2024-11-10T01:14:05.460Z"
   },
   {
    "duration": 6,
    "start_time": "2024-11-10T01:14:06.740Z"
   },
   {
    "duration": 76,
    "start_time": "2024-11-10T06:38:31.879Z"
   },
   {
    "duration": 3,
    "start_time": "2024-11-10T06:39:01.672Z"
   },
   {
    "duration": 14,
    "start_time": "2024-11-10T06:39:01.894Z"
   },
   {
    "duration": 10,
    "start_time": "2024-11-10T06:39:02.106Z"
   },
   {
    "duration": 16,
    "start_time": "2024-11-10T06:39:02.418Z"
   },
   {
    "duration": 11,
    "start_time": "2024-11-10T06:39:02.747Z"
   },
   {
    "duration": 20,
    "start_time": "2024-11-10T06:39:03.053Z"
   },
   {
    "duration": 49,
    "start_time": "2024-11-10T06:39:03.716Z"
   },
   {
    "duration": 18,
    "start_time": "2024-11-10T06:39:04.352Z"
   },
   {
    "duration": 19,
    "start_time": "2024-11-10T06:39:04.781Z"
   },
   {
    "duration": 125,
    "start_time": "2024-11-10T06:39:06.299Z"
   },
   {
    "duration": 164,
    "start_time": "2024-11-10T06:39:06.929Z"
   },
   {
    "duration": 28,
    "start_time": "2024-11-10T06:39:07.758Z"
   },
   {
    "duration": 6,
    "start_time": "2024-11-10T06:39:09.318Z"
   },
   {
    "duration": 5,
    "start_time": "2024-11-10T06:39:09.864Z"
   },
   {
    "duration": 23,
    "start_time": "2024-11-10T06:40:10.533Z"
   },
   {
    "duration": 4,
    "start_time": "2024-11-10T06:40:21.607Z"
   },
   {
    "duration": 4,
    "start_time": "2024-11-10T06:42:30.564Z"
   },
   {
    "duration": 14,
    "start_time": "2024-11-10T06:42:32.042Z"
   },
   {
    "duration": 10,
    "start_time": "2024-11-10T06:42:32.205Z"
   },
   {
    "duration": 15,
    "start_time": "2024-11-10T06:42:32.413Z"
   },
   {
    "duration": 11,
    "start_time": "2024-11-10T06:42:32.592Z"
   },
   {
    "duration": 16,
    "start_time": "2024-11-10T06:42:32.880Z"
   },
   {
    "duration": 45,
    "start_time": "2024-11-10T06:42:33.683Z"
   },
   {
    "duration": 23,
    "start_time": "2024-11-10T06:42:34.069Z"
   },
   {
    "duration": 19,
    "start_time": "2024-11-10T06:42:34.568Z"
   },
   {
    "duration": 8,
    "start_time": "2024-11-10T06:42:35.166Z"
   },
   {
    "duration": 125,
    "start_time": "2024-11-10T06:42:36.440Z"
   },
   {
    "duration": 168,
    "start_time": "2024-11-10T06:42:36.750Z"
   },
   {
    "duration": 28,
    "start_time": "2024-11-10T06:42:38.427Z"
   },
   {
    "duration": 5,
    "start_time": "2024-11-10T06:42:40.556Z"
   },
   {
    "duration": 6,
    "start_time": "2024-11-10T06:42:40.889Z"
   },
   {
    "duration": 6,
    "start_time": "2024-11-10T06:42:54.357Z"
   },
   {
    "duration": 748,
    "start_time": "2024-11-10T19:57:56.191Z"
   },
   {
    "duration": 25,
    "start_time": "2024-11-10T19:57:56.941Z"
   },
   {
    "duration": 12,
    "start_time": "2024-11-10T19:57:57.308Z"
   },
   {
    "duration": 19,
    "start_time": "2024-11-10T19:57:57.775Z"
   },
   {
    "duration": 12,
    "start_time": "2024-11-10T19:57:58.379Z"
   },
   {
    "duration": 17,
    "start_time": "2024-11-10T19:57:58.989Z"
   },
   {
    "duration": 54,
    "start_time": "2024-11-10T19:58:00.848Z"
   },
   {
    "duration": 41,
    "start_time": "2024-11-10T19:58:01.319Z"
   },
   {
    "duration": 18,
    "start_time": "2024-11-10T19:58:01.925Z"
   },
   {
    "duration": 5,
    "start_time": "2024-11-10T19:58:02.639Z"
   },
   {
    "duration": 156,
    "start_time": "2024-11-10T19:58:04.229Z"
   },
   {
    "duration": 183,
    "start_time": "2024-11-10T19:58:04.630Z"
   },
   {
    "duration": 29,
    "start_time": "2024-11-10T19:58:05.382Z"
   },
   {
    "duration": 4,
    "start_time": "2024-11-10T19:58:06.995Z"
   },
   {
    "duration": 5,
    "start_time": "2024-11-10T19:58:07.596Z"
   },
   {
    "duration": 6,
    "start_time": "2024-11-10T19:58:08.151Z"
   },
   {
    "duration": 18,
    "start_time": "2024-11-11T04:33:46.488Z"
   },
   {
    "duration": 10,
    "start_time": "2024-11-11T04:33:52.029Z"
   },
   {
    "duration": 5,
    "start_time": "2024-11-11T04:40:06.484Z"
   },
   {
    "duration": 231,
    "start_time": "2024-11-11T04:40:31.517Z"
   },
   {
    "duration": 3,
    "start_time": "2024-11-11T04:40:34.526Z"
   },
   {
    "duration": 3,
    "start_time": "2024-11-11T04:40:43.336Z"
   },
   {
    "duration": 15,
    "start_time": "2024-11-11T04:41:06.321Z"
   },
   {
    "duration": 18,
    "start_time": "2024-11-11T04:41:09.944Z"
   },
   {
    "duration": 3,
    "start_time": "2024-11-11T04:41:33.605Z"
   },
   {
    "duration": 14,
    "start_time": "2024-11-11T05:49:56.887Z"
   },
   {
    "duration": 9,
    "start_time": "2024-11-11T05:52:41.133Z"
   },
   {
    "duration": 14,
    "start_time": "2024-11-11T05:52:42.949Z"
   },
   {
    "duration": 11,
    "start_time": "2024-11-11T05:52:43.356Z"
   },
   {
    "duration": 16,
    "start_time": "2024-11-11T05:52:43.661Z"
   },
   {
    "duration": 12,
    "start_time": "2024-11-11T05:52:44.173Z"
   },
   {
    "duration": 17,
    "start_time": "2024-11-11T05:52:44.736Z"
   },
   {
    "duration": 11,
    "start_time": "2024-11-11T05:52:45.243Z"
   },
   {
    "duration": 50,
    "start_time": "2024-11-11T05:52:45.998Z"
   },
   {
    "duration": 18,
    "start_time": "2024-11-11T05:52:46.384Z"
   },
   {
    "duration": 24,
    "start_time": "2024-11-11T05:52:46.932Z"
   },
   {
    "duration": 4,
    "start_time": "2024-11-11T05:52:47.359Z"
   },
   {
    "duration": 127,
    "start_time": "2024-11-11T05:52:48.382Z"
   },
   {
    "duration": 166,
    "start_time": "2024-11-11T05:52:49.109Z"
   },
   {
    "duration": 26,
    "start_time": "2024-11-11T05:52:49.837Z"
   },
   {
    "duration": 5,
    "start_time": "2024-11-11T05:52:51.058Z"
   },
   {
    "duration": 5,
    "start_time": "2024-11-11T05:52:51.463Z"
   },
   {
    "duration": 6,
    "start_time": "2024-11-11T05:52:51.760Z"
   },
   {
    "duration": 5,
    "start_time": "2024-11-11T05:52:52.272Z"
   },
   {
    "duration": 220,
    "start_time": "2024-11-11T05:53:04.548Z"
   },
   {
    "duration": 780,
    "start_time": "2024-11-11T07:04:38.971Z"
   },
   {
    "duration": 17,
    "start_time": "2024-11-11T07:18:30.092Z"
   },
   {
    "duration": 3,
    "start_time": "2024-11-11T07:18:53.671Z"
   },
   {
    "duration": 16,
    "start_time": "2024-11-11T07:19:24.713Z"
   },
   {
    "duration": 1889,
    "start_time": "2024-11-11T07:19:45.366Z"
   },
   {
    "duration": 17,
    "start_time": "2024-11-11T07:19:47.257Z"
   },
   {
    "duration": 12,
    "start_time": "2024-11-11T07:19:47.276Z"
   },
   {
    "duration": 94,
    "start_time": "2024-11-11T07:19:47.291Z"
   },
   {
    "duration": 12,
    "start_time": "2024-11-11T07:19:47.386Z"
   },
   {
    "duration": 19,
    "start_time": "2024-11-11T07:19:47.409Z"
   },
   {
    "duration": 11,
    "start_time": "2024-11-11T07:19:47.430Z"
   },
   {
    "duration": 67,
    "start_time": "2024-11-11T07:19:47.442Z"
   },
   {
    "duration": 15,
    "start_time": "2024-11-11T07:19:47.997Z"
   },
   {
    "duration": 18,
    "start_time": "2024-11-11T07:19:48.237Z"
   },
   {
    "duration": 4,
    "start_time": "2024-11-11T07:19:48.551Z"
   },
   {
    "duration": 121,
    "start_time": "2024-11-11T07:19:49.500Z"
   },
   {
    "duration": 168,
    "start_time": "2024-11-11T07:19:50.053Z"
   },
   {
    "duration": 29,
    "start_time": "2024-11-11T07:19:50.592Z"
   },
   {
    "duration": 4,
    "start_time": "2024-11-11T07:19:51.740Z"
   },
   {
    "duration": 5,
    "start_time": "2024-11-11T07:19:52.160Z"
   },
   {
    "duration": 5,
    "start_time": "2024-11-11T07:19:52.621Z"
   },
   {
    "duration": 5,
    "start_time": "2024-11-11T07:19:53.093Z"
   },
   {
    "duration": 106,
    "start_time": "2024-11-11T07:19:53.805Z"
   },
   {
    "duration": 210,
    "start_time": "2024-11-11T07:20:14.799Z"
   },
   {
    "duration": 748,
    "start_time": "2024-11-11T07:20:15.716Z"
   },
   {
    "duration": 96,
    "start_time": "2024-11-11T07:28:43.262Z"
   },
   {
    "duration": 18061,
    "start_time": "2024-11-11T07:29:34.139Z"
   },
   {
    "duration": 13,
    "start_time": "2024-11-11T07:36:22.300Z"
   },
   {
    "duration": 3,
    "start_time": "2024-11-11T07:36:27.852Z"
   },
   {
    "duration": 14,
    "start_time": "2024-11-11T07:36:29.366Z"
   },
   {
    "duration": 10,
    "start_time": "2024-11-11T07:36:29.513Z"
   },
   {
    "duration": 16,
    "start_time": "2024-11-11T07:36:29.721Z"
   },
   {
    "duration": 11,
    "start_time": "2024-11-11T07:36:29.864Z"
   },
   {
    "duration": 16,
    "start_time": "2024-11-11T07:36:30.029Z"
   },
   {
    "duration": 10,
    "start_time": "2024-11-11T07:36:30.179Z"
   },
   {
    "duration": 47,
    "start_time": "2024-11-11T07:36:30.854Z"
   },
   {
    "duration": 17,
    "start_time": "2024-11-11T07:36:30.903Z"
   },
   {
    "duration": 19,
    "start_time": "2024-11-11T07:36:30.932Z"
   },
   {
    "duration": 5,
    "start_time": "2024-11-11T07:36:30.971Z"
   },
   {
    "duration": 138,
    "start_time": "2024-11-11T07:36:31.057Z"
   },
   {
    "duration": 179,
    "start_time": "2024-11-11T07:36:31.197Z"
   },
   {
    "duration": 106,
    "start_time": "2024-11-11T07:36:31.409Z"
   },
   {
    "duration": 5,
    "start_time": "2024-11-11T07:36:31.517Z"
   },
   {
    "duration": 4,
    "start_time": "2024-11-11T07:36:31.524Z"
   },
   {
    "duration": 80,
    "start_time": "2024-11-11T07:36:31.530Z"
   },
   {
    "duration": 4,
    "start_time": "2024-11-11T07:36:31.612Z"
   },
   {
    "duration": 119,
    "start_time": "2024-11-11T07:36:31.618Z"
   },
   {
    "duration": 209,
    "start_time": "2024-11-11T07:36:31.739Z"
   },
   {
    "duration": 875,
    "start_time": "2024-11-11T07:36:31.949Z"
   },
   {
    "duration": 962,
    "start_time": "2024-11-11T07:36:32.827Z"
   },
   {
    "duration": 950,
    "start_time": "2024-11-11T07:36:55.421Z"
   },
   {
    "duration": 4,
    "start_time": "2024-11-11T07:42:03.047Z"
   },
   {
    "duration": 3,
    "start_time": "2024-11-11T07:42:17.254Z"
   },
   {
    "duration": 3,
    "start_time": "2024-11-11T07:42:29.518Z"
   },
   {
    "duration": 3,
    "start_time": "2024-11-11T07:42:38.392Z"
   },
   {
    "duration": 2,
    "start_time": "2024-11-11T07:42:51.952Z"
   },
   {
    "duration": 3,
    "start_time": "2024-11-11T07:43:46.275Z"
   },
   {
    "duration": 13,
    "start_time": "2024-11-11T07:43:46.557Z"
   },
   {
    "duration": 10,
    "start_time": "2024-11-11T07:43:47.102Z"
   },
   {
    "duration": 16,
    "start_time": "2024-11-11T07:43:47.650Z"
   },
   {
    "duration": 11,
    "start_time": "2024-11-11T07:43:48.397Z"
   },
   {
    "duration": 16,
    "start_time": "2024-11-11T07:43:49.091Z"
   },
   {
    "duration": 10,
    "start_time": "2024-11-11T07:43:50.456Z"
   },
   {
    "duration": 49,
    "start_time": "2024-11-11T07:43:52.254Z"
   },
   {
    "duration": 14,
    "start_time": "2024-11-11T07:43:53.099Z"
   },
   {
    "duration": 19,
    "start_time": "2024-11-11T07:43:54.060Z"
   },
   {
    "duration": 21,
    "start_time": "2024-11-11T07:44:07.352Z"
   },
   {
    "duration": 46,
    "start_time": "2024-11-11T07:44:25.245Z"
   },
   {
    "duration": 19,
    "start_time": "2024-11-11T07:44:25.905Z"
   },
   {
    "duration": 19,
    "start_time": "2024-11-11T07:44:26.977Z"
   },
   {
    "duration": 6,
    "start_time": "2024-11-11T07:44:28.312Z"
   },
   {
    "duration": 5,
    "start_time": "2024-11-11T07:44:33.337Z"
   },
   {
    "duration": 3,
    "start_time": "2024-11-11T07:45:20.886Z"
   },
   {
    "duration": 125,
    "start_time": "2024-11-11T07:45:39.523Z"
   },
   {
    "duration": 166,
    "start_time": "2024-11-11T07:45:43.512Z"
   },
   {
    "duration": 28,
    "start_time": "2024-11-11T07:45:58.088Z"
   },
   {
    "duration": 4,
    "start_time": "2024-11-11T07:47:14.815Z"
   },
   {
    "duration": 4,
    "start_time": "2024-11-11T07:47:22.509Z"
   },
   {
    "duration": 3,
    "start_time": "2024-11-11T07:47:28.250Z"
   },
   {
    "duration": 29,
    "start_time": "2024-11-11T07:47:46.685Z"
   },
   {
    "duration": 6,
    "start_time": "2024-11-11T07:47:48.535Z"
   },
   {
    "duration": 5,
    "start_time": "2024-11-11T07:47:50.030Z"
   },
   {
    "duration": 5,
    "start_time": "2024-11-11T07:47:50.756Z"
   },
   {
    "duration": 5,
    "start_time": "2024-11-11T07:47:51.257Z"
   },
   {
    "duration": 96,
    "start_time": "2024-11-11T07:47:51.917Z"
   },
   {
    "duration": 199,
    "start_time": "2024-11-11T07:48:10.226Z"
   },
   {
    "duration": 285,
    "start_time": "2024-11-11T07:48:51.631Z"
   },
   {
    "duration": 211,
    "start_time": "2024-11-11T07:49:03.997Z"
   },
   {
    "duration": 766,
    "start_time": "2024-11-11T07:49:09.249Z"
   },
   {
    "duration": 85915,
    "start_time": "2024-11-11T07:52:40.741Z"
   },
   {
    "duration": 0,
    "start_time": "2024-11-11T07:54:06.659Z"
   },
   {
    "duration": 0,
    "start_time": "2024-11-11T07:54:06.660Z"
   },
   {
    "duration": 199,
    "start_time": "2024-11-11T07:54:20.036Z"
   },
   {
    "duration": 757,
    "start_time": "2024-11-11T07:54:21.340Z"
   },
   {
    "duration": 6,
    "start_time": "2024-11-11T07:54:59.460Z"
   },
   {
    "duration": 146,
    "start_time": "2024-11-11T07:55:05.953Z"
   },
   {
    "duration": 150,
    "start_time": "2024-11-11T07:55:10.015Z"
   },
   {
    "duration": 351,
    "start_time": "2024-11-11T07:55:42.915Z"
   },
   {
    "duration": 131,
    "start_time": "2024-11-11T07:56:10.441Z"
   },
   {
    "duration": 18,
    "start_time": "2024-11-11T07:56:58.183Z"
   },
   {
    "duration": 72,
    "start_time": "2024-11-11T07:57:27.238Z"
   },
   {
    "duration": 308,
    "start_time": "2024-11-11T07:57:37.157Z"
   },
   {
    "duration": 140,
    "start_time": "2024-11-11T07:58:15.939Z"
   },
   {
    "duration": 3,
    "start_time": "2024-11-11T08:01:26.814Z"
   },
   {
    "duration": 13,
    "start_time": "2024-11-11T08:01:27.487Z"
   },
   {
    "duration": 10,
    "start_time": "2024-11-11T08:01:28.034Z"
   },
   {
    "duration": 15,
    "start_time": "2024-11-11T08:01:28.878Z"
   },
   {
    "duration": 11,
    "start_time": "2024-11-11T08:01:29.435Z"
   },
   {
    "duration": 16,
    "start_time": "2024-11-11T08:01:30.052Z"
   },
   {
    "duration": 10,
    "start_time": "2024-11-11T08:01:31.148Z"
   },
   {
    "duration": 48,
    "start_time": "2024-11-11T08:01:32.355Z"
   },
   {
    "duration": 15,
    "start_time": "2024-11-11T08:01:32.712Z"
   },
   {
    "duration": 18,
    "start_time": "2024-11-11T08:01:33.202Z"
   },
   {
    "duration": 5,
    "start_time": "2024-11-11T08:01:33.772Z"
   },
   {
    "duration": 125,
    "start_time": "2024-11-11T08:01:35.272Z"
   },
   {
    "duration": 174,
    "start_time": "2024-11-11T08:01:36.221Z"
   },
   {
    "duration": 28,
    "start_time": "2024-11-11T08:01:36.689Z"
   },
   {
    "duration": 5,
    "start_time": "2024-11-11T08:01:45.392Z"
   },
   {
    "duration": 5,
    "start_time": "2024-11-11T08:01:45.902Z"
   },
   {
    "duration": 5,
    "start_time": "2024-11-11T08:01:46.418Z"
   },
   {
    "duration": 5,
    "start_time": "2024-11-11T08:01:48.341Z"
   },
   {
    "duration": 97,
    "start_time": "2024-11-11T08:01:49.507Z"
   },
   {
    "duration": 198,
    "start_time": "2024-11-11T08:01:52.447Z"
   },
   {
    "duration": 768,
    "start_time": "2024-11-11T08:01:54.438Z"
   },
   {
    "duration": 212,
    "start_time": "2024-11-11T08:02:05.747Z"
   },
   {
    "duration": 169,
    "start_time": "2024-11-11T08:02:16.030Z"
   },
   {
    "duration": 207,
    "start_time": "2024-11-11T08:02:20.873Z"
   },
   {
    "duration": 249,
    "start_time": "2024-11-11T08:02:24.865Z"
   },
   {
    "duration": 724,
    "start_time": "2024-11-11T08:02:30.019Z"
   },
   {
    "duration": 7625,
    "start_time": "2024-11-11T08:03:22.935Z"
   },
   {
    "duration": 9181,
    "start_time": "2024-11-11T08:03:55.767Z"
   },
   {
    "duration": 3,
    "start_time": "2024-11-11T08:05:04.997Z"
   },
   {
    "duration": 7612,
    "start_time": "2024-11-11T08:05:09.869Z"
   },
   {
    "duration": 7587,
    "start_time": "2024-11-11T08:05:20.062Z"
   },
   {
    "duration": 6,
    "start_time": "2024-11-11T08:06:26.336Z"
   },
   {
    "duration": 4,
    "start_time": "2024-11-11T08:06:30.646Z"
   },
   {
    "duration": 5,
    "start_time": "2024-11-11T08:06:35.496Z"
   },
   {
    "duration": 5,
    "start_time": "2024-11-11T08:08:54.580Z"
   },
   {
    "duration": 132916,
    "start_time": "2024-11-11T08:09:04.026Z"
   },
   {
    "duration": 14188,
    "start_time": "2024-11-11T08:17:31.065Z"
   },
   {
    "duration": 10843,
    "start_time": "2024-11-11T08:18:33.012Z"
   },
   {
    "duration": 15543,
    "start_time": "2024-11-11T08:19:21.552Z"
   },
   {
    "duration": 4,
    "start_time": "2024-11-11T08:19:44.891Z"
   },
   {
    "duration": 5,
    "start_time": "2024-11-11T08:20:13.428Z"
   },
   {
    "duration": 8553,
    "start_time": "2024-11-11T08:20:57.230Z"
   },
   {
    "duration": 134482,
    "start_time": "2024-11-11T08:21:12.041Z"
   },
   {
    "duration": 669,
    "start_time": "2024-11-11T08:25:08.840Z"
   },
   {
    "duration": 727,
    "start_time": "2024-11-11T08:26:22.405Z"
   },
   {
    "duration": 19,
    "start_time": "2024-11-11T08:26:37.391Z"
   },
   {
    "duration": 86,
    "start_time": "2024-11-11T08:27:25.292Z"
   },
   {
    "duration": 162,
    "start_time": "2024-11-11T08:27:34.321Z"
   },
   {
    "duration": 163,
    "start_time": "2024-11-11T08:28:59.079Z"
   },
   {
    "duration": 163,
    "start_time": "2024-11-11T08:29:10.345Z"
   },
   {
    "duration": 873,
    "start_time": "2024-11-11T08:29:18.372Z"
   },
   {
    "duration": 172,
    "start_time": "2024-11-11T08:29:28.446Z"
   },
   {
    "duration": 102,
    "start_time": "2024-11-11T08:29:32.974Z"
   },
   {
    "duration": 107,
    "start_time": "2024-11-11T08:29:36.466Z"
   },
   {
    "duration": 117,
    "start_time": "2024-11-11T08:29:40.279Z"
   },
   {
    "duration": 126,
    "start_time": "2024-11-11T08:29:43.563Z"
   },
   {
    "duration": 143,
    "start_time": "2024-11-11T08:29:47.916Z"
   },
   {
    "duration": 164,
    "start_time": "2024-11-11T08:29:51.293Z"
   },
   {
    "duration": 129,
    "start_time": "2024-11-11T08:29:56.429Z"
   },
   {
    "duration": 172,
    "start_time": "2024-11-11T08:29:59.713Z"
   },
   {
    "duration": 174,
    "start_time": "2024-11-11T08:30:04.226Z"
   },
   {
    "duration": 195,
    "start_time": "2024-11-11T08:30:08.410Z"
   },
   {
    "duration": 192,
    "start_time": "2024-11-11T08:30:12.937Z"
   },
   {
    "duration": 799,
    "start_time": "2024-11-11T08:30:19.296Z"
   },
   {
    "duration": 6276,
    "start_time": "2024-11-11T08:30:28.209Z"
   },
   {
    "duration": 156,
    "start_time": "2024-11-11T08:30:44.664Z"
   },
   {
    "duration": 1374,
    "start_time": "2024-11-11T08:30:50.681Z"
   },
   {
    "duration": 5,
    "start_time": "2024-11-11T08:33:10.279Z"
   },
   {
    "duration": 4,
    "start_time": "2024-11-11T08:33:15.293Z"
   },
   {
    "duration": 3,
    "start_time": "2024-11-11T08:33:20.056Z"
   },
   {
    "duration": 7257,
    "start_time": "2024-11-11T08:33:29.230Z"
   },
   {
    "duration": 7418,
    "start_time": "2024-11-11T08:35:13.505Z"
   },
   {
    "duration": 748040,
    "start_time": "2024-11-11T08:35:45.431Z"
   },
   {
    "duration": 79298,
    "start_time": "2024-11-11T08:49:27.653Z"
   },
   {
    "duration": 674,
    "start_time": "2024-11-11T08:50:56.515Z"
   },
   {
    "duration": 22912,
    "start_time": "2024-11-11T08:51:27.750Z"
   },
   {
    "duration": 749741,
    "start_time": "2024-11-11T08:51:56.370Z"
   },
   {
    "duration": 5,
    "start_time": "2024-11-11T09:13:21.243Z"
   },
   {
    "duration": 242043,
    "start_time": "2024-11-11T09:13:34.328Z"
   },
   {
    "duration": 3,
    "start_time": "2024-11-11T09:19:33.980Z"
   },
   {
    "duration": 216,
    "start_time": "2024-11-11T09:19:39.756Z"
   },
   {
    "duration": 17240,
    "start_time": "2024-11-11T09:19:44.959Z"
   },
   {
    "duration": 21287,
    "start_time": "2024-11-11T09:20:40.487Z"
   },
   {
    "duration": 3971,
    "start_time": "2024-11-11T09:21:07.896Z"
   },
   {
    "duration": 36029919,
    "start_time": "2024-11-11T09:21:48.428Z"
   },
   {
    "duration": 1930493,
    "start_time": "2024-11-11T19:23:44.872Z"
   },
   {
    "duration": 1909209,
    "start_time": "2024-11-11T19:56:23.752Z"
   },
   {
    "duration": 141845,
    "start_time": "2024-11-11T20:28:24.318Z"
   },
   {
    "duration": 124364,
    "start_time": "2024-11-11T20:30:49.836Z"
   },
   {
    "duration": 18,
    "start_time": "2024-11-11T20:34:55.404Z"
   },
   {
    "duration": 13,
    "start_time": "2024-11-11T20:35:53.786Z"
   },
   {
    "duration": 21,
    "start_time": "2024-11-11T20:36:03.179Z"
   },
   {
    "duration": 15,
    "start_time": "2024-11-11T20:36:15.876Z"
   },
   {
    "duration": 15,
    "start_time": "2024-11-11T20:36:36.350Z"
   },
   {
    "duration": 7,
    "start_time": "2024-11-11T20:36:55.785Z"
   },
   {
    "duration": 4,
    "start_time": "2024-11-11T20:36:57.474Z"
   },
   {
    "duration": 13,
    "start_time": "2024-11-11T20:36:58.310Z"
   },
   {
    "duration": 4,
    "start_time": "2024-11-11T20:37:16.824Z"
   },
   {
    "duration": 12,
    "start_time": "2024-11-11T20:37:22.210Z"
   },
   {
    "duration": 14,
    "start_time": "2024-11-11T20:37:52.044Z"
   },
   {
    "duration": 8,
    "start_time": "2024-11-11T20:37:57.809Z"
   },
   {
    "duration": 5,
    "start_time": "2024-11-11T20:37:58.434Z"
   },
   {
    "duration": 12,
    "start_time": "2024-11-11T20:37:59.295Z"
   },
   {
    "duration": 4,
    "start_time": "2024-11-11T20:38:09.502Z"
   },
   {
    "duration": 5,
    "start_time": "2024-11-11T20:38:14.856Z"
   },
   {
    "duration": 15,
    "start_time": "2024-11-11T20:38:15.826Z"
   },
   {
    "duration": 8,
    "start_time": "2024-11-11T20:38:16.618Z"
   },
   {
    "duration": 6,
    "start_time": "2024-11-11T20:38:18.703Z"
   },
   {
    "duration": 4,
    "start_time": "2024-11-11T20:38:19.515Z"
   },
   {
    "duration": 5,
    "start_time": "2024-11-11T20:38:20.177Z"
   },
   {
    "duration": 5,
    "start_time": "2024-11-11T20:38:20.938Z"
   },
   {
    "duration": 245,
    "start_time": "2024-11-11T20:38:21.781Z"
   },
   {
    "duration": 33,
    "start_time": "2024-11-11T20:38:29.378Z"
   },
   {
    "duration": 7982,
    "start_time": "2024-11-11T20:38:34.728Z"
   },
   {
    "duration": 20374,
    "start_time": "2024-11-11T20:38:55.100Z"
   },
   {
    "duration": 12070,
    "start_time": "2024-11-11T20:39:31.063Z"
   },
   {
    "duration": 114726,
    "start_time": "2024-11-11T20:39:47.350Z"
   },
   {
    "duration": 16154,
    "start_time": "2024-11-11T20:42:00.233Z"
   },
   {
    "duration": 6219768,
    "start_time": "2024-11-11T20:42:24.472Z"
   },
   {
    "duration": 7866,
    "start_time": "2024-11-11T22:26:15.295Z"
   },
   {
    "duration": 34553,
    "start_time": "2024-11-11T22:26:54.413Z"
   },
   {
    "duration": 2418881,
    "start_time": "2024-11-11T22:27:43.951Z"
   },
   {
    "duration": 20631,
    "start_time": "2024-11-11T23:18:01.089Z"
   },
   {
    "duration": 73,
    "start_time": "2024-11-11T23:20:39.873Z"
   },
   {
    "duration": 4,
    "start_time": "2024-11-11T23:21:28.649Z"
   },
   {
    "duration": 264,
    "start_time": "2024-11-11T23:21:37.526Z"
   },
   {
    "duration": 251,
    "start_time": "2024-11-11T23:21:49.761Z"
   },
   {
    "duration": 281,
    "start_time": "2024-11-11T23:22:23.343Z"
   },
   {
    "duration": 211,
    "start_time": "2024-11-11T23:22:38.018Z"
   },
   {
    "duration": 198,
    "start_time": "2024-11-11T23:22:50.697Z"
   },
   {
    "duration": 190,
    "start_time": "2024-11-11T23:23:04.557Z"
   },
   {
    "duration": 293,
    "start_time": "2024-11-11T23:23:56.535Z"
   },
   {
    "duration": 419,
    "start_time": "2024-11-11T23:24:28.651Z"
   },
   {
    "duration": 315,
    "start_time": "2024-11-11T23:24:42.721Z"
   },
   {
    "duration": 362,
    "start_time": "2024-11-12T00:20:15.642Z"
   },
   {
    "duration": 310,
    "start_time": "2024-11-12T00:22:02.307Z"
   },
   {
    "duration": 19,
    "start_time": "2024-11-12T00:24:16.261Z"
   },
   {
    "duration": 13,
    "start_time": "2024-11-12T01:36:18.044Z"
   },
   {
    "duration": 7,
    "start_time": "2024-11-12T01:36:52.734Z"
   },
   {
    "duration": 3,
    "start_time": "2024-11-12T01:37:06.970Z"
   },
   {
    "duration": 16,
    "start_time": "2024-11-12T01:37:07.266Z"
   },
   {
    "duration": 10,
    "start_time": "2024-11-12T01:37:07.801Z"
   },
   {
    "duration": 21,
    "start_time": "2024-11-12T01:37:08.599Z"
   },
   {
    "duration": 18,
    "start_time": "2024-11-12T01:37:08.812Z"
   },
   {
    "duration": 25,
    "start_time": "2024-11-12T01:37:09.229Z"
   },
   {
    "duration": 11,
    "start_time": "2024-11-12T01:37:09.941Z"
   },
   {
    "duration": 24,
    "start_time": "2024-11-12T01:37:10.496Z"
   },
   {
    "duration": 7,
    "start_time": "2024-11-12T01:37:12.442Z"
   },
   {
    "duration": 5,
    "start_time": "2024-11-12T01:37:12.793Z"
   },
   {
    "duration": 13,
    "start_time": "2024-11-12T01:37:13.443Z"
   },
   {
    "duration": 5,
    "start_time": "2024-11-12T01:37:14.284Z"
   },
   {
    "duration": 7,
    "start_time": "2024-11-12T01:37:16.625Z"
   },
   {
    "duration": 15,
    "start_time": "2024-11-12T01:37:17.578Z"
   },
   {
    "duration": 8,
    "start_time": "2024-11-12T01:37:18.473Z"
   },
   {
    "duration": 6,
    "start_time": "2024-11-12T01:37:32.570Z"
   },
   {
    "duration": 4,
    "start_time": "2024-11-12T01:37:43.265Z"
   },
   {
    "duration": 5,
    "start_time": "2024-11-12T01:38:56.450Z"
   },
   {
    "duration": 5,
    "start_time": "2024-11-12T01:38:57.089Z"
   },
   {
    "duration": 14,
    "start_time": "2024-11-12T01:38:57.908Z"
   },
   {
    "duration": 107,
    "start_time": "2024-11-12T01:38:58.978Z"
   },
   {
    "duration": 110,
    "start_time": "2024-11-12T01:39:13.877Z"
   },
   {
    "duration": 7,
    "start_time": "2024-11-12T05:24:33.991Z"
   },
   {
    "duration": 3,
    "start_time": "2024-11-12T05:24:50.682Z"
   },
   {
    "duration": 13,
    "start_time": "2024-11-12T05:24:50.906Z"
   },
   {
    "duration": 10,
    "start_time": "2024-11-12T05:24:51.069Z"
   },
   {
    "duration": 16,
    "start_time": "2024-11-12T05:24:51.265Z"
   },
   {
    "duration": 11,
    "start_time": "2024-11-12T05:24:51.454Z"
   },
   {
    "duration": 17,
    "start_time": "2024-11-12T05:24:51.629Z"
   },
   {
    "duration": 10,
    "start_time": "2024-11-12T05:24:51.805Z"
   },
   {
    "duration": 15,
    "start_time": "2024-11-12T05:24:51.980Z"
   },
   {
    "duration": 7,
    "start_time": "2024-11-12T05:24:52.676Z"
   },
   {
    "duration": 4,
    "start_time": "2024-11-12T05:24:52.927Z"
   },
   {
    "duration": 13,
    "start_time": "2024-11-12T05:24:53.239Z"
   },
   {
    "duration": 5,
    "start_time": "2024-11-12T05:24:53.830Z"
   },
   {
    "duration": 6,
    "start_time": "2024-11-12T05:24:55.415Z"
   },
   {
    "duration": 13,
    "start_time": "2024-11-12T05:24:56.339Z"
   },
   {
    "duration": 10,
    "start_time": "2024-11-12T05:24:57.184Z"
   },
   {
    "duration": 5,
    "start_time": "2024-11-12T05:25:00.230Z"
   },
   {
    "duration": 4,
    "start_time": "2024-11-12T05:25:00.745Z"
   },
   {
    "duration": 5,
    "start_time": "2024-11-12T05:25:01.726Z"
   },
   {
    "duration": 5,
    "start_time": "2024-11-12T05:25:02.437Z"
   },
   {
    "duration": 95,
    "start_time": "2024-11-12T05:25:03.603Z"
   },
   {
    "duration": 36,
    "start_time": "2024-11-12T05:25:07.620Z"
   },
   {
    "duration": 7815,
    "start_time": "2024-11-12T05:25:16.149Z"
   },
   {
    "duration": 147936,
    "start_time": "2024-11-12T05:26:22.530Z"
   },
   {
    "duration": 1070914,
    "start_time": "2024-11-12T05:29:18.482Z"
   },
   {
    "duration": 275,
    "start_time": "2024-11-12T05:58:21.091Z"
   },
   {
    "duration": 17,
    "start_time": "2024-11-12T05:58:22.588Z"
   },
   {
    "duration": 7,
    "start_time": "2024-11-12T05:58:23.671Z"
   },
   {
    "duration": 272,
    "start_time": "2024-11-12T05:58:51.440Z"
   },
   {
    "duration": 16,
    "start_time": "2024-11-12T05:58:51.875Z"
   },
   {
    "duration": 8,
    "start_time": "2024-11-12T05:58:53.364Z"
   },
   {
    "duration": 7,
    "start_time": "2024-11-12T06:00:00.434Z"
   },
   {
    "duration": 17,
    "start_time": "2024-11-12T06:02:00.714Z"
   },
   {
    "duration": 96,
    "start_time": "2024-11-12T06:02:18.535Z"
   },
   {
    "duration": 98,
    "start_time": "2024-11-12T06:02:37.483Z"
   },
   {
    "duration": 7777,
    "start_time": "2024-11-12T06:39:56.077Z"
   },
   {
    "duration": 9,
    "start_time": "2024-11-12T16:16:31.592Z"
   },
   {
    "duration": 3,
    "start_time": "2024-11-12T16:19:33.343Z"
   },
   {
    "duration": 2745,
    "start_time": "2024-12-06T18:46:57.653Z"
   },
   {
    "duration": 28,
    "start_time": "2024-12-06T18:47:00.402Z"
   },
   {
    "duration": 11,
    "start_time": "2024-12-06T18:47:00.431Z"
   },
   {
    "duration": 20,
    "start_time": "2024-12-06T18:47:00.482Z"
   },
   {
    "duration": 12,
    "start_time": "2024-12-06T18:47:01.346Z"
   },
   {
    "duration": 19,
    "start_time": "2024-12-06T18:47:01.972Z"
   },
   {
    "duration": 16,
    "start_time": "2024-12-06T18:47:05.307Z"
   },
   {
    "duration": 14,
    "start_time": "2024-12-06T18:47:06.415Z"
   },
   {
    "duration": 7,
    "start_time": "2024-12-06T18:47:29.215Z"
   },
   {
    "duration": 15,
    "start_time": "2024-12-06T18:48:32.148Z"
   },
   {
    "duration": 10,
    "start_time": "2024-12-06T18:48:39.238Z"
   },
   {
    "duration": 15,
    "start_time": "2024-12-06T18:48:53.296Z"
   },
   {
    "duration": 4,
    "start_time": "2024-12-06T18:50:39.150Z"
   },
   {
    "duration": 13,
    "start_time": "2024-12-06T18:50:39.377Z"
   },
   {
    "duration": 4,
    "start_time": "2024-12-06T18:50:40.292Z"
   },
   {
    "duration": 171,
    "start_time": "2024-12-13T21:22:47.912Z"
   },
   {
    "duration": 2694,
    "start_time": "2024-12-13T21:22:52.579Z"
   },
   {
    "duration": 76,
    "start_time": "2024-12-13T21:22:55.275Z"
   },
   {
    "duration": 11,
    "start_time": "2024-12-13T21:22:55.353Z"
   },
   {
    "duration": 20,
    "start_time": "2024-12-13T21:22:55.367Z"
   },
   {
    "duration": 12,
    "start_time": "2024-12-13T21:22:55.389Z"
   },
   {
    "duration": 35,
    "start_time": "2024-12-13T21:22:55.403Z"
   },
   {
    "duration": 10,
    "start_time": "2024-12-13T21:22:55.440Z"
   },
   {
    "duration": 16,
    "start_time": "2024-12-13T21:22:55.452Z"
   },
   {
    "duration": 7,
    "start_time": "2024-12-13T21:22:55.470Z"
   },
   {
    "duration": 15,
    "start_time": "2024-12-13T21:22:55.479Z"
   },
   {
    "duration": 4,
    "start_time": "2024-12-13T21:22:55.654Z"
   },
   {
    "duration": 13,
    "start_time": "2024-12-13T21:22:55.859Z"
   },
   {
    "duration": 5,
    "start_time": "2024-12-13T21:22:56.055Z"
   },
   {
    "duration": 7,
    "start_time": "2024-12-13T21:22:58.412Z"
   },
   {
    "duration": 13,
    "start_time": "2024-12-13T21:24:16.579Z"
   },
   {
    "duration": 12,
    "start_time": "2024-12-13T21:24:22.741Z"
   },
   {
    "duration": 5,
    "start_time": "2024-12-13T21:26:24.644Z"
   },
   {
    "duration": 14,
    "start_time": "2024-12-13T21:26:34.511Z"
   },
   {
    "duration": 9,
    "start_time": "2024-12-13T21:26:34.778Z"
   },
   {
    "duration": 4,
    "start_time": "2024-12-13T22:08:07.277Z"
   },
   {
    "duration": 5,
    "start_time": "2024-12-13T22:08:14.758Z"
   },
   {
    "duration": 8,
    "start_time": "2024-12-13T22:08:26.806Z"
   },
   {
    "duration": 5,
    "start_time": "2024-12-13T22:08:31.938Z"
   },
   {
    "duration": 4,
    "start_time": "2024-12-13T22:08:55.672Z"
   },
   {
    "duration": 4,
    "start_time": "2024-12-13T22:10:51.283Z"
   },
   {
    "duration": 4,
    "start_time": "2024-12-13T22:10:57.382Z"
   },
   {
    "duration": 4,
    "start_time": "2024-12-13T22:25:45.892Z"
   },
   {
    "duration": 5,
    "start_time": "2024-12-13T22:25:57.374Z"
   },
   {
    "duration": 5,
    "start_time": "2024-12-13T22:28:58.648Z"
   },
   {
    "duration": 6,
    "start_time": "2024-12-13T22:29:14.595Z"
   },
   {
    "duration": 3,
    "start_time": "2024-12-13T22:30:40.268Z"
   },
   {
    "duration": 5,
    "start_time": "2024-12-13T22:30:43.307Z"
   },
   {
    "duration": 13,
    "start_time": "2024-12-13T22:55:10.288Z"
   },
   {
    "duration": 5,
    "start_time": "2024-12-13T22:55:23.453Z"
   },
   {
    "duration": 17,
    "start_time": "2024-12-13T22:55:34.137Z"
   },
   {
    "duration": 2647,
    "start_time": "2024-12-16T00:58:46.248Z"
   },
   {
    "duration": 26,
    "start_time": "2024-12-16T00:58:48.897Z"
   },
   {
    "duration": 10,
    "start_time": "2024-12-16T00:58:48.925Z"
   },
   {
    "duration": 17,
    "start_time": "2024-12-16T00:58:48.937Z"
   },
   {
    "duration": 10,
    "start_time": "2024-12-16T00:58:48.956Z"
   },
   {
    "duration": 16,
    "start_time": "2024-12-16T00:58:48.968Z"
   },
   {
    "duration": 11,
    "start_time": "2024-12-16T00:58:49.005Z"
   },
   {
    "duration": 14,
    "start_time": "2024-12-16T00:58:49.109Z"
   },
   {
    "duration": 8,
    "start_time": "2024-12-16T00:58:49.838Z"
   },
   {
    "duration": 15,
    "start_time": "2024-12-16T00:58:50.657Z"
   },
   {
    "duration": 4,
    "start_time": "2024-12-16T00:58:51.117Z"
   },
   {
    "duration": 12,
    "start_time": "2024-12-16T00:58:51.437Z"
   },
   {
    "duration": 8,
    "start_time": "2024-12-16T00:58:51.795Z"
   },
   {
    "duration": 7,
    "start_time": "2024-12-16T00:58:54.327Z"
   },
   {
    "duration": 12,
    "start_time": "2024-12-16T00:58:56.319Z"
   },
   {
    "duration": 287,
    "start_time": "2024-12-16T00:58:56.954Z"
   },
   {
    "duration": 4,
    "start_time": "2024-12-16T00:59:26.667Z"
   },
   {
    "duration": 15,
    "start_time": "2024-12-16T00:59:28.061Z"
   },
   {
    "duration": 6,
    "start_time": "2024-12-16T01:00:00.474Z"
   },
   {
    "duration": 20,
    "start_time": "2024-12-16T01:00:59.720Z"
   },
   {
    "duration": 5,
    "start_time": "2024-12-16T01:07:24.113Z"
   },
   {
    "duration": 159,
    "start_time": "2024-12-17T03:37:54.007Z"
   },
   {
    "duration": 2729,
    "start_time": "2024-12-17T03:38:00.698Z"
   },
   {
    "duration": 21,
    "start_time": "2024-12-17T03:38:03.429Z"
   },
   {
    "duration": 11,
    "start_time": "2024-12-17T03:38:03.452Z"
   },
   {
    "duration": 29,
    "start_time": "2024-12-17T03:38:03.466Z"
   },
   {
    "duration": 11,
    "start_time": "2024-12-17T03:38:03.498Z"
   },
   {
    "duration": 16,
    "start_time": "2024-12-17T03:38:03.511Z"
   },
   {
    "duration": 12,
    "start_time": "2024-12-17T03:38:03.589Z"
   },
   {
    "duration": 14,
    "start_time": "2024-12-17T03:38:04.275Z"
   },
   {
    "duration": 8,
    "start_time": "2024-12-17T03:38:06.251Z"
   },
   {
    "duration": 14,
    "start_time": "2024-12-17T03:38:07.552Z"
   },
   {
    "duration": 4,
    "start_time": "2024-12-17T03:38:08.394Z"
   },
   {
    "duration": 12,
    "start_time": "2024-12-17T03:38:08.802Z"
   },
   {
    "duration": 4,
    "start_time": "2024-12-17T03:38:09.326Z"
   },
   {
    "duration": 7,
    "start_time": "2024-12-17T03:38:11.076Z"
   },
   {
    "duration": 414,
    "start_time": "2024-12-17T03:38:12.825Z"
   },
   {
    "duration": 5,
    "start_time": "2024-12-17T03:38:48.473Z"
   },
   {
    "duration": 12,
    "start_time": "2024-12-17T03:40:55.697Z"
   },
   {
    "duration": 5,
    "start_time": "2024-12-17T03:43:31.361Z"
   },
   {
    "duration": 7,
    "start_time": "2024-12-17T03:43:40.785Z"
   },
   {
    "duration": 21,
    "start_time": "2024-12-17T03:43:49.845Z"
   },
   {
    "duration": 13,
    "start_time": "2024-12-17T03:43:59.040Z"
   },
   {
    "duration": 18,
    "start_time": "2024-12-17T03:44:01.937Z"
   },
   {
    "duration": 5,
    "start_time": "2024-12-17T03:44:08.527Z"
   },
   {
    "duration": 4,
    "start_time": "2024-12-17T03:44:37.764Z"
   },
   {
    "duration": 6,
    "start_time": "2024-12-17T03:44:50.987Z"
   },
   {
    "duration": 13,
    "start_time": "2024-12-17T03:45:02.118Z"
   },
   {
    "duration": 5,
    "start_time": "2024-12-17T03:45:21.840Z"
   },
   {
    "duration": 3,
    "start_time": "2024-12-17T03:45:34.549Z"
   },
   {
    "duration": 14,
    "start_time": "2024-12-17T03:45:52.570Z"
   },
   {
    "duration": 14,
    "start_time": "2024-12-17T03:45:55.624Z"
   },
   {
    "duration": 4,
    "start_time": "2024-12-17T03:46:00.004Z"
   },
   {
    "duration": 7,
    "start_time": "2024-12-17T03:46:30.744Z"
   },
   {
    "duration": 14,
    "start_time": "2024-12-17T03:46:48.747Z"
   },
   {
    "duration": 4,
    "start_time": "2024-12-17T03:48:47.673Z"
   },
   {
    "duration": 13,
    "start_time": "2024-12-17T03:49:04.038Z"
   },
   {
    "duration": 6,
    "start_time": "2024-12-17T03:50:26.131Z"
   },
   {
    "duration": 13,
    "start_time": "2024-12-17T03:50:39.210Z"
   },
   {
    "duration": 4,
    "start_time": "2024-12-17T03:51:23.622Z"
   },
   {
    "duration": 13,
    "start_time": "2024-12-17T03:51:34.373Z"
   },
   {
    "duration": 2687,
    "start_time": "2024-12-18T06:27:26.101Z"
   },
   {
    "duration": 25,
    "start_time": "2024-12-18T06:27:28.791Z"
   },
   {
    "duration": 11,
    "start_time": "2024-12-18T06:27:28.817Z"
   },
   {
    "duration": 17,
    "start_time": "2024-12-18T06:27:31.812Z"
   },
   {
    "duration": 11,
    "start_time": "2024-12-18T06:27:32.038Z"
   },
   {
    "duration": 16,
    "start_time": "2024-12-18T06:27:32.214Z"
   },
   {
    "duration": 10,
    "start_time": "2024-12-18T06:27:32.560Z"
   },
   {
    "duration": 15,
    "start_time": "2024-12-18T06:27:32.875Z"
   },
   {
    "duration": 7,
    "start_time": "2024-12-18T06:27:33.681Z"
   },
   {
    "duration": 14,
    "start_time": "2024-12-18T06:27:34.271Z"
   },
   {
    "duration": 4,
    "start_time": "2024-12-18T06:27:34.540Z"
   },
   {
    "duration": 12,
    "start_time": "2024-12-18T06:27:34.778Z"
   },
   {
    "duration": 5,
    "start_time": "2024-12-18T06:27:35.034Z"
   },
   {
    "duration": 7,
    "start_time": "2024-12-18T06:27:36.793Z"
   },
   {
    "duration": 5,
    "start_time": "2024-12-18T06:27:38.627Z"
   },
   {
    "duration": 6,
    "start_time": "2024-12-18T06:27:41.216Z"
   },
   {
    "duration": 5,
    "start_time": "2024-12-18T06:27:44.274Z"
   },
   {
    "duration": 3,
    "start_time": "2024-12-18T06:27:45.116Z"
   },
   {
    "duration": 223,
    "start_time": "2024-12-18T06:27:48.840Z"
   },
   {
    "duration": 3,
    "start_time": "2024-12-18T06:27:51.321Z"
   },
   {
    "duration": 6,
    "start_time": "2024-12-18T06:28:00.285Z"
   },
   {
    "duration": 14,
    "start_time": "2024-12-18T06:28:01.280Z"
   },
   {
    "duration": 7,
    "start_time": "2024-12-18T06:28:26.146Z"
   },
   {
    "duration": 8,
    "start_time": "2024-12-18T06:33:04.384Z"
   },
   {
    "duration": 6,
    "start_time": "2024-12-18T06:33:06.863Z"
   },
   {
    "duration": 4,
    "start_time": "2024-12-18T06:33:07.661Z"
   },
   {
    "duration": 13,
    "start_time": "2024-12-18T06:33:08.637Z"
   },
   {
    "duration": 8,
    "start_time": "2024-12-18T06:33:32.431Z"
   },
   {
    "duration": 21,
    "start_time": "2024-12-18T06:35:13.087Z"
   },
   {
    "duration": 6,
    "start_time": "2024-12-18T06:40:46.567Z"
   },
   {
    "duration": 7,
    "start_time": "2024-12-18T06:43:17.759Z"
   },
   {
    "duration": 8,
    "start_time": "2024-12-18T06:44:30.138Z"
   },
   {
    "duration": 9,
    "start_time": "2024-12-18T06:45:10.720Z"
   },
   {
    "duration": 9,
    "start_time": "2024-12-18T06:47:07.874Z"
   },
   {
    "duration": 5,
    "start_time": "2024-12-18T06:47:12.194Z"
   },
   {
    "duration": 8,
    "start_time": "2024-12-18T06:47:28.041Z"
   },
   {
    "duration": 9,
    "start_time": "2024-12-18T06:47:36.353Z"
   },
   {
    "duration": 9,
    "start_time": "2024-12-18T06:48:20.275Z"
   },
   {
    "duration": 8,
    "start_time": "2024-12-18T06:49:03.979Z"
   },
   {
    "duration": 8,
    "start_time": "2024-12-18T06:49:57.864Z"
   },
   {
    "duration": 9,
    "start_time": "2024-12-18T07:00:41.652Z"
   },
   {
    "duration": 10,
    "start_time": "2024-12-18T07:05:59.375Z"
   },
   {
    "duration": 9,
    "start_time": "2024-12-18T07:06:49.959Z"
   },
   {
    "duration": 7,
    "start_time": "2024-12-18T07:10:18.900Z"
   },
   {
    "duration": 13,
    "start_time": "2024-12-18T07:13:45.501Z"
   },
   {
    "duration": 8,
    "start_time": "2024-12-18T07:13:46.093Z"
   },
   {
    "duration": 6,
    "start_time": "2024-12-18T07:13:50.664Z"
   },
   {
    "duration": 5,
    "start_time": "2024-12-18T07:13:51.414Z"
   },
   {
    "duration": 5,
    "start_time": "2024-12-18T07:13:51.889Z"
   },
   {
    "duration": 4,
    "start_time": "2024-12-18T07:13:52.469Z"
   },
   {
    "duration": 102,
    "start_time": "2024-12-18T07:13:53.108Z"
   },
   {
    "duration": 175,
    "start_time": "2024-12-18T07:15:06.805Z"
   },
   {
    "duration": 10,
    "start_time": "2024-12-18T07:16:11.739Z"
   },
   {
    "duration": 5,
    "start_time": "2024-12-18T07:16:43.413Z"
   },
   {
    "duration": 7,
    "start_time": "2024-12-18T07:16:50.995Z"
   },
   {
    "duration": 100,
    "start_time": "2024-12-18T07:17:03.404Z"
   },
   {
    "duration": 9,
    "start_time": "2024-12-18T07:17:38.629Z"
   },
   {
    "duration": 20,
    "start_time": "2024-12-18T07:21:21.848Z"
   },
   {
    "duration": 64,
    "start_time": "2024-12-18T07:21:32.608Z"
   },
   {
    "duration": 4,
    "start_time": "2024-12-18T07:22:27.666Z"
   },
   {
    "duration": 10,
    "start_time": "2024-12-18T07:22:36.698Z"
   },
   {
    "duration": 188,
    "start_time": "2024-12-18T07:23:05.431Z"
   },
   {
    "duration": 188,
    "start_time": "2024-12-18T07:23:15.944Z"
   },
   {
    "duration": 23,
    "start_time": "2024-12-18T07:24:10.324Z"
   },
   {
    "duration": 4,
    "start_time": "2024-12-18T07:25:02.185Z"
   },
   {
    "duration": 20,
    "start_time": "2024-12-18T07:25:10.979Z"
   },
   {
    "duration": 23,
    "start_time": "2024-12-18T07:25:21.143Z"
   },
   {
    "duration": 224,
    "start_time": "2024-12-18T07:25:27.372Z"
   },
   {
    "duration": 207,
    "start_time": "2024-12-18T07:27:52.710Z"
   },
   {
    "duration": 13,
    "start_time": "2024-12-18T07:28:05.430Z"
   },
   {
    "duration": 96,
    "start_time": "2024-12-18T07:28:06.411Z"
   },
   {
    "duration": 101,
    "start_time": "2024-12-18T07:29:02.876Z"
   },
   {
    "duration": 266,
    "start_time": "2024-12-18T07:29:33.617Z"
   },
   {
    "duration": 54,
    "start_time": "2024-12-18T07:29:41.386Z"
   },
   {
    "duration": 54,
    "start_time": "2024-12-18T07:30:08.582Z"
   },
   {
    "duration": 53,
    "start_time": "2024-12-18T07:30:12.424Z"
   },
   {
    "duration": 56,
    "start_time": "2024-12-18T07:30:20.334Z"
   },
   {
    "duration": 188,
    "start_time": "2024-12-18T07:30:25.438Z"
   },
   {
    "duration": 6,
    "start_time": "2024-12-18T07:31:08.097Z"
   },
   {
    "duration": 52,
    "start_time": "2024-12-18T07:31:43.944Z"
   },
   {
    "duration": 184,
    "start_time": "2024-12-18T07:31:50.223Z"
   },
   {
    "duration": 224,
    "start_time": "2024-12-18T07:32:16.690Z"
   },
   {
    "duration": 16,
    "start_time": "2024-12-18T07:41:47.669Z"
   },
   {
    "duration": 248,
    "start_time": "2024-12-18T07:41:58.790Z"
   },
   {
    "duration": 49,
    "start_time": "2024-12-18T07:42:19.545Z"
   },
   {
    "duration": 16,
    "start_time": "2024-12-18T07:42:29.736Z"
   },
   {
    "duration": 48,
    "start_time": "2024-12-18T07:42:35.445Z"
   },
   {
    "duration": 16,
    "start_time": "2024-12-18T07:45:06.233Z"
   },
   {
    "duration": 17,
    "start_time": "2024-12-18T07:45:18.145Z"
   },
   {
    "duration": 15,
    "start_time": "2024-12-18T07:45:25.455Z"
   },
   {
    "duration": 9,
    "start_time": "2024-12-18T07:45:34.509Z"
   },
   {
    "duration": 16,
    "start_time": "2024-12-18T07:45:38.593Z"
   },
   {
    "duration": 14,
    "start_time": "2024-12-18T07:45:43.481Z"
   },
   {
    "duration": 17,
    "start_time": "2024-12-18T07:45:47.028Z"
   },
   {
    "duration": 22,
    "start_time": "2024-12-18T07:46:01.700Z"
   },
   {
    "duration": 15,
    "start_time": "2024-12-18T07:46:05.013Z"
   },
   {
    "duration": 34,
    "start_time": "2024-12-18T07:46:09.168Z"
   },
   {
    "duration": 16,
    "start_time": "2024-12-18T07:46:18.029Z"
   },
   {
    "duration": 16,
    "start_time": "2024-12-18T07:46:21.631Z"
   },
   {
    "duration": 44,
    "start_time": "2024-12-18T07:46:25.776Z"
   },
   {
    "duration": 18,
    "start_time": "2024-12-18T07:46:28.718Z"
   },
   {
    "duration": 18,
    "start_time": "2024-12-18T07:46:33.600Z"
   },
   {
    "duration": 34,
    "start_time": "2024-12-18T07:46:39.450Z"
   },
   {
    "duration": 28,
    "start_time": "2024-12-18T07:46:42.855Z"
   },
   {
    "duration": 18,
    "start_time": "2024-12-18T07:46:47.458Z"
   },
   {
    "duration": 17,
    "start_time": "2024-12-18T07:46:51.261Z"
   },
   {
    "duration": 56,
    "start_time": "2024-12-18T07:46:55.842Z"
   },
   {
    "duration": 37,
    "start_time": "2024-12-18T07:47:07.396Z"
   },
   {
    "duration": 35,
    "start_time": "2024-12-18T07:47:11.015Z"
   },
   {
    "duration": 36,
    "start_time": "2024-12-18T07:47:14.816Z"
   },
   {
    "duration": 39,
    "start_time": "2024-12-18T07:47:18.295Z"
   },
   {
    "duration": 36,
    "start_time": "2024-12-18T07:47:29.869Z"
   },
   {
    "duration": 34,
    "start_time": "2024-12-18T07:47:34.239Z"
   },
   {
    "duration": 33,
    "start_time": "2024-12-18T07:47:38.744Z"
   },
   {
    "duration": 34,
    "start_time": "2024-12-18T07:47:46.718Z"
   },
   {
    "duration": 34,
    "start_time": "2024-12-18T07:48:01.042Z"
   },
   {
    "duration": 15,
    "start_time": "2024-12-18T07:50:28.942Z"
   },
   {
    "duration": 6,
    "start_time": "2024-12-18T07:52:12.578Z"
   },
   {
    "duration": 32,
    "start_time": "2024-12-18T07:52:31.206Z"
   },
   {
    "duration": 16,
    "start_time": "2024-12-18T07:52:54.762Z"
   },
   {
    "duration": 33,
    "start_time": "2024-12-18T07:55:33.343Z"
   },
   {
    "duration": 16,
    "start_time": "2024-12-18T07:55:49.341Z"
   },
   {
    "duration": 815,
    "start_time": "2024-12-18T07:56:15.478Z"
   },
   {
    "duration": 849,
    "start_time": "2024-12-18T07:56:25.139Z"
   },
   {
    "duration": 1276,
    "start_time": "2024-12-18T07:57:56.296Z"
   },
   {
    "duration": 1027,
    "start_time": "2024-12-18T07:58:23.145Z"
   },
   {
    "duration": 1031,
    "start_time": "2024-12-18T07:58:32.341Z"
   },
   {
    "duration": 1295,
    "start_time": "2024-12-18T07:58:39.982Z"
   },
   {
    "duration": 10514,
    "start_time": "2024-12-18T07:59:52.276Z"
   },
   {
    "duration": 10500,
    "start_time": "2024-12-18T08:00:33.280Z"
   },
   {
    "duration": 10494,
    "start_time": "2024-12-18T08:00:51.988Z"
   },
   {
    "duration": 9913,
    "start_time": "2024-12-18T08:01:31.563Z"
   },
   {
    "duration": 11427,
    "start_time": "2024-12-18T08:01:57.454Z"
   },
   {
    "duration": 10637,
    "start_time": "2024-12-18T08:03:15.443Z"
   },
   {
    "duration": 16409,
    "start_time": "2024-12-18T08:03:45.761Z"
   },
   {
    "duration": 16133,
    "start_time": "2024-12-18T08:04:12.140Z"
   },
   {
    "duration": 15901,
    "start_time": "2024-12-18T08:04:34.986Z"
   },
   {
    "duration": 17513,
    "start_time": "2024-12-18T08:04:51.174Z"
   },
   {
    "duration": 14499,
    "start_time": "2024-12-18T08:05:22.681Z"
   },
   {
    "duration": 14500,
    "start_time": "2024-12-18T08:06:51.087Z"
   },
   {
    "duration": 14356,
    "start_time": "2024-12-18T08:07:07.130Z"
   },
   {
    "duration": 14409,
    "start_time": "2024-12-18T08:07:27.877Z"
   },
   {
    "duration": 2719,
    "start_time": "2024-12-21T00:08:24.930Z"
   },
   {
    "duration": 27,
    "start_time": "2024-12-21T00:08:27.651Z"
   },
   {
    "duration": 11,
    "start_time": "2024-12-21T00:08:27.680Z"
   },
   {
    "duration": 17,
    "start_time": "2024-12-21T00:08:27.693Z"
   },
   {
    "duration": 10,
    "start_time": "2024-12-21T00:08:27.712Z"
   },
   {
    "duration": 17,
    "start_time": "2024-12-21T00:08:27.724Z"
   },
   {
    "duration": 42,
    "start_time": "2024-12-21T00:08:27.744Z"
   },
   {
    "duration": 14,
    "start_time": "2024-12-21T00:08:27.788Z"
   },
   {
    "duration": 8,
    "start_time": "2024-12-21T00:08:27.972Z"
   },
   {
    "duration": 14,
    "start_time": "2024-12-21T00:08:28.905Z"
   },
   {
    "duration": 5,
    "start_time": "2024-12-21T00:08:29.150Z"
   },
   {
    "duration": 12,
    "start_time": "2024-12-21T00:08:29.424Z"
   },
   {
    "duration": 6,
    "start_time": "2024-12-21T00:08:29.916Z"
   },
   {
    "duration": 9,
    "start_time": "2024-12-21T00:08:33.688Z"
   },
   {
    "duration": 8,
    "start_time": "2024-12-21T00:09:47.866Z"
   },
   {
    "duration": 5,
    "start_time": "2024-12-21T00:14:04.421Z"
   },
   {
    "duration": 6,
    "start_time": "2024-12-21T00:14:04.868Z"
   },
   {
    "duration": 3,
    "start_time": "2024-12-21T00:14:05.625Z"
   },
   {
    "duration": 6,
    "start_time": "2024-12-21T00:14:06.355Z"
   },
   {
    "duration": 8,
    "start_time": "2024-12-21T00:14:07.090Z"
   },
   {
    "duration": 21,
    "start_time": "2024-12-21T00:14:07.791Z"
   },
   {
    "duration": 201,
    "start_time": "2024-12-21T00:14:08.324Z"
   },
   {
    "duration": 9,
    "start_time": "2024-12-21T00:14:09.282Z"
   },
   {
    "duration": 103,
    "start_time": "2024-12-21T00:14:10.487Z"
   },
   {
    "duration": 7,
    "start_time": "2024-12-21T00:20:57.136Z"
   },
   {
    "duration": 5,
    "start_time": "2024-12-21T00:20:57.382Z"
   },
   {
    "duration": 8,
    "start_time": "2024-12-21T00:20:57.506Z"
   },
   {
    "duration": 14,
    "start_time": "2024-12-21T00:20:58.670Z"
   },
   {
    "duration": 273,
    "start_time": "2024-12-21T00:20:59.546Z"
   },
   {
    "duration": 14,
    "start_time": "2024-12-21T00:21:01.020Z"
   },
   {
    "duration": 103,
    "start_time": "2024-12-21T00:21:03.150Z"
   },
   {
    "duration": 7,
    "start_time": "2024-12-21T00:24:58.504Z"
   },
   {
    "duration": 5,
    "start_time": "2024-12-21T00:24:58.850Z"
   },
   {
    "duration": 9,
    "start_time": "2024-12-21T00:24:59.127Z"
   },
   {
    "duration": 11,
    "start_time": "2024-12-21T00:24:59.751Z"
   },
   {
    "duration": 247,
    "start_time": "2024-12-21T00:25:00.288Z"
   },
   {
    "duration": 105,
    "start_time": "2024-12-21T00:31:28.575Z"
   },
   {
    "duration": 7,
    "start_time": "2024-12-21T00:31:57.902Z"
   },
   {
    "duration": 5,
    "start_time": "2024-12-21T00:31:58.204Z"
   },
   {
    "duration": 9,
    "start_time": "2024-12-21T00:31:58.491Z"
   },
   {
    "duration": 11,
    "start_time": "2024-12-21T00:31:58.855Z"
   },
   {
    "duration": 232,
    "start_time": "2024-12-21T00:31:59.386Z"
   },
   {
    "duration": 13,
    "start_time": "2024-12-21T00:32:00.194Z"
   },
   {
    "duration": 98,
    "start_time": "2024-12-21T00:32:00.770Z"
   },
   {
    "duration": 13,
    "start_time": "2024-12-21T00:45:42.733Z"
   },
   {
    "duration": 10,
    "start_time": "2024-12-21T00:45:43.157Z"
   },
   {
    "duration": 182,
    "start_time": "2024-12-21T00:46:12.249Z"
   },
   {
    "duration": 4,
    "start_time": "2024-12-21T00:46:12.498Z"
   },
   {
    "duration": 6,
    "start_time": "2024-12-21T00:46:12.939Z"
   },
   {
    "duration": 5,
    "start_time": "2024-12-21T00:46:13.897Z"
   },
   {
    "duration": 100,
    "start_time": "2024-12-21T00:46:14.170Z"
   },
   {
    "duration": 14503,
    "start_time": "2024-12-21T00:46:18.592Z"
   },
   {
    "duration": 5,
    "start_time": "2024-12-21T00:48:24.314Z"
   },
   {
    "duration": 34,
    "start_time": "2024-12-21T00:48:39.307Z"
   },
   {
    "duration": 35,
    "start_time": "2024-12-21T01:00:18.460Z"
   },
   {
    "duration": 7859,
    "start_time": "2024-12-21T01:00:55.078Z"
   },
   {
    "duration": 5,
    "start_time": "2024-12-21T01:01:53.898Z"
   },
   {
    "duration": 7712,
    "start_time": "2024-12-21T01:02:01.585Z"
   },
   {
    "duration": 730737,
    "start_time": "2024-12-21T01:03:37.839Z"
   },
   {
    "duration": 55510,
    "start_time": "2024-12-21T01:16:01.271Z"
   },
   {
    "duration": 0,
    "start_time": "2024-12-21T01:16:56.786Z"
   },
   {
    "duration": 72315,
    "start_time": "2024-12-21T01:18:16.878Z"
   },
   {
    "duration": 2663825,
    "start_time": "2024-12-21T01:21:01.982Z"
   },
   {
    "duration": 38365,
    "start_time": "2024-12-21T07:53:00.333Z"
   },
   {
    "duration": 7415166,
    "start_time": "2024-12-21T07:55:34.681Z"
   },
   {
    "duration": 3740803,
    "start_time": "2024-12-21T15:14:31.861Z"
   },
   {
    "duration": 861,
    "start_time": "2024-12-22T00:09:40.458Z"
   },
   {
    "duration": 1608,
    "start_time": "2024-12-22T00:10:02.118Z"
   },
   {
    "duration": 46,
    "start_time": "2024-12-22T00:10:12.200Z"
   },
   {
    "duration": 7,
    "start_time": "2024-12-22T00:10:21.802Z"
   },
   {
    "duration": 94,
    "start_time": "2024-12-22T00:11:23.933Z"
   },
   {
    "duration": 1596,
    "start_time": "2024-12-22T00:12:35.686Z"
   },
   {
    "duration": 47,
    "start_time": "2024-12-22T00:13:28.499Z"
   },
   {
    "duration": 1588,
    "start_time": "2024-12-22T00:14:34.427Z"
   },
   {
    "duration": 49,
    "start_time": "2024-12-22T00:14:36.816Z"
   },
   {
    "duration": 10,
    "start_time": "2024-12-22T00:14:38.128Z"
   },
   {
    "duration": 1159,
    "start_time": "2024-12-22T00:14:54.855Z"
   },
   {
    "duration": 35,
    "start_time": "2024-12-22T00:15:10.486Z"
   },
   {
    "duration": 7,
    "start_time": "2024-12-22T00:15:11.270Z"
   },
   {
    "duration": 732,
    "start_time": "2024-12-22T00:15:35.407Z"
   },
   {
    "duration": 25,
    "start_time": "2024-12-22T00:15:39.452Z"
   },
   {
    "duration": 10,
    "start_time": "2024-12-22T00:15:42.142Z"
   },
   {
    "duration": 95,
    "start_time": "2024-12-22T00:15:43.611Z"
   },
   {
    "duration": 98,
    "start_time": "2024-12-22T00:16:13.433Z"
   },
   {
    "duration": 1590,
    "start_time": "2024-12-22T00:16:50.869Z"
   },
   {
    "duration": 48,
    "start_time": "2024-12-22T00:16:53.326Z"
   },
   {
    "duration": 8,
    "start_time": "2024-12-22T00:16:53.995Z"
   },
   {
    "duration": 95,
    "start_time": "2024-12-22T00:16:54.747Z"
   },
   {
    "duration": 278,
    "start_time": "2024-12-22T00:16:58.097Z"
   },
   {
    "duration": 18,
    "start_time": "2024-12-22T00:16:59.084Z"
   },
   {
    "duration": 9,
    "start_time": "2024-12-22T00:16:59.632Z"
   },
   {
    "duration": 96,
    "start_time": "2024-12-22T00:17:05.441Z"
   },
   {
    "duration": 278,
    "start_time": "2024-12-22T00:26:11.648Z"
   },
   {
    "duration": 18,
    "start_time": "2024-12-22T00:26:12.469Z"
   },
   {
    "duration": 8,
    "start_time": "2024-12-22T00:26:12.941Z"
   },
   {
    "duration": 96,
    "start_time": "2024-12-22T00:26:34.775Z"
   },
   {
    "duration": 1569,
    "start_time": "2024-12-22T00:26:38.471Z"
   },
   {
    "duration": 276,
    "start_time": "2024-12-22T00:27:05.196Z"
   },
   {
    "duration": 17,
    "start_time": "2024-12-22T00:27:06.475Z"
   },
   {
    "duration": 8,
    "start_time": "2024-12-22T00:27:10.750Z"
   },
   {
    "duration": 100,
    "start_time": "2024-12-22T00:27:15.688Z"
   },
   {
    "duration": 1590,
    "start_time": "2024-12-22T00:27:36.470Z"
   },
   {
    "duration": 48,
    "start_time": "2024-12-22T00:27:56.854Z"
   },
   {
    "duration": 8,
    "start_time": "2024-12-22T00:27:59.049Z"
   },
   {
    "duration": 1588,
    "start_time": "2024-12-22T00:28:38.357Z"
   },
   {
    "duration": 3,
    "start_time": "2024-12-22T00:29:04.049Z"
   },
   {
    "duration": 14,
    "start_time": "2024-12-22T00:29:05.189Z"
   },
   {
    "duration": 10,
    "start_time": "2024-12-22T00:29:05.700Z"
   },
   {
    "duration": 16,
    "start_time": "2024-12-22T00:29:06.792Z"
   },
   {
    "duration": 12,
    "start_time": "2024-12-22T00:29:07.312Z"
   },
   {
    "duration": 16,
    "start_time": "2024-12-22T00:29:07.547Z"
   },
   {
    "duration": 10,
    "start_time": "2024-12-22T00:29:08.957Z"
   },
   {
    "duration": 15,
    "start_time": "2024-12-22T00:29:09.844Z"
   },
   {
    "duration": 8,
    "start_time": "2024-12-22T00:29:11.280Z"
   },
   {
    "duration": 14,
    "start_time": "2024-12-22T00:29:12.673Z"
   },
   {
    "duration": 5,
    "start_time": "2024-12-22T00:29:13.188Z"
   },
   {
    "duration": 13,
    "start_time": "2024-12-22T00:29:13.660Z"
   },
   {
    "duration": 4,
    "start_time": "2024-12-22T00:29:14.191Z"
   },
   {
    "duration": 7,
    "start_time": "2024-12-22T00:29:16.260Z"
   },
   {
    "duration": 6,
    "start_time": "2024-12-22T00:29:18.267Z"
   },
   {
    "duration": 5,
    "start_time": "2024-12-22T00:29:19.546Z"
   },
   {
    "duration": 6,
    "start_time": "2024-12-22T00:29:20.262Z"
   },
   {
    "duration": 5,
    "start_time": "2024-12-22T00:29:20.848Z"
   },
   {
    "duration": 5,
    "start_time": "2024-12-22T00:29:21.547Z"
   },
   {
    "duration": 8,
    "start_time": "2024-12-22T00:29:22.209Z"
   },
   {
    "duration": 21,
    "start_time": "2024-12-22T00:29:23.027Z"
   },
   {
    "duration": 220,
    "start_time": "2024-12-22T00:29:24.510Z"
   },
   {
    "duration": 9,
    "start_time": "2024-12-22T00:29:26.286Z"
   },
   {
    "duration": 97,
    "start_time": "2024-12-22T00:29:27.305Z"
   },
   {
    "duration": 6,
    "start_time": "2024-12-22T00:29:29.574Z"
   },
   {
    "duration": 5,
    "start_time": "2024-12-22T00:29:30.122Z"
   },
   {
    "duration": 8,
    "start_time": "2024-12-22T00:29:30.714Z"
   },
   {
    "duration": 14,
    "start_time": "2024-12-22T00:29:31.176Z"
   },
   {
    "duration": 193,
    "start_time": "2024-12-22T00:29:32.154Z"
   },
   {
    "duration": 12,
    "start_time": "2024-12-22T00:29:44.560Z"
   },
   {
    "duration": 182,
    "start_time": "2024-12-22T00:29:48.140Z"
   },
   {
    "duration": 15,
    "start_time": "2024-12-22T00:29:52.499Z"
   },
   {
    "duration": 8,
    "start_time": "2024-12-22T00:29:52.739Z"
   },
   {
    "duration": 188,
    "start_time": "2024-12-22T00:29:53.362Z"
   },
   {
    "duration": 7,
    "start_time": "2024-12-22T00:29:54.284Z"
   },
   {
    "duration": 5,
    "start_time": "2024-12-22T00:29:55.075Z"
   },
   {
    "duration": 4,
    "start_time": "2024-12-22T00:29:55.557Z"
   },
   {
    "duration": 95,
    "start_time": "2024-12-22T00:29:56.209Z"
   },
   {
    "duration": 14357,
    "start_time": "2024-12-22T00:29:59.931Z"
   },
   {
    "duration": 111,
    "start_time": "2024-12-22T00:30:14.291Z"
   },
   {
    "duration": 7879,
    "start_time": "2024-12-22T00:31:02.022Z"
   },
   {
    "duration": 7720,
    "start_time": "2024-12-22T00:31:09.902Z"
   },
   {
    "duration": 4877,
    "start_time": "2024-12-22T00:32:52.726Z"
   },
   {
    "duration": 1070316,
    "start_time": "2024-12-22T00:33:00.623Z"
   },
   {
    "duration": 1192541,
    "start_time": "2024-12-22T00:51:41.227Z"
   },
   {
    "duration": 2407616,
    "start_time": "2024-12-22T01:11:54.536Z"
   },
   {
    "duration": 306,
    "start_time": "2024-12-22T01:56:27.324Z"
   },
   {
    "duration": 17,
    "start_time": "2024-12-22T01:56:29.037Z"
   },
   {
    "duration": 9,
    "start_time": "2024-12-22T01:56:30.292Z"
   },
   {
    "duration": 116,
    "start_time": "2024-12-22T01:56:31.829Z"
   },
   {
    "duration": 1783,
    "start_time": "2024-12-22T01:56:33.976Z"
   },
   {
    "duration": 1740,
    "start_time": "2024-12-22T01:57:40.259Z"
   },
   {
    "duration": 1665,
    "start_time": "2024-12-22T01:58:08.333Z"
   },
   {
    "duration": 350,
    "start_time": "2024-12-22T01:58:44.036Z"
   },
   {
    "duration": 300,
    "start_time": "2024-12-22T01:59:04.255Z"
   },
   {
    "duration": 20,
    "start_time": "2024-12-22T01:59:09.601Z"
   },
   {
    "duration": 7,
    "start_time": "2024-12-22T01:59:10.552Z"
   },
   {
    "duration": 123,
    "start_time": "2024-12-22T01:59:14.099Z"
   },
   {
    "duration": 361,
    "start_time": "2024-12-22T01:59:26.483Z"
   },
   {
    "duration": 50,
    "start_time": "2024-12-22T01:59:35.233Z"
   },
   {
    "duration": 8,
    "start_time": "2024-12-22T01:59:40.456Z"
   },
   {
    "duration": 1725,
    "start_time": "2024-12-22T02:00:34.965Z"
   },
   {
    "duration": 1664,
    "start_time": "2024-12-22T02:00:48.465Z"
   },
   {
    "duration": 1672,
    "start_time": "2024-12-22T02:01:07.381Z"
   },
   {
    "duration": 1660,
    "start_time": "2024-12-22T02:01:19.935Z"
   },
   {
    "duration": 51,
    "start_time": "2024-12-22T02:01:22.313Z"
   },
   {
    "duration": 8,
    "start_time": "2024-12-22T02:01:23.258Z"
   },
   {
    "duration": 106,
    "start_time": "2024-12-22T02:01:26.423Z"
   },
   {
    "duration": 1609,
    "start_time": "2024-12-22T02:02:42.521Z"
   },
   {
    "duration": 48,
    "start_time": "2024-12-22T02:02:45.704Z"
   },
   {
    "duration": 7,
    "start_time": "2024-12-22T02:02:45.947Z"
   },
   {
    "duration": 97,
    "start_time": "2024-12-22T02:02:46.179Z"
   },
   {
    "duration": 277,
    "start_time": "2024-12-22T02:02:46.793Z"
   },
   {
    "duration": 19,
    "start_time": "2024-12-22T02:02:47.512Z"
   },
   {
    "duration": 8,
    "start_time": "2024-12-22T02:02:48.107Z"
   },
   {
    "duration": 94,
    "start_time": "2024-12-22T02:02:48.757Z"
   },
   {
    "duration": 326,
    "start_time": "2024-12-22T02:03:07.133Z"
   },
   {
    "duration": 332,
    "start_time": "2024-12-22T02:03:22.694Z"
   },
   {
    "duration": 1579,
    "start_time": "2024-12-22T02:03:55.408Z"
   },
   {
    "duration": 1590,
    "start_time": "2024-12-22T02:04:01.409Z"
   },
   {
    "duration": 1592,
    "start_time": "2024-12-22T02:04:11.538Z"
   },
   {
    "duration": 1582,
    "start_time": "2024-12-22T02:04:21.124Z"
   },
   {
    "duration": 1585,
    "start_time": "2024-12-22T02:04:39.333Z"
   },
   {
    "duration": 1602,
    "start_time": "2024-12-22T02:04:57.297Z"
   },
   {
    "duration": 1606,
    "start_time": "2024-12-22T02:06:02.470Z"
   },
   {
    "duration": 47,
    "start_time": "2024-12-22T02:06:08.402Z"
   },
   {
    "duration": 7,
    "start_time": "2024-12-22T02:06:10.345Z"
   },
   {
    "duration": 7,
    "start_time": "2024-12-22T02:06:25.111Z"
   },
   {
    "duration": 92,
    "start_time": "2024-12-22T02:06:40.202Z"
   },
   {
    "duration": 1606,
    "start_time": "2024-12-22T02:13:41.573Z"
   },
   {
    "duration": 49,
    "start_time": "2024-12-22T02:13:43.186Z"
   },
   {
    "duration": 7,
    "start_time": "2024-12-22T02:13:43.279Z"
   },
   {
    "duration": 2733,
    "start_time": "2024-12-23T18:39:28.609Z"
   },
   {
    "duration": 25,
    "start_time": "2024-12-23T18:39:31.345Z"
   },
   {
    "duration": 9,
    "start_time": "2024-12-23T18:39:31.372Z"
   },
   {
    "duration": 17,
    "start_time": "2024-12-23T18:39:31.384Z"
   },
   {
    "duration": 11,
    "start_time": "2024-12-23T18:39:31.403Z"
   },
   {
    "duration": 15,
    "start_time": "2024-12-23T18:39:31.513Z"
   },
   {
    "duration": 11,
    "start_time": "2024-12-23T18:39:32.520Z"
   },
   {
    "duration": 15,
    "start_time": "2024-12-23T18:39:33.440Z"
   },
   {
    "duration": 7,
    "start_time": "2024-12-23T18:39:35.117Z"
   },
   {
    "duration": 14,
    "start_time": "2024-12-23T18:39:37.003Z"
   },
   {
    "duration": 5,
    "start_time": "2024-12-23T18:39:37.581Z"
   },
   {
    "duration": 12,
    "start_time": "2024-12-23T18:39:38.041Z"
   },
   {
    "duration": 5,
    "start_time": "2024-12-23T18:39:38.691Z"
   },
   {
    "duration": 7,
    "start_time": "2024-12-23T18:39:40.909Z"
   },
   {
    "duration": 6,
    "start_time": "2024-12-23T18:39:42.717Z"
   },
   {
    "duration": 5,
    "start_time": "2024-12-23T18:39:53.238Z"
   },
   {
    "duration": 6,
    "start_time": "2024-12-23T18:39:54.321Z"
   },
   {
    "duration": 4,
    "start_time": "2024-12-23T18:39:55.097Z"
   },
   {
    "duration": 5,
    "start_time": "2024-12-23T18:39:55.721Z"
   },
   {
    "duration": 8,
    "start_time": "2024-12-23T18:39:56.292Z"
   },
   {
    "duration": 17,
    "start_time": "2024-12-23T18:39:58.398Z"
   },
   {
    "duration": 239,
    "start_time": "2024-12-23T18:39:59.136Z"
   },
   {
    "duration": 12,
    "start_time": "2024-12-23T18:40:25.517Z"
   },
   {
    "duration": 106,
    "start_time": "2024-12-23T18:40:28.509Z"
   },
   {
    "duration": 6,
    "start_time": "2024-12-23T18:40:50.870Z"
   },
   {
    "duration": 4,
    "start_time": "2024-12-23T18:40:51.779Z"
   },
   {
    "duration": 8,
    "start_time": "2024-12-23T18:40:52.919Z"
   },
   {
    "duration": 10,
    "start_time": "2024-12-23T18:40:57.442Z"
   },
   {
    "duration": 199,
    "start_time": "2024-12-23T18:40:58.777Z"
   },
   {
    "duration": 12,
    "start_time": "2024-12-23T18:41:06.072Z"
   },
   {
    "duration": 101,
    "start_time": "2024-12-23T18:41:10.731Z"
   },
   {
    "duration": 14,
    "start_time": "2024-12-23T18:41:29.458Z"
   },
   {
    "duration": 8,
    "start_time": "2024-12-23T18:41:29.951Z"
   },
   {
    "duration": 213,
    "start_time": "2024-12-23T18:41:30.168Z"
   },
   {
    "duration": 5,
    "start_time": "2024-12-23T18:41:30.693Z"
   },
   {
    "duration": 5,
    "start_time": "2024-12-23T18:41:31.269Z"
   },
   {
    "duration": 5,
    "start_time": "2024-12-23T18:41:31.653Z"
   },
   {
    "duration": 152,
    "start_time": "2024-12-23T18:41:31.956Z"
   },
   {
    "duration": 14175,
    "start_time": "2024-12-23T18:41:36.089Z"
   },
   {
    "duration": 50,
    "start_time": "2024-12-23T18:41:59.308Z"
   },
   {
    "duration": 7908,
    "start_time": "2024-12-23T18:42:02.754Z"
   },
   {
    "duration": 7809,
    "start_time": "2024-12-23T18:42:17.264Z"
   },
   {
    "duration": 1081231,
    "start_time": "2024-12-23T18:42:25.075Z"
   },
   {
    "duration": 948678,
    "start_time": "2024-12-23T19:45:48.935Z"
   },
   {
    "duration": 1815757,
    "start_time": "2024-12-23T20:03:24.106Z"
   },
   {
    "duration": 3165393,
    "start_time": "2024-12-24T02:41:55.061Z"
   },
   {
    "duration": 274,
    "start_time": "2024-12-24T04:01:59.910Z"
   },
   {
    "duration": 17,
    "start_time": "2024-12-24T04:02:01.292Z"
   },
   {
    "duration": 8,
    "start_time": "2024-12-24T04:02:01.850Z"
   },
   {
    "duration": 96,
    "start_time": "2024-12-24T04:02:02.602Z"
   },
   {
    "duration": 1162,
    "start_time": "2024-12-24T04:07:40.813Z"
   },
   {
    "duration": 294,
    "start_time": "2024-12-24T04:07:41.977Z"
   },
   {
    "duration": 1153,
    "start_time": "2024-12-24T04:07:51.471Z"
   },
   {
    "duration": 13,
    "start_time": "2024-12-24T04:07:53.881Z"
   },
   {
    "duration": 44,
    "start_time": "2024-12-24T04:08:14.527Z"
   },
   {
    "duration": 7,
    "start_time": "2024-12-24T04:08:18.029Z"
   },
   {
    "duration": 98,
    "start_time": "2024-12-24T04:08:20.728Z"
   },
   {
    "duration": 94,
    "start_time": "2024-12-24T04:08:51.763Z"
   },
   {
    "duration": 437,
    "start_time": "2024-12-24T06:08:40.644Z"
   },
   {
    "duration": 38,
    "start_time": "2024-12-24T06:11:13.601Z"
   },
   {
    "duration": 8,
    "start_time": "2024-12-24T06:11:29.462Z"
   },
   {
    "duration": 95,
    "start_time": "2024-12-24T06:13:35.725Z"
   },
   {
    "duration": 1659,
    "start_time": "2024-12-24T06:40:58.654Z"
   },
   {
    "duration": 57,
    "start_time": "2024-12-24T06:41:01.817Z"
   },
   {
    "duration": 8,
    "start_time": "2024-12-24T06:41:06.664Z"
   },
   {
    "duration": 95,
    "start_time": "2024-12-24T06:41:11.579Z"
   },
   {
    "duration": 268,
    "start_time": "2024-12-24T06:41:17.444Z"
   },
   {
    "duration": 25,
    "start_time": "2024-12-24T06:41:20.350Z"
   },
   {
    "duration": 8,
    "start_time": "2024-12-24T06:41:21.621Z"
   },
   {
    "duration": 94,
    "start_time": "2024-12-24T06:41:23.603Z"
   },
   {
    "duration": 276,
    "start_time": "2024-12-24T06:41:26.989Z"
   },
   {
    "duration": 16,
    "start_time": "2024-12-24T06:41:28.474Z"
   },
   {
    "duration": 7,
    "start_time": "2024-12-24T06:41:30.012Z"
   },
   {
    "duration": 97,
    "start_time": "2024-12-24T06:41:31.189Z"
   }
  ],
  "kernelspec": {
   "display_name": "Python 3 (ipykernel)",
   "language": "python",
   "name": "python3"
  },
  "language_info": {
   "codemirror_mode": {
    "name": "ipython",
    "version": 3
   },
   "file_extension": ".py",
   "mimetype": "text/x-python",
   "name": "python",
   "nbconvert_exporter": "python",
   "pygments_lexer": "ipython3",
   "version": "3.9.19"
  },
  "toc": {
   "base_numbering": 1,
   "nav_menu": {},
   "number_sections": true,
   "sideBar": true,
   "skip_h1_title": true,
   "title_cell": "Table of Contents",
   "title_sidebar": "Contents",
   "toc_cell": false,
   "toc_position": {},
   "toc_section_display": true,
   "toc_window_display": false
  }
 },
 "nbformat": 4,
 "nbformat_minor": 2
}
